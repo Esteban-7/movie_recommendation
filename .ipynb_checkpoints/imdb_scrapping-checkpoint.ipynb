{
 "cells": [
  {
   "cell_type": "code",
   "execution_count": 12,
   "id": "b694ebcf-6c0e-4c24-bc12-10b9eb103a11",
   "metadata": {},
   "outputs": [],
   "source": [
    "import requests \n",
    "from bs4 import BeautifulSoup\n",
    "import re # regex expression\n",
    "import tqdm.notebook as tq # time loop in notebook\n",
    "import re"
   ]
  },
  {
   "cell_type": "code",
   "execution_count": 5,
   "id": "eb9f11ab-19a8-4ba8-948b-94d511cb907e",
   "metadata": {},
   "outputs": [],
   "source": [
    "def Get_hrefs(url):\n",
    "    # Request url and gets the hrefs for the movies recommended in the \"more like this\" section in imdb page for a movie.\n",
    "    # Returns a list of hrefs elements that link to the movies recommended by imdb\n",
    "    \n",
    "    response = requests.get(url)\n",
    "    result = response.content    \n",
    "    soup = BeautifulSoup(result, 'html.parser')\n",
    "    \n",
    "    # init the list with all href\n",
    "    hrefs = []\n",
    "    \n",
    "    for poster in soup.find_all(\"div\",attrs={'class':'ipc-poster-card ipc-poster-card--base ipc-poster-card--dynamic-width ipc-sub-grid-item ipc-sub-grid-item--span-2'}):\n",
    "        for link in poster.find_all(\"a\", attrs = {\"class\":\"ipc-lockup-overlay ipc-focusable\"}):\n",
    "            if \"href\" in link.attrs:\n",
    "                if link.get(\"href\") not in hrefs:\n",
    "                    movie_id = link.get(\"href\").split(\"/?\")[0] #only the first part of the link is required as it contains the id of the film. The next sequence might cause errors. \n",
    "                    hrefs.append(movie_id) #save the links (ids) in a list.\n",
    "    return(hrefs)"
   ]
  },
  {
   "cell_type": "code",
   "execution_count": 36,
   "id": "22212cbb-af17-451e-8699-b83970d45f0b",
   "metadata": {},
   "outputs": [],
   "source": [
    "def get_recommendations(url,depth):\n",
    "    #Searches in the IMDB \"more like this\" for recommendations based on the link of one movie. \n",
    "    #Input: IMDB link to a movie/show. Depth: amount of iterations to search in the \"more like this\"\n",
    "    #Output: a list of links for imdb movies/shows. \n",
    "    \n",
    "    urls_checked = []\n",
    "\n",
    "    for i in tq.tqdm(range(depth)):\n",
    "        if i == 0:\n",
    "            \n",
    "            hrefs  = Get_hrefs(url)\n",
    "            urls_checked.append(url) \n",
    "        else:\n",
    "            hrefs_temp = []\n",
    "            for href in tq.tqdm(hrefs):\n",
    "                new_url = \"https://www.imdb.com\" + href\n",
    "                if new_url not in urls_checked:\n",
    "                    hrefs_temp += Get_hrefs(new_url)\n",
    "                    urls_checked.append(new_url)\n",
    "                    hrefs_temp = list(set(hrefs_temp))\n",
    "            hrefs += [recom for recom in hrefs_temp if recom not in hrefs]\n",
    "    \n",
    "    links = [\"https://www.imdb.com\" + i for i in hrefs]\n",
    "    \n",
    "    return links"
   ]
  },
  {
   "cell_type": "code",
   "execution_count": 47,
   "id": "bacf56db-82e7-430d-abc0-1b4e104ef5f6",
   "metadata": {},
   "outputs": [],
   "source": [
    "#dictionaries must have all numeric information directly in numbers.\n",
    "\n",
    "movie1 = {\"name\": \"The Matrix\",\n",
    "          \"imdb_id\": \"tt0133093\",\n",
    "         \"year_released\": 1997,\n",
    "         \"runtime\": 136,\n",
    "          \"imdb_reviews\": 60,\n",
    "         \"external_reviews\": 70,\n",
    "         \"imdb_rating\": 8.7,\n",
    "         \"metacritic_punctuation\": 73,\n",
    "          \"budget\": 63000000,\n",
    "          \"earning_worldwide\": 467222728,\n",
    "          \"earning_US&CA\": 172076928,\n",
    "          \"genres\": [\"action\",\"sci-fi\"],\n",
    "          \"directors\":[\"Lilly Wachows\",\"kiLana Wachowski\"],\n",
    "          \"cast\":[\"keanu reevs\", \"carrie anne moss\",\"Laurence Fishburne\"],\n",
    "          \"imdb_recommendations\": {},\n",
    "          \"new_recommendations\": {}\n",
    "         } \n",
    "\n",
    "movie2 = {\"name\": \"The Matrix Reloaded\",\n",
    "          \"imdb_id\": \"tt0234215\",\n",
    "         \"year_released\": 2003,\n",
    "         \"runtime\": 138,\n",
    "          \"imdb_reviews\": 2900,\n",
    "         \"external_reviews\": 184,\n",
    "         \"imdb_rating\": 7.2,\n",
    "         \"metacritic_punctuation\": 62,\n",
    "          \"budget\": 150000000,\n",
    "          \"earning_worldwide\": 741847937,\n",
    "          \"earning_US&CA\": 281576461,\n",
    "          \"genres\": [\"action\",\"sci-fi\"],\n",
    "          \"directors\":[\"Lilly Wachows\",\"kiLana Wachowski\"],\n",
    "          \"cast\":[\"keanu reevs\", \"carrie anne moss\",\"Helmut Bakaitis\"],\n",
    "          \"imdb_recommendations\": {},\n",
    "          \"new_recommendations\": {}\n",
    "         } "
   ]
  },
  {
   "cell_type": "code",
   "execution_count": 41,
   "id": "0444d62d-5a91-4fb9-9978-a258a4ce3ba5",
   "metadata": {},
   "outputs": [],
   "source": [
    "def compare_lists(list1,list2):\n",
    "    #This functions takes two lists and estimates how similar the second list is to the first one. Result might be between 0 and 1.\n",
    "    list1 = list(set(list1))\n",
    "    list2 = list(set(list2))\n",
    "    \n",
    "    common_elements = len(set(list1) & set(list2))\n",
    "    \n",
    "    common_elements_proportion = common_elements / len(list1)\n",
    "    \n",
    "    return common_elements_proportion"
   ]
  },
  {
   "cell_type": "code",
   "execution_count": 48,
   "id": "2ae706cd-dfd4-4a6c-ba40-75901836252f",
   "metadata": {},
   "outputs": [],
   "source": [
    "movie1_vector = [movie1[\"year_released\"],movie1[\"runtime\"],movie1[\"imdb_reviews\"],movie1[\"external_reviews\"],movie1[\"imdb_rating\"],movie1[\"metacritic_punctuation\"],movie1[\"budget\"],\n",
    "                    movie1[\"earning_worldwide\"],movie1[\"earning_US&CA\"],1,1,1]"
   ]
  },
  {
   "cell_type": "code",
   "execution_count": 50,
   "id": "2fcaaa72-82f3-4161-bfcc-52afb162d576",
   "metadata": {},
   "outputs": [
    {
     "name": "stdout",
     "output_type": "stream",
     "text": [
      "[1997, 136, 60, 70, 8.7, 73, 63000000, 467222728, 172076928, 1, 1, 1]\n",
      "[2003, 138, 2900, 184, 7.2, 62, 150000000, 741847937, 281576461, 0.6666666666666666, 1.0, 0.6666666666666666]\n"
     ]
    }
   ],
   "source": [
    "movie2_vector = [movie2[\"year_released\"],movie2[\"runtime\"],movie2[\"imdb_reviews\"],movie2[\"external_reviews\"],movie2[\"imdb_rating\"],movie2[\"metacritic_punctuation\"],movie2[\"budget\"],\n",
    "                    movie2[\"earning_worldwide\"],movie2[\"earning_US&CA\"]]\n",
    "\n",
    "common_genres_rate = compare_lists(movie1[\"genres\"],movie2[\"genres\"])\n",
    "movie2_vector.append(common_genres_rate)\n",
    "\n",
    "common_directors_rate = compare_lists(movie1[\"directors\"],movie2[\"directors\"])\n",
    "movie2_vector.append(common_directors_rate)\n",
    "\n",
    "common_cast_rate = compare_lists(movie1[\"cast\"],movie2[\"cast\"])\n",
    "movie2_vector.append(common_cast_rate)\n",
    "\n",
    "print(movie1_vector)\n",
    "print(movie2_vector)"
   ]
  },
  {
   "cell_type": "code",
   "execution_count": 53,
   "id": "45fcfc3b-48ac-408d-af30-17932c1f11a9",
   "metadata": {},
   "outputs": [
    {
     "name": "stdout",
     "output_type": "stream",
     "text": [
      "308185257.84597576\n"
     ]
    }
   ],
   "source": [
    "from math import dist\n",
    "\n",
    "print(dist(movie1_vector,movie2_vector))"
   ]
  },
  {
   "cell_type": "code",
   "execution_count": 31,
   "id": "e98f8dec-f525-43bf-bdde-112fe5b108f6",
   "metadata": {},
   "outputs": [],
   "source": [
    "def get_year(movie_id):\n",
    "    url = \"https://www.imdb.com/title/\"+movie_id+ \"/releaseinfo?ref_=tt_ov_rdat\"\n",
    "    \n",
    "    print(url)\n",
    "    try:\n",
    "        response = requests.get(url)\n",
    "        result = response.content    \n",
    "        soup = BeautifulSoup(result, 'html.parser')\n",
    "        year = soup.find(\"td\", attrs = {\"class\" : \"release-date-item__date\"}).getText()\n",
    "        year = int(year.split(\" \")[2]) #split the date by whitespaces. Get the third element, which is the year of release.\n",
    "        \n",
    "        return year\n",
    "    except:\n",
    "        print(\"Date not available\")\n",
    "        return 0"
   ]
  },
  {
   "cell_type": "code",
   "execution_count": 40,
   "id": "ee315455-9c0b-4a00-bc80-dbbc31ccf9d5",
   "metadata": {},
   "outputs": [],
   "source": [
    "def get_runtime(movie_id):\n",
    "    url = \"https://www.imdb.com/title/\"+movie_id+ \"/technical?ref_=tt_spec_sm\"\n",
    "    \n",
    "    print(url)\n",
    "    try:\n",
    "        response = requests.get(url)\n",
    "        result = response.content    \n",
    "        soup = BeautifulSoup(result, 'html.parser')\n",
    "        \n",
    "        table = soup.find(\"table\", attrs = {\"class\" : \"dataTable labelValueTable\"}).find(\"tbody\")\n",
    "        \n",
    "        children = table.contents\n",
    "        runtime = children[1].contents[3].getText().split(\"(\")[1]\n",
    "        runtime = runtime.split(\" \")[0]\n",
    "        \n",
    "        return runtime\n",
    "    \n",
    "    except:\n",
    "        print(\"Runtime not available\")\n",
    "        return 0"
   ]
  },
  {
   "cell_type": "code",
   "execution_count": 16,
   "id": "e69d74d7-2284-4a30-bd04-b0ea0994be0f",
   "metadata": {},
   "outputs": [],
   "source": [
    "def get_votes(movie_id):\n",
    "    url = \"https://www.imdb.com/title/\"+movie_id+ \"/ratings/\"\n",
    "    \n",
    "    print(url)\n",
    "    try:\n",
    "        response = requests.get(url)\n",
    "        result = response.content    \n",
    "        soup = BeautifulSoup(result, 'html.parser')\n",
    "        \n",
    "        votes = soup.find(\"td\", attrs = {\"class\" : \"ratingTable Selected\"}).find(\"div\", attrs = {\"class\":\"smallcell\"}).getText()\n",
    "        votes = re.sub(\"[^0-9]\", \"\", votes)\n",
    "        return int(votes)\n",
    "    \n",
    "    except:\n",
    "        print(\"Votes not available\")\n",
    "        return 0"
   ]
  },
  {
   "cell_type": "code",
   "execution_count": 41,
   "id": "5d3838d4-9b5c-4e78-aa09-b3f4e25efca2",
   "metadata": {},
   "outputs": [],
   "source": [
    "def get_metascore(movie_id):\n",
    "    url = \"https://www.imdb.com/title/\"+movie_id+ \"/criticreviews/\"\n",
    "    \n",
    "    print(url)\n",
    "    try:\n",
    "        response = requests.get(url)\n",
    "        result = response.content    \n",
    "        soup = BeautifulSoup(result, 'html.parser')\n",
    "        \n",
    "        metascore = soup.find(\"div\", attrs = {\"class\" : \"metascore_block\"}).find(\"div\", attrs = {\"class\":\"metascore_wrap\"})\n",
    "        metascore = metascore.find(\"span\").getText()\n",
    "        \n",
    "        return int(metascore)\n",
    "    \n",
    "    except:\n",
    "        print(\"Metascore not available\")\n",
    "        return 0"
   ]
  },
  {
   "cell_type": "code",
   "execution_count": 72,
   "id": "049f51ac-f9fd-4c55-9b6e-da9d9864cb99",
   "metadata": {},
   "outputs": [],
   "source": [
    "def get_num_reviews(movie_id):\n",
    "    url = \"https://www.imdb.com/title/\"+movie_id+ \"/reviews/\"\n",
    "    \n",
    "    print(url)\n",
    "    try:\n",
    "        response = requests.get(url)\n",
    "        result = response.content    \n",
    "        soup = BeautifulSoup(result, 'html.parser')\n",
    "        \n",
    "        num_reviews = soup.find(\"div\", attrs = {\"class\" : \"lister\"}).find(\"div\", attrs = {\"class\":\"header\"})\n",
    "        num_reviews = num_reviews.find(\"span\").getText()\n",
    "        num_reviews = re.sub(\"[^0-9]\", \"\", num_reviews)\n",
    "        return int(num_reviews)\n",
    "    \n",
    "    except:\n",
    "        print(\"Number of reviews not available\")\n",
    "        return 0"
   ]
  },
  {
   "cell_type": "code",
   "execution_count": 76,
   "id": "eac62516-9b02-450e-bb86-c16bd0afef49",
   "metadata": {},
   "outputs": [],
   "source": [
    "def get_num_exernal_reviews(movie_id):\n",
    "    url = \"https://www.imdb.com/title/\"+movie_id+ \"/externalreviews/\"\n",
    "    \n",
    "    print(url)\n",
    "    try:\n",
    "        response = requests.get(url)\n",
    "        result = response.content    \n",
    "        soup = BeautifulSoup(result, 'html.parser')\n",
    "        \n",
    "        num_reviews_external = soup.find(\"div\", attrs = {\"id\" : \"external_reviews_content\"}).find(\"div\", attrs = {\"class\":\"nav\"}).getText()\n",
    "        num_reviews_external = re.sub(\"[^0-9]\", \"\", num_reviews_external)\n",
    "        return int(num_reviews_external)\n",
    "    \n",
    "    except:\n",
    "        print(\"Number of external reviews not available\")\n",
    "        return 0"
   ]
  },
  {
   "cell_type": "code",
   "execution_count": 77,
   "id": "a9122be8-7d5c-484b-bd0c-1f2529e74816",
   "metadata": {},
   "outputs": [
    {
     "name": "stdout",
     "output_type": "stream",
     "text": [
      "https://www.imdb.com/title/tt1707386/externalreviews/\n"
     ]
    },
    {
     "data": {
      "text/plain": [
       "498"
      ]
     },
     "execution_count": 77,
     "metadata": {},
     "output_type": "execute_result"
    }
   ],
   "source": [
    "e = get_num_exernal_reviews(\"tt1707386\")\n",
    "e"
   ]
  },
  {
   "cell_type": "code",
   "execution_count": 28,
   "id": "4cf9ae6d-02c7-49be-9628-5d8f14702ee2",
   "metadata": {},
   "outputs": [
    {
     "data": {
      "text/plain": [
       "0"
      ]
     },
     "execution_count": 28,
     "metadata": {},
     "output_type": "execute_result"
    }
   ],
   "source": [
    "e"
   ]
  }
 ],
 "metadata": {
  "kernelspec": {
   "display_name": "Python 3",
   "language": "python",
   "name": "python3"
  },
  "language_info": {
   "codemirror_mode": {
    "name": "ipython",
    "version": 3
   },
   "file_extension": ".py",
   "mimetype": "text/x-python",
   "name": "python",
   "nbconvert_exporter": "python",
   "pygments_lexer": "ipython3",
   "version": "3.8.8"
  }
 },
 "nbformat": 4,
 "nbformat_minor": 5
}

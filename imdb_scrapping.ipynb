{
 "cells": [
  {
   "cell_type": "code",
   "execution_count": 85,
   "id": "b694ebcf-6c0e-4c24-bc12-10b9eb103a11",
   "metadata": {},
   "outputs": [],
   "source": [
    "import requests \n",
    "from bs4 import BeautifulSoup\n",
    "import re # regex expression\n",
    "import tqdm.notebook as tq # time loop in notebook\n",
    "import re"
   ]
  },
  {
   "cell_type": "code",
   "execution_count": 4,
   "id": "eb9f11ab-19a8-4ba8-948b-94d511cb907e",
   "metadata": {},
   "outputs": [],
   "source": [
    "def Get_hrefs(url):\n",
    "    # Request url and gets the hrefs for the movies recommended in the \"more like this\" section in imdb page for a movie.\n",
    "    # Returns a list of hrefs elements that link to the movies recommended by imdb\n",
    "    \n",
    "    response = requests.get(url)\n",
    "    result = response.content    \n",
    "    soup = BeautifulSoup(result, 'html.parser')\n",
    "    \n",
    "    # init the list with all href\n",
    "    hrefs = []\n",
    "    \n",
    "    for poster in soup.find_all(\"div\",attrs={'class':'ipc-poster-card ipc-poster-card--base ipc-poster-card--dynamic-width ipc-sub-grid-item ipc-sub-grid-item--span-2'}):\n",
    "        for link in poster.find_all(\"a\", attrs = {\"class\":\"ipc-lockup-overlay ipc-focusable\"}):\n",
    "            if \"href\" in link.attrs:\n",
    "                if link.get(\"href\") not in hrefs:\n",
    "                    movie_id = link.get(\"href\").split(\"/?\")[0] #only the first part of the link is required as it contains the id of the film. The next sequence might cause errors. \n",
    "                    hrefs.append(movie_id) #save the links (ids) in a list.\n",
    "    return(hrefs)"
   ]
  },
  {
   "cell_type": "code",
   "execution_count": 6,
   "id": "22212cbb-af17-451e-8699-b83970d45f0b",
   "metadata": {},
   "outputs": [],
   "source": [
    "def get_recommendations(url,depth):\n",
    "    #Searches in the IMDB \"more like this\" for recommendations based on the link of one movie. \n",
    "    #Input: IMDB link to a movie/show. Depth: amount of iterations to search in the \"more like this\"\n",
    "    #Output: a list of links for imdb movies/shows. \n",
    "    \n",
    "    urls_checked = []\n",
    "\n",
    "    for i in tq.tqdm(range(depth)):\n",
    "        if i == 0:\n",
    "            \n",
    "            hrefs  = Get_hrefs(url)\n",
    "            urls_checked.append(url) \n",
    "        else:\n",
    "            hrefs_temp = []\n",
    "            for href in tq.tqdm(hrefs):\n",
    "                new_url = \"https://www.imdb.com\" + href\n",
    "                if new_url not in urls_checked:\n",
    "                    hrefs_temp += Get_hrefs(new_url)\n",
    "                    urls_checked.append(new_url)\n",
    "                    hrefs_temp = list(set(hrefs_temp))\n",
    "            hrefs += [recom for recom in hrefs_temp if recom not in hrefs]\n",
    "    \n",
    "    links = [i.split(\"title/\")[1] for i in hrefs]\n",
    "    \n",
    "    return links"
   ]
  },
  {
   "cell_type": "code",
   "execution_count": 7,
   "id": "93414620-8ff0-4721-a373-b3d0ceeb05e8",
   "metadata": {
    "collapsed": true,
    "jupyter": {
     "outputs_hidden": true
    },
    "tags": []
   },
   "outputs": [
    {
     "data": {
      "application/vnd.jupyter.widget-view+json": {
       "model_id": "2b7b132416b948eeb86ef6ea23d6608b",
       "version_major": 2,
       "version_minor": 0
      },
      "text/plain": [
       "  0%|          | 0/2 [00:00<?, ?it/s]"
      ]
     },
     "metadata": {},
     "output_type": "display_data"
    },
    {
     "data": {
      "application/vnd.jupyter.widget-view+json": {
       "model_id": "93a9251332534f278ce19305a667155a",
       "version_major": 2,
       "version_minor": 0
      },
      "text/plain": [
       "  0%|          | 0/12 [00:00<?, ?it/s]"
      ]
     },
     "metadata": {},
     "output_type": "display_data"
    },
    {
     "data": {
      "text/plain": [
       "['tt1064932',\n",
       " 'tt0120731',\n",
       " 'tt0119038',\n",
       " 'tt1754108',\n",
       " 'tt1063669',\n",
       " 'tt3547740',\n",
       " 'tt0249462',\n",
       " 'tt2800240',\n",
       " 'tt10186972',\n",
       " 'tt0364517',\n",
       " 'tt0039234',\n",
       " 'tt0301357',\n",
       " 'tt0314331',\n",
       " 'tt2147995',\n",
       " 'tt0948535',\n",
       " 'tt0929632',\n",
       " 'tt5657028',\n",
       " 'tt8162330',\n",
       " 'tt4085696',\n",
       " 'tt0114732',\n",
       " 'tt0119164',\n",
       " 'tt0100681',\n",
       " 'tt0120471',\n",
       " 'tt0039840',\n",
       " 'tt0765432',\n",
       " 'tt2066051',\n",
       " 'tt0044324',\n",
       " 'tt6859418',\n",
       " 'tt10366460',\n",
       " 'tt4400058',\n",
       " 'tt0426578',\n",
       " 'tt0096052',\n",
       " 'tt14485734',\n",
       " 'tt1369667',\n",
       " 'tt0118976',\n",
       " 'tt5736696',\n",
       " 'tt9770150',\n",
       " 'tt3421514',\n",
       " 'tt0083316',\n",
       " 'tt0106332',\n",
       " 'tt0250258',\n",
       " 'tt0032383',\n",
       " 'tt3478962',\n",
       " 'tt0344510',\n",
       " 'tt0213847',\n",
       " 'tt0038913',\n",
       " 'tt0105323',\n",
       " 'tt0494271',\n",
       " 'tt13349892',\n",
       " 'tt3013602',\n",
       " 'tt0078907',\n",
       " 'tt2987732',\n",
       " 'tt0109831',\n",
       " 'tt0039391',\n",
       " 'tt2044128',\n",
       " 'tt1529235',\n",
       " 'tt7476116',\n",
       " 'tt0384369',\n",
       " 'tt0405094',\n",
       " 'tt0114808',\n",
       " 'tt3530978',\n",
       " 'tt0248408',\n",
       " 'tt0012532',\n",
       " 'tt10405142',\n",
       " 'tt1440232',\n",
       " 'tt0286499',\n",
       " 'tt0039776',\n",
       " 'tt1793931',\n",
       " 'tt0474518',\n",
       " 'tt0039038',\n",
       " 'tt0408777',\n",
       " 'tt1007029',\n",
       " 'tt1528313',\n",
       " 'tt1533117',\n",
       " 'tt0077276',\n",
       " 'tt0427152',\n",
       " 'tt0243155',\n",
       " 'tt0243493',\n",
       " 'tt2179121',\n",
       " 'tt0039243',\n",
       " 'tt1465487',\n",
       " 'tt0095765',\n",
       " 'tt2053425',\n",
       " 'tt1587877',\n",
       " 'tt0039335',\n",
       " 'tt0372824',\n",
       " 'tt0104615',\n",
       " 'tt1081935',\n",
       " 'tt0276751',\n",
       " 'tt0450188',\n",
       " 'tt1924396',\n",
       " 'tt0108500',\n",
       " 'tt1661420',\n",
       " 'tt0109440',\n",
       " 'tt3042408',\n",
       " 'tt6556670',\n",
       " 'tt0130827',\n",
       " 'tt4176826',\n",
       " 'tt0084555']"
      ]
     },
     "execution_count": 7,
     "metadata": {},
     "output_type": "execute_result"
    }
   ],
   "source": [
    "x = get_recommendations(\"https://www.imdb.com/title/tt0372824/\",2)\n",
    "x"
   ]
  },
  {
   "cell_type": "code",
   "execution_count": 46,
   "id": "bacf56db-82e7-430d-abc0-1b4e104ef5f6",
   "metadata": {},
   "outputs": [],
   "source": [
    "#dictionaries must have all numeric information directly in numbers.\n",
    "\n",
    "movie1 = {\"name\": \"The Matrix\",\n",
    "          \"imdb_id\": \"tt0133093\",\n",
    "         \"year_released\": 1997,\n",
    "         \"runtime\": 136,\n",
    "          \"imdb_reviews\": 60,\n",
    "         \"external_reviews\": 70,\n",
    "         \"imdb_rating\": 8.7,\n",
    "         \"metacritic_punctuation\": 73,\n",
    "          \"budget\": 63000000,\n",
    "          \"earning_worldwide\": 467222728,\n",
    "          \"earning_US&CA\": 172076928,\n",
    "          \"genres\": [\"action\",\"sci-fi\"],\n",
    "          \"directors\":[\"Lilly Wachows\",\"kiLana Wachowski\"],\n",
    "          \"cast\":[\"keanu reevs\", \"carrie anne moss\",\"Laurence Fishburne\"],\n",
    "          \"imdb_recommendations\": {},\n",
    "          \"new_recommendations\": {}\n",
    "         } \n",
    "\n",
    "movie2 = {\"name\": \"The Matrix Reloaded\",\n",
    "          \"imdb_id\": \"tt0234215\",\n",
    "         \"year_released\": 2003,\n",
    "         \"runtime\": 138,\n",
    "          \"imdb_reviews\": 2900,\n",
    "         \"external_reviews\": 184,\n",
    "         \"imdb_rating\": 7.2,\n",
    "         \"metacritic_punctuation\": 62,\n",
    "          \"budget\": 150000000,\n",
    "          \"earning_worldwide\": 741847937,\n",
    "          \"earning_US&CA\": 281576461,\n",
    "          \"genres\": [\"action\",\"sci-fi\"],\n",
    "          \"directors\":[\"Lilly Wachows\",\"kiLana Wachowski\"],\n",
    "          \"cast\":[\"keanu reevs\", \"carrie anne moss\",\"Helmut Bakaitis\"],\n",
    "          \"imdb_recommendations\": {},\n",
    "          \"new_recommendations\": {}\n",
    "         } "
   ]
  },
  {
   "cell_type": "code",
   "execution_count": 47,
   "id": "0444d62d-5a91-4fb9-9978-a258a4ce3ba5",
   "metadata": {},
   "outputs": [],
   "source": [
    "def compare_lists(list1,list2):\n",
    "    #This functions takes two lists and estimates how similar the second list is to the first one. Result might be between 0 and 1.\n",
    "    list1 = list(set(list1))\n",
    "    list2 = list(set(list2))\n",
    "    \n",
    "    common_elements = len(set(list1) & set(list2))\n",
    "    \n",
    "    common_elements_proportion = common_elements / len(list1)\n",
    "    \n",
    "    return common_elements_proportion"
   ]
  },
  {
   "cell_type": "code",
   "execution_count": 48,
   "id": "2ae706cd-dfd4-4a6c-ba40-75901836252f",
   "metadata": {},
   "outputs": [],
   "source": [
    "movie1_vector = [movie1[\"year_released\"],movie1[\"runtime\"],movie1[\"imdb_reviews\"],movie1[\"external_reviews\"],movie1[\"imdb_rating\"],movie1[\"metacritic_punctuation\"],movie1[\"budget\"],\n",
    "                    movie1[\"earning_worldwide\"],movie1[\"earning_US&CA\"],1,1,1]"
   ]
  },
  {
   "cell_type": "code",
   "execution_count": 49,
   "id": "2fcaaa72-82f3-4161-bfcc-52afb162d576",
   "metadata": {},
   "outputs": [
    {
     "name": "stdout",
     "output_type": "stream",
     "text": [
      "[1997, 136, 60, 70, 8.7, 73, 63000000, 467222728, 172076928, 1, 1, 1]\n",
      "[2003, 138, 2900, 184, 7.2, 62, 150000000, 741847937, 281576461, 1.0, 1.0, 0.6666666666666666]\n"
     ]
    }
   ],
   "source": [
    "movie2_vector = [movie2[\"year_released\"],movie2[\"runtime\"],movie2[\"imdb_reviews\"],movie2[\"external_reviews\"],movie2[\"imdb_rating\"],movie2[\"metacritic_punctuation\"],movie2[\"budget\"],\n",
    "                    movie2[\"earning_worldwide\"],movie2[\"earning_US&CA\"]]\n",
    "\n",
    "common_genres_rate = compare_lists(movie1[\"genres\"],movie2[\"genres\"])\n",
    "movie2_vector.append(common_genres_rate)\n",
    "\n",
    "common_directors_rate = compare_lists(movie1[\"directors\"],movie2[\"directors\"])\n",
    "movie2_vector.append(common_directors_rate)\n",
    "\n",
    "common_cast_rate = compare_lists(movie1[\"cast\"],movie2[\"cast\"])\n",
    "movie2_vector.append(common_cast_rate)\n",
    "\n",
    "print(movie1_vector)\n",
    "print(movie2_vector)"
   ]
  },
  {
   "cell_type": "code",
   "execution_count": 50,
   "id": "55ef6f64-122f-4356-94ab-45f13e7b83a9",
   "metadata": {},
   "outputs": [],
   "source": [
    "from scipy.spatial import distance"
   ]
  },
  {
   "cell_type": "code",
   "execution_count": 51,
   "id": "18655765-174c-4026-b43c-1b5abb6f5fdc",
   "metadata": {},
   "outputs": [
    {
     "data": {
      "text/plain": [
       "308185257.84597576"
      ]
     },
     "execution_count": 51,
     "metadata": {},
     "output_type": "execute_result"
    }
   ],
   "source": [
    "euclidean = distance.euclidean(movie1_vector,movie2_vector)\n",
    "euclidean"
   ]
  },
  {
   "cell_type": "code",
   "execution_count": 53,
   "id": "14b04d9b-c22b-4ee7-a9f1-c7c678d8020d",
   "metadata": {},
   "outputs": [
    {
     "data": {
      "text/plain": [
       "numpy.float64"
      ]
     },
     "execution_count": 53,
     "metadata": {},
     "output_type": "execute_result"
    }
   ],
   "source": [
    "manhattan = distance.cityblock(movie1_vector,movie2_vector)\n",
    "type(manhattan)"
   ]
  },
  {
   "cell_type": "code",
   "execution_count": 60,
   "id": "e380b7e6-0cdc-4ba3-ad70-63aaf7128f3d",
   "metadata": {},
   "outputs": [],
   "source": [
    "def estimateMovieDistance(movie1,movie2):\n",
    "    movie1_vector = [movie1[\"year_released\"],movie1[\"runtime\"],movie1[\"imdb_reviews\"],movie1[\"external_reviews\"],movie1[\"imdb_rating\"],movie1[\"metacritic_punctuation\"],movie1[\"budget\"],\n",
    "                    movie1[\"earning_worldwide\"],movie1[\"earning_US&CA\"],1,1,1]\n",
    "    movie2_vector = [movie2[\"year_released\"],movie2[\"runtime\"],movie2[\"imdb_reviews\"],movie2[\"external_reviews\"],movie2[\"imdb_rating\"],movie2[\"metacritic_punctuation\"],movie2[\"budget\"],\n",
    "                    movie2[\"earning_worldwide\"],movie2[\"earning_US&CA\"]]\n",
    "    \n",
    "    common_genres_rate = compare_lists(movie1[\"genres\"],movie2[\"genres\"])\n",
    "    movie2_vector.append(common_genres_rate)\n",
    "\n",
    "    common_directors_rate = compare_lists(movie1[\"directors\"],movie2[\"directors\"])\n",
    "    movie2_vector.append(common_directors_rate)\n",
    "\n",
    "    common_cast_rate = compare_lists(movie1[\"cast\"],movie2[\"cast\"])\n",
    "    movie2_vector.append(common_cast_rate)\n",
    "\n",
    "    euclidean = distance.euclidean(movie1_vector,movie2_vector)\n",
    "    manhattan = distance.cityblock(movie1_vector,movie2_vector)\n",
    "    manhattan = manhattan.item()\n",
    "    \n",
    "    return euclidean,manhattan"
   ]
  },
  {
   "cell_type": "code",
   "execution_count": 61,
   "id": "7a262d11-3e3d-4c9e-8084-a32222797e77",
   "metadata": {},
   "outputs": [],
   "source": [
    "x = estimateMovieDistance(movie1,movie2)"
   ]
  },
  {
   "cell_type": "code",
   "execution_count": 64,
   "id": "045499fb-fda0-4e32-baab-e1884ec9ee28",
   "metadata": {},
   "outputs": [
    {
     "data": {
      "text/plain": [
       "(308185257.84597576, 471127716.8333333)"
      ]
     },
     "execution_count": 64,
     "metadata": {},
     "output_type": "execute_result"
    }
   ],
   "source": [
    "x"
   ]
  },
  {
   "cell_type": "code",
   "execution_count": 53,
   "id": "45fcfc3b-48ac-408d-af30-17932c1f11a9",
   "metadata": {},
   "outputs": [
    {
     "name": "stdout",
     "output_type": "stream",
     "text": [
      "308185257.84597576\n"
     ]
    }
   ],
   "source": [
    "from math import dist\n",
    "\n",
    "print(dist(movie1_vector,movie2_vector))"
   ]
  },
  {
   "cell_type": "code",
   "execution_count": 31,
   "id": "e98f8dec-f525-43bf-bdde-112fe5b108f6",
   "metadata": {},
   "outputs": [],
   "source": [
    "def get_year(movie_id):\n",
    "    url = \"https://www.imdb.com/title/\"+movie_id+ \"/releaseinfo?ref_=tt_ov_rdat\"\n",
    "    \n",
    "    print(url)\n",
    "    try:\n",
    "        response = requests.get(url)\n",
    "        result = response.content    \n",
    "        soup = BeautifulSoup(result, 'html.parser')\n",
    "        year = soup.find(\"td\", attrs = {\"class\" : \"release-date-item__date\"}).getText()\n",
    "        year = int(year.split(\" \")[2]) #split the date by whitespaces. Get the third element, which is the year of release.\n",
    "        \n",
    "        return year\n",
    "    except:\n",
    "        print(\"Date not available\")\n",
    "        return 0"
   ]
  },
  {
   "cell_type": "code",
   "execution_count": 40,
   "id": "ee315455-9c0b-4a00-bc80-dbbc31ccf9d5",
   "metadata": {},
   "outputs": [],
   "source": [
    "def get_runtime(movie_id):\n",
    "    url = \"https://www.imdb.com/title/\"+movie_id+ \"/technical?ref_=tt_spec_sm\"\n",
    "    \n",
    "    print(url)\n",
    "    try:\n",
    "        response = requests.get(url)\n",
    "        result = response.content    \n",
    "        soup = BeautifulSoup(result, 'html.parser')\n",
    "        \n",
    "        table = soup.find(\"table\", attrs = {\"class\" : \"dataTable labelValueTable\"}).find(\"tbody\")\n",
    "        \n",
    "        children = table.contents\n",
    "        runtime = children[1].contents[3].getText().split(\"(\")[1]\n",
    "        runtime = runtime.split(\" \")[0]\n",
    "        \n",
    "        return runtime\n",
    "    \n",
    "    except:\n",
    "        print(\"Runtime not available\")\n",
    "        return 0"
   ]
  },
  {
   "cell_type": "code",
   "execution_count": 16,
   "id": "e69d74d7-2284-4a30-bd04-b0ea0994be0f",
   "metadata": {},
   "outputs": [],
   "source": [
    "def get_votes(movie_id):\n",
    "    url = \"https://www.imdb.com/title/\"+movie_id+ \"/ratings/\"\n",
    "    \n",
    "    print(url)\n",
    "    try:\n",
    "        response = requests.get(url)\n",
    "        result = response.content    \n",
    "        soup = BeautifulSoup(result, 'html.parser')\n",
    "        \n",
    "        votes = soup.find(\"td\", attrs = {\"class\" : \"ratingTable Selected\"}).find(\"div\", attrs = {\"class\":\"smallcell\"}).getText()\n",
    "        votes = re.sub(\"[^0-9]\", \"\", votes)\n",
    "        return int(votes)\n",
    "    \n",
    "    except:\n",
    "        print(\"Votes not available\")\n",
    "        return 0"
   ]
  },
  {
   "cell_type": "code",
   "execution_count": 41,
   "id": "5d3838d4-9b5c-4e78-aa09-b3f4e25efca2",
   "metadata": {},
   "outputs": [],
   "source": [
    "def get_metascore(movie_id):\n",
    "    url = \"https://www.imdb.com/title/\"+movie_id+ \"/criticreviews/\"\n",
    "    \n",
    "    print(url)\n",
    "    try:\n",
    "        response = requests.get(url)\n",
    "        result = response.content    \n",
    "        soup = BeautifulSoup(result, 'html.parser')\n",
    "        \n",
    "        metascore = soup.find(\"div\", attrs = {\"class\" : \"metascore_block\"}).find(\"div\", attrs = {\"class\":\"metascore_wrap\"})\n",
    "        metascore = metascore.find(\"span\").getText()\n",
    "        \n",
    "        return int(metascore)\n",
    "    \n",
    "    except:\n",
    "        print(\"Metascore not available\")\n",
    "        return 0"
   ]
  },
  {
   "cell_type": "code",
   "execution_count": 72,
   "id": "049f51ac-f9fd-4c55-9b6e-da9d9864cb99",
   "metadata": {},
   "outputs": [],
   "source": [
    "def get_num_reviews(movie_id):\n",
    "    url = \"https://www.imdb.com/title/\"+movie_id+ \"/reviews/\"\n",
    "    \n",
    "    print(url)\n",
    "    try:\n",
    "        response = requests.get(url)\n",
    "        result = response.content    \n",
    "        soup = BeautifulSoup(result, 'html.parser')\n",
    "        \n",
    "        num_reviews = soup.find(\"div\", attrs = {\"class\" : \"lister\"}).find(\"div\", attrs = {\"class\":\"header\"})\n",
    "        num_reviews = num_reviews.find(\"span\").getText()\n",
    "        num_reviews = re.sub(\"[^0-9]\", \"\", num_reviews)\n",
    "        return int(num_reviews)\n",
    "    \n",
    "    except:\n",
    "        print(\"Number of reviews not available\")\n",
    "        return 0"
   ]
  },
  {
   "cell_type": "code",
   "execution_count": 76,
   "id": "eac62516-9b02-450e-bb86-c16bd0afef49",
   "metadata": {},
   "outputs": [],
   "source": [
    "def get_num_exernal_reviews(movie_id):\n",
    "    url = \"https://www.imdb.com/title/\"+movie_id+ \"/externalreviews/\"\n",
    "    \n",
    "    print(url)\n",
    "    try:\n",
    "        response = requests.get(url)\n",
    "        result = response.content    \n",
    "        soup = BeautifulSoup(result, 'html.parser')\n",
    "        \n",
    "        num_reviews_external = soup.find(\"div\", attrs = {\"id\" : \"external_reviews_content\"}).find(\"div\", attrs = {\"class\":\"nav\"}).getText()\n",
    "        num_reviews_external = re.sub(\"[^0-9]\", \"\", num_reviews_external)\n",
    "        return int(num_reviews_external)\n",
    "    \n",
    "    except:\n",
    "        print(\"Number of external reviews not available\")\n",
    "        return 0"
   ]
  },
  {
   "cell_type": "code",
   "execution_count": 75,
   "id": "72739c79-52ec-4544-9a55-3d252ae4df7f",
   "metadata": {},
   "outputs": [],
   "source": [
    "from selenium import webdriver\n",
    "def search_movies():\n",
    "\n",
    "    # This function asks the user for the input of the name of the movie. Searches the name of the movie in imdb search service.\n",
    "    # Selenium webdriver is used to access to the imdb search service.\n",
    "    # The function takes as argument the path to search for the executable webdriver. Path is given from the main module where this function is called. \n",
    "    # As a result the function returns the direct link of the movie the user wanted to search and the movie id in the imdb database. \n",
    "    \n",
    "    search= input('Search movies:') #name of the movie from user\n",
    "    website = 'https://www.imdb.com/'\n",
    "    \n",
    "    options = webdriver.ChromeOptions()\n",
    "    options.add_experimental_option('excludeSwitches', ['enable-logging']) #options to avoid abnormal logging\n",
    "    \n",
    "    driver = webdriver.Chrome(\"driver\\chromedriver\",options=options)\n",
    "    \n",
    "    driver.get(website)\n",
    "    driver.find_element(\"id\",'suggestion-search').send_keys(search)\n",
    "    driver.find_element(\"id\", 'suggestion-search-button').click()\n",
    "    \n",
    "\n",
    "    table=driver.find_element(\"xpath\",'//*[@id=\"__next\"]/main/div[2]/div[2]/section/div/div[1]/section[2]/div[2]/ul')\n",
    "    results_search = table.find_elements(\"class name\",\"ipc-metadata-list-summary-item__tc\")\n",
    "    results = []\n",
    "    for result in results_search:\n",
    "        results.append(result.find_element(\"tag name\", \"a\"))\n",
    "        #print(result.find_element(\"tag name\", \"a\"))\n",
    "    return results"
   ]
  },
  {
   "cell_type": "code",
   "execution_count": 81,
   "id": "4d0e88e0-c4b2-4ed4-97e0-52a701cacc58",
   "metadata": {},
   "outputs": [
    {
     "name": "stdin",
     "output_type": "stream",
     "text": [
      "Search movies: matriz\n"
     ]
    },
    {
     "name": "stderr",
     "output_type": "stream",
     "text": [
      "<ipython-input-75-9f9f433174f1>:15: DeprecationWarning: executable_path has been deprecated, please pass in a Service object\n",
      "  driver = webdriver.Chrome(\"driver\\chromedriver\",options=options)\n"
     ]
    }
   ],
   "source": [
    "x = search_movies()"
   ]
  },
  {
   "cell_type": "code",
   "execution_count": 98,
   "id": "c5d2d46f-9d41-40ef-b1d1-d99ba88e4e03",
   "metadata": {},
   "outputs": [],
   "source": [
    "def get_rating(movie_id):\n",
    "    url = \"https://www.imdb.com/title/\"+movie_id\n",
    "    \n",
    "    print(url)\n",
    "    \n",
    "    try:\n",
    "\n",
    "        response = requests.get(url)\n",
    "        result = response.content    \n",
    "        soup = BeautifulSoup(result, 'html.parser')\n",
    "\n",
    "        rating = soup.find('div',  attrs = {\"data-testid\":'hero-rating-bar__aggregate-rating__score'}).find('span', class_ = 'sc-7ab21ed2-1 jGRxWM').getText()\n",
    "        rating = float(rating)    \n",
    "        return rating\n",
    "    except:\n",
    "        print(\"Rating is not available\")\n",
    "        return 0"
   ]
  },
  {
   "cell_type": "code",
   "execution_count": 99,
   "id": "5ef56a27-b23a-4f25-acda-f005726f7df7",
   "metadata": {},
   "outputs": [
    {
     "name": "stdout",
     "output_type": "stream",
     "text": [
      "https://www.imdb.com/title/tt2543164\n"
     ]
    }
   ],
   "source": [
    "x = get_rating(\"tt2543164\")"
   ]
  },
  {
   "cell_type": "markdown",
   "id": "e216cf5a-3de3-40d9-b58f-cc9ddeb46c7d",
   "metadata": {},
   "source": [
    "## py mongo get data"
   ]
  },
  {
   "cell_type": "code",
   "execution_count": 66,
   "id": "666f5242-fb82-4d8d-b8f8-02f8b7a9bbb1",
   "metadata": {},
   "outputs": [],
   "source": [
    "import pymongo"
   ]
  },
  {
   "cell_type": "code",
   "execution_count": 71,
   "id": "515ff086-e074-4382-9702-24305180ebf1",
   "metadata": {},
   "outputs": [],
   "source": [
    "client = pymongo.MongoClient(\"localhost\",27017)\n",
    "db = client[\"movie_recommendations\"]\n",
    "collection = db[\"movie_recommendation\"]"
   ]
  },
  {
   "cell_type": "code",
   "execution_count": 72,
   "id": "b0ae82d2-38ef-40ca-9842-7dedc533fb4a",
   "metadata": {},
   "outputs": [],
   "source": [
    "def get_imdb_rec_mongo(movie):\n",
    "    client = pymongo.MongoClient(\"localhost\",27017)\n",
    "    db = client[\"movie_recommendations\"]\n",
    "    collection = db[\"imdb_rec_temp\"]\n",
    "    doc = collection.find({\"movie_id\": movie[\"imdb_id\"]})\n",
    "    data = doc[0]\n",
    "    df = pd.DataFrame(data[\"info_recommended\"])\n",
    "    return df"
   ]
  },
  {
   "cell_type": "code",
   "execution_count": 74,
   "id": "6aaf50b9-cf54-4770-90fc-e062ca5c76d5",
   "metadata": {
    "tags": []
   },
   "outputs": [],
   "source": [
    "doc = collection.find({\"movie_id\": \"tt0133093\"})\n",
    "data = doc[0]"
   ]
  },
  {
   "cell_type": "code",
   "execution_count": 76,
   "id": "c6a3d749-8e5b-4371-888d-d14155487417",
   "metadata": {},
   "outputs": [],
   "source": [
    "import pandas as pd"
   ]
  },
  {
   "cell_type": "code",
   "execution_count": 79,
   "id": "c8698527-d445-449f-9274-800f8a3838fb",
   "metadata": {
    "tags": []
   },
   "outputs": [
    {
     "data": {
      "text/html": [
       "<div>\n",
       "<style scoped>\n",
       "    .dataframe tbody tr th:only-of-type {\n",
       "        vertical-align: middle;\n",
       "    }\n",
       "\n",
       "    .dataframe tbody tr th {\n",
       "        vertical-align: top;\n",
       "    }\n",
       "\n",
       "    .dataframe thead th {\n",
       "        text-align: right;\n",
       "    }\n",
       "</style>\n",
       "<table border=\"1\" class=\"dataframe\">\n",
       "  <thead>\n",
       "    <tr style=\"text-align: right;\">\n",
       "      <th></th>\n",
       "      <th>name</th>\n",
       "      <th>imdb_id</th>\n",
       "      <th>year_released</th>\n",
       "      <th>runtime</th>\n",
       "      <th>imdb_reviews</th>\n",
       "      <th>external_reviews</th>\n",
       "      <th>imdb_rating</th>\n",
       "      <th>metacritic_punctuation</th>\n",
       "      <th>budget</th>\n",
       "      <th>earning_worldwide</th>\n",
       "      <th>earning_US&amp;CA</th>\n",
       "      <th>genres</th>\n",
       "      <th>directors</th>\n",
       "      <th>cast</th>\n",
       "      <th>common_genres_rate</th>\n",
       "      <th>common_directors_rate</th>\n",
       "      <th>common_cast_rate</th>\n",
       "      <th>euclidean_distance</th>\n",
       "      <th>manhattan_distance</th>\n",
       "    </tr>\n",
       "  </thead>\n",
       "  <tbody>\n",
       "    <tr>\n",
       "      <th>0</th>\n",
       "      <td>Inception</td>\n",
       "      <td>tt1375666</td>\n",
       "      <td>2010</td>\n",
       "      <td>148</td>\n",
       "      <td>4648</td>\n",
       "      <td>483</td>\n",
       "      <td>8.8</td>\n",
       "      <td>74</td>\n",
       "      <td>160000000</td>\n",
       "      <td>836848102</td>\n",
       "      <td>292587330</td>\n",
       "      <td>[Action, Adventure, Sci-Fi]</td>\n",
       "      <td>[Christopher Nolan]</td>\n",
       "      <td>[Leonardo DiCaprio, Joseph Gordon-Levitt, Elli...</td>\n",
       "      <td>1.0</td>\n",
       "      <td>0.0</td>\n",
       "      <td>0.000000</td>\n",
       "      <td>4.006927e+08</td>\n",
       "      <td>5.871363e+08</td>\n",
       "    </tr>\n",
       "    <tr>\n",
       "      <th>1</th>\n",
       "      <td>Forrest Gump</td>\n",
       "      <td>tt0109830</td>\n",
       "      <td>1994</td>\n",
       "      <td>142</td>\n",
       "      <td>3015</td>\n",
       "      <td>176</td>\n",
       "      <td>8.8</td>\n",
       "      <td>82</td>\n",
       "      <td>55000000</td>\n",
       "      <td>678226465</td>\n",
       "      <td>330455270</td>\n",
       "      <td>[Drama, Romance]</td>\n",
       "      <td>[Robert Zemeckis]</td>\n",
       "      <td>[Tom Hanks, Robin Wright, Gary Sinise, Sally F...</td>\n",
       "      <td>0.0</td>\n",
       "      <td>0.0</td>\n",
       "      <td>0.000000</td>\n",
       "      <td>2.639513e+08</td>\n",
       "      <td>3.773840e+08</td>\n",
       "    </tr>\n",
       "    <tr>\n",
       "      <th>2</th>\n",
       "      <td>Matrix Reloaded</td>\n",
       "      <td>tt0234215</td>\n",
       "      <td>2003</td>\n",
       "      <td>138</td>\n",
       "      <td>2919</td>\n",
       "      <td>184</td>\n",
       "      <td>7.2</td>\n",
       "      <td>62</td>\n",
       "      <td>150000000</td>\n",
       "      <td>741847937</td>\n",
       "      <td>281576461</td>\n",
       "      <td>[Action, Sci-Fi]</td>\n",
       "      <td>[Lana Wachowski, Lilly Wachowski]</td>\n",
       "      <td>[Keanu Reeves, Laurence Fishburne, Carrie-Anne...</td>\n",
       "      <td>1.0</td>\n",
       "      <td>1.0</td>\n",
       "      <td>0.222222</td>\n",
       "      <td>3.081853e+08</td>\n",
       "      <td>4.711268e+08</td>\n",
       "    </tr>\n",
       "  </tbody>\n",
       "</table>\n",
       "</div>"
      ],
      "text/plain": [
       "              name    imdb_id  year_released  runtime  imdb_reviews  \\\n",
       "0        Inception  tt1375666           2010      148          4648   \n",
       "1     Forrest Gump  tt0109830           1994      142          3015   \n",
       "2  Matrix Reloaded  tt0234215           2003      138          2919   \n",
       "\n",
       "   external_reviews  imdb_rating  metacritic_punctuation     budget  \\\n",
       "0               483          8.8                      74  160000000   \n",
       "1               176          8.8                      82   55000000   \n",
       "2               184          7.2                      62  150000000   \n",
       "\n",
       "   earning_worldwide  earning_US&CA                       genres  \\\n",
       "0          836848102      292587330  [Action, Adventure, Sci-Fi]   \n",
       "1          678226465      330455270             [Drama, Romance]   \n",
       "2          741847937      281576461             [Action, Sci-Fi]   \n",
       "\n",
       "                           directors  \\\n",
       "0                [Christopher Nolan]   \n",
       "1                  [Robert Zemeckis]   \n",
       "2  [Lana Wachowski, Lilly Wachowski]   \n",
       "\n",
       "                                                cast  common_genres_rate  \\\n",
       "0  [Leonardo DiCaprio, Joseph Gordon-Levitt, Elli...                 1.0   \n",
       "1  [Tom Hanks, Robin Wright, Gary Sinise, Sally F...                 0.0   \n",
       "2  [Keanu Reeves, Laurence Fishburne, Carrie-Anne...                 1.0   \n",
       "\n",
       "   common_directors_rate  common_cast_rate  euclidean_distance  \\\n",
       "0                    0.0          0.000000        4.006927e+08   \n",
       "1                    0.0          0.000000        2.639513e+08   \n",
       "2                    1.0          0.222222        3.081853e+08   \n",
       "\n",
       "   manhattan_distance  \n",
       "0        5.871363e+08  \n",
       "1        3.773840e+08  \n",
       "2        4.711268e+08  "
      ]
     },
     "execution_count": 79,
     "metadata": {},
     "output_type": "execute_result"
    }
   ],
   "source": [
    "df = pd.DataFrame(data[\"imdb_recommended\"])\n",
    "df.head(3)"
   ]
  },
  {
   "cell_type": "code",
   "execution_count": 80,
   "id": "8a883dc2-bbb3-4638-8890-bf0a305735f7",
   "metadata": {},
   "outputs": [
    {
     "data": {
      "text/html": [
       "<div>\n",
       "<style scoped>\n",
       "    .dataframe tbody tr th:only-of-type {\n",
       "        vertical-align: middle;\n",
       "    }\n",
       "\n",
       "    .dataframe tbody tr th {\n",
       "        vertical-align: top;\n",
       "    }\n",
       "\n",
       "    .dataframe thead th {\n",
       "        text-align: right;\n",
       "    }\n",
       "</style>\n",
       "<table border=\"1\" class=\"dataframe\">\n",
       "  <thead>\n",
       "    <tr style=\"text-align: right;\">\n",
       "      <th></th>\n",
       "      <th>name</th>\n",
       "      <th>imdb_id</th>\n",
       "      <th>year_released</th>\n",
       "      <th>runtime</th>\n",
       "      <th>imdb_reviews</th>\n",
       "      <th>external_reviews</th>\n",
       "      <th>imdb_rating</th>\n",
       "      <th>metacritic_punctuation</th>\n",
       "      <th>budget</th>\n",
       "      <th>earning_worldwide</th>\n",
       "      <th>earning_US&amp;CA</th>\n",
       "      <th>genres</th>\n",
       "      <th>directors</th>\n",
       "      <th>cast</th>\n",
       "      <th>common_genres_rate</th>\n",
       "      <th>common_directors_rate</th>\n",
       "      <th>common_cast_rate</th>\n",
       "      <th>euclidean_distance</th>\n",
       "      <th>manhattan_distance</th>\n",
       "    </tr>\n",
       "  </thead>\n",
       "  <tbody>\n",
       "    <tr>\n",
       "      <th>0</th>\n",
       "      <td>Inception</td>\n",
       "      <td>tt1375666</td>\n",
       "      <td>2010</td>\n",
       "      <td>148</td>\n",
       "      <td>4648</td>\n",
       "      <td>483</td>\n",
       "      <td>8.8</td>\n",
       "      <td>74</td>\n",
       "      <td>160000000</td>\n",
       "      <td>836848102</td>\n",
       "      <td>292587330</td>\n",
       "      <td>[Action, Adventure, Sci-Fi]</td>\n",
       "      <td>[Christopher Nolan]</td>\n",
       "      <td>[Leonardo DiCaprio, Joseph Gordon-Levitt, Elli...</td>\n",
       "      <td>1.0</td>\n",
       "      <td>0.0</td>\n",
       "      <td>0.0</td>\n",
       "      <td>4.006927e+08</td>\n",
       "      <td>5.871363e+08</td>\n",
       "    </tr>\n",
       "    <tr>\n",
       "      <th>1</th>\n",
       "      <td>Matrix</td>\n",
       "      <td>tt0133093</td>\n",
       "      <td>1999</td>\n",
       "      <td>136</td>\n",
       "      <td>4874</td>\n",
       "      <td>255</td>\n",
       "      <td>8.7</td>\n",
       "      <td>73</td>\n",
       "      <td>63000000</td>\n",
       "      <td>467222728</td>\n",
       "      <td>172076928</td>\n",
       "      <td>[Action, Sci-Fi]</td>\n",
       "      <td>[Lana Wachowski, Lilly Wachowski]</td>\n",
       "      <td>[Keanu Reeves, Laurence Fishburne, Carrie-Anne...</td>\n",
       "      <td>1.0</td>\n",
       "      <td>1.0</td>\n",
       "      <td>1.0</td>\n",
       "      <td>0.000000e+00</td>\n",
       "      <td>0.000000e+00</td>\n",
       "    </tr>\n",
       "    <tr>\n",
       "      <th>2</th>\n",
       "      <td>Avengers</td>\n",
       "      <td>tt0848228</td>\n",
       "      <td>2012</td>\n",
       "      <td>143</td>\n",
       "      <td>2094</td>\n",
       "      <td>759</td>\n",
       "      <td>8.0</td>\n",
       "      <td>69</td>\n",
       "      <td>220000000</td>\n",
       "      <td>1518815515</td>\n",
       "      <td>623357910</td>\n",
       "      <td>[Action, Adventure, Sci-Fi]</td>\n",
       "      <td>[Joss Whedon]</td>\n",
       "      <td>[Robert Downey Jr., Chris Evans, Scarlett Joha...</td>\n",
       "      <td>1.0</td>\n",
       "      <td>0.0</td>\n",
       "      <td>0.0</td>\n",
       "      <td>1.155055e+09</td>\n",
       "      <td>1.659877e+09</td>\n",
       "    </tr>\n",
       "  </tbody>\n",
       "</table>\n",
       "</div>"
      ],
      "text/plain": [
       "        name    imdb_id  year_released  runtime  imdb_reviews  \\\n",
       "0  Inception  tt1375666           2010      148          4648   \n",
       "1     Matrix  tt0133093           1999      136          4874   \n",
       "2   Avengers  tt0848228           2012      143          2094   \n",
       "\n",
       "   external_reviews  imdb_rating  metacritic_punctuation     budget  \\\n",
       "0               483          8.8                      74  160000000   \n",
       "1               255          8.7                      73   63000000   \n",
       "2               759          8.0                      69  220000000   \n",
       "\n",
       "   earning_worldwide  earning_US&CA                       genres  \\\n",
       "0          836848102      292587330  [Action, Adventure, Sci-Fi]   \n",
       "1          467222728      172076928             [Action, Sci-Fi]   \n",
       "2         1518815515      623357910  [Action, Adventure, Sci-Fi]   \n",
       "\n",
       "                           directors  \\\n",
       "0                [Christopher Nolan]   \n",
       "1  [Lana Wachowski, Lilly Wachowski]   \n",
       "2                      [Joss Whedon]   \n",
       "\n",
       "                                                cast  common_genres_rate  \\\n",
       "0  [Leonardo DiCaprio, Joseph Gordon-Levitt, Elli...                 1.0   \n",
       "1  [Keanu Reeves, Laurence Fishburne, Carrie-Anne...                 1.0   \n",
       "2  [Robert Downey Jr., Chris Evans, Scarlett Joha...                 1.0   \n",
       "\n",
       "   common_directors_rate  common_cast_rate  euclidean_distance  \\\n",
       "0                    0.0               0.0        4.006927e+08   \n",
       "1                    1.0               1.0        0.000000e+00   \n",
       "2                    0.0               0.0        1.155055e+09   \n",
       "\n",
       "   manhattan_distance  \n",
       "0        5.871363e+08  \n",
       "1        0.000000e+00  \n",
       "2        1.659877e+09  "
      ]
     },
     "execution_count": 80,
     "metadata": {},
     "output_type": "execute_result"
    }
   ],
   "source": [
    "df2 = pd.DataFrame(data[\"new_recommended\"])\n",
    "df2.head(3)"
   ]
  }
 ],
 "metadata": {
  "kernelspec": {
   "display_name": "Python 3",
   "language": "python",
   "name": "python3"
  },
  "language_info": {
   "codemirror_mode": {
    "name": "ipython",
    "version": 3
   },
   "file_extension": ".py",
   "mimetype": "text/x-python",
   "name": "python",
   "nbconvert_exporter": "python",
   "pygments_lexer": "ipython3",
   "version": "3.8.8"
  }
 },
 "nbformat": 4,
 "nbformat_minor": 5
}

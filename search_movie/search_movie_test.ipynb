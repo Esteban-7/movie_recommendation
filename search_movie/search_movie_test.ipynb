{
 "cells": [
  {
   "cell_type": "code",
   "execution_count": 1,
   "id": "37e69b5a-bd14-46fe-8fed-202861476a54",
   "metadata": {},
   "outputs": [],
   "source": [
    "from selenium import webdriver\n",
    "\n",
    "def search_movies():\n",
    "    search= input('Search movies')\n",
    "    #search = \"now you see me\"\n",
    "    website = 'https://www.imdb.com/'\n",
    "    path = 'driver/chromedriver.exe'\n",
    "    driver = webdriver.Chrome(path)\n",
    "    driver.get(website)\n",
    "    driver.find_element(\"id\",'suggestion-search').send_keys(search)\n",
    "    driver.find_element(\"id\", 'suggestion-search-button').click()\n",
    "    \n",
    "    #find the tables that hold the results of the search. \n",
    "    table=driver.find_element(\"xpath\",'//*[@id=\"main\"]/div/div[2]/table')\n",
    "    results_search = table.find_elements(\"class name\", \"result_text\")\n",
    "    results = []\n",
    "    for result in results_search:\n",
    "        results += result.find_elements(\"tag name\",\"a\") #get the elements results of the search\n",
    "    \n",
    "    options = {}\n",
    "    for i in range(len(results)):\n",
    "        row = results[i]\n",
    "        option = i+1\n",
    "        name=row.text\n",
    "        href = row.get_attribute('href')    \n",
    "        options[option] = {\"name\": name,\"href\": href} #create a dictionary with the results of the search\n",
    "    \n",
    "    for option in options.keys():\n",
    "        print(option, \" \",\"name: \", options[option][\"name\"], \"  link:\",options[option][\"href\"]) #print the options for the user to choose\n",
    "    \n",
    "    \n",
    "    while True:\n",
    "        selection = input(\"Please type the number of the film you want.\") #loop so that the user chooses one the of the options of the search.\n",
    "        try:\n",
    "            if int(selection) in options.keys():\n",
    "                break\n",
    "        except:\n",
    "            print(\"Try another option!\")\n",
    "    \n",
    "    link = options[int(selection)][\"href\"].split(\"/?\")[0]\n",
    "    movie_id = link.split(\"title/\")[1]\n",
    "\n",
    "    return [link,movie_id] #return the link of the movie and the ID of the same. "
   ]
  },
  {
   "cell_type": "code",
   "execution_count": 2,
   "id": "7ddc91f9-2721-46f0-a404-3efce7d4a3bb",
   "metadata": {},
   "outputs": [
    {
     "name": "stdin",
     "output_type": "stream",
     "text": [
      "Search movies the matrix\n"
     ]
    },
    {
     "name": "stderr",
     "output_type": "stream",
     "text": [
      "<ipython-input-1-a1b243031db5>:8: DeprecationWarning: executable_path has been deprecated, please pass in a Service object\n",
      "  driver = webdriver.Chrome(path)\n"
     ]
    },
    {
     "name": "stdout",
     "output_type": "stream",
     "text": [
      "1   name:  Matrix   link: https://www.imdb.com/title/tt0133093/?ref_=fn_al_tt_1\n",
      "2   name:  The Matrix   link: https://www.imdb.com/title/tt9642498/?ref_=fn_al_tt_2\n",
      "3   name:  The Matrix   link: https://www.imdb.com/title/tt9851526/?ref_=fn_al_tt_3\n",
      "4   name:  Matrix Resurrections   link: https://www.imdb.com/title/tt10838180/?ref_=fn_al_tt_4\n"
     ]
    },
    {
     "name": "stdin",
     "output_type": "stream",
     "text": [
      "Please type the number of the film you want. 8\n",
      "Please type the number of the film you want. 9\n",
      "Please type the number of the film you want. 1\n"
     ]
    },
    {
     "data": {
      "text/plain": [
       "['https://www.imdb.com/title/tt0133093', 'tt0133093']"
      ]
     },
     "execution_count": 2,
     "metadata": {},
     "output_type": "execute_result"
    }
   ],
   "source": [
    "search_movies()"
   ]
  },
  {
   "cell_type": "code",
   "execution_count": 58,
   "id": "bf9e1a3b-c025-47ab-b543-7750b4213715",
   "metadata": {},
   "outputs": [
    {
     "data": {
      "text/plain": [
       "str"
      ]
     },
     "execution_count": 58,
     "metadata": {},
     "output_type": "execute_result"
    }
   ],
   "source": [
    "from os import getcwd\n",
    "type(getcwd())"
   ]
  }
 ],
 "metadata": {
  "kernelspec": {
   "display_name": "Python 3",
   "language": "python",
   "name": "python3"
  },
  "language_info": {
   "codemirror_mode": {
    "name": "ipython",
    "version": 3
   },
   "file_extension": ".py",
   "mimetype": "text/x-python",
   "name": "python",
   "nbconvert_exporter": "python",
   "pygments_lexer": "ipython3",
   "version": "3.8.8"
  }
 },
 "nbformat": 4,
 "nbformat_minor": 5
}

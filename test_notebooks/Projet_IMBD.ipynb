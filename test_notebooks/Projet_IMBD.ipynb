{
 "cells": [
  {
   "cell_type": "code",
   "execution_count": 88,
   "id": "3e130882",
   "metadata": {},
   "outputs": [],
   "source": [
    "import requests \n",
    "from bs4 import BeautifulSoup\n",
    "import re # regex expression\n",
    "import tqdm.notebook as tq"
   ]
  },
  {
   "cell_type": "code",
   "execution_count": 91,
   "id": "45e222d1",
   "metadata": {},
   "outputs": [],
   "source": [
    "starting_url = \"https://www.imdb.com/title/tt1670345/\""
   ]
  },
  {
   "cell_type": "code",
   "execution_count": 92,
   "id": "0795d6d0",
   "metadata": {},
   "outputs": [],
   "source": [
    "#importe le code de l'url\n",
    "response = requests.get(starting_url)\n",
    "result = response.content"
   ]
  },
  {
   "cell_type": "code",
   "execution_count": 93,
   "id": "2df587bf",
   "metadata": {},
   "outputs": [],
   "source": [
    "soup = BeautifulSoup(result, 'html.parser')"
   ]
  },
  {
   "cell_type": "code",
   "execution_count": 94,
   "id": "16db161c",
   "metadata": {},
   "outputs": [
    {
     "name": "stdout",
     "output_type": "stream",
     "text": [
      "Insaisissables\n"
     ]
    }
   ],
   "source": [
    "title = soup.find('h1', class_ = 'sc-b73cd867-0 eKrKux').getText()\n",
    "\n",
    "print(title)"
   ]
  },
  {
   "cell_type": "code",
   "execution_count": 95,
   "id": "2d50d1a3",
   "metadata": {},
   "outputs": [
    {
     "name": "stdout",
     "output_type": "stream",
     "text": [
      "$75,000,000 (estimated)\n"
     ]
    }
   ],
   "source": [
    "budget = soup.find('li', attrs = {\"data-testid\":'title-boxoffice-budget'}).find('span', class_ \n",
    "                                                                        ='ipc-metadata-list-item__list-content-item').getText()\n",
    "print(budget)"
   ]
  },
  {
   "cell_type": "code",
   "execution_count": 96,
   "id": "d1c78076",
   "metadata": {},
   "outputs": [
    {
     "data": {
      "text/plain": [
       "str"
      ]
     },
     "execution_count": 96,
     "metadata": {},
     "output_type": "execute_result"
    }
   ],
   "source": [
    "type(budget)"
   ]
  },
  {
   "cell_type": "code",
   "execution_count": 97,
   "id": "0d0f3376",
   "metadata": {
    "scrolled": true
   },
   "outputs": [
    {
     "name": "stdout",
     "output_type": "stream",
     "text": [
      "75000000\n"
     ]
    }
   ],
   "source": [
    "import re\n",
    "\n",
    "budget = re.sub(\"[^0-9]\", \"\", budget)\n",
    "print(budget)"
   ]
  },
  {
   "cell_type": "code",
   "execution_count": 98,
   "id": "592ed7f5",
   "metadata": {},
   "outputs": [
    {
     "name": "stdout",
     "output_type": "stream",
     "text": [
      "$117,723,989\n"
     ]
    }
   ],
   "source": [
    "gross_US_et_Canada = soup.find('li', attrs = {\"data-testid\":'title-boxoffice-grossdomestic'}).find('span', class_ = 'ipc-metadata-list-item__list-content-item').getText()\n",
    "print(gross_US_et_Canada)"
   ]
  },
  {
   "cell_type": "code",
   "execution_count": 99,
   "id": "2d290da1",
   "metadata": {},
   "outputs": [
    {
     "name": "stdout",
     "output_type": "stream",
     "text": [
      "117723989\n"
     ]
    }
   ],
   "source": [
    "gross_US_et_Canada = re.sub(\"[^0-9]\",\"\",gross_US_et_Canada)\n",
    "print(gross_US_et_Canada)"
   ]
  },
  {
   "cell_type": "code",
   "execution_count": 100,
   "id": "77d5c784",
   "metadata": {},
   "outputs": [
    {
     "name": "stdout",
     "output_type": "stream",
     "text": [
      "$351,723,989\n"
     ]
    }
   ],
   "source": [
    "gross_Worldwide = soup.find('li', attrs = {\"data-testid\":'title-boxoffice-cumulativeworldwidegross'}).find('span', class_ = 'ipc-metadata-list-item__list-content-item').getText()\n",
    "print(gross_Worldwide)"
   ]
  },
  {
   "cell_type": "code",
   "execution_count": 101,
   "id": "eb469427",
   "metadata": {},
   "outputs": [
    {
     "name": "stdout",
     "output_type": "stream",
     "text": [
      "351723989\n"
     ]
    }
   ],
   "source": [
    "gross_Worldwide = re.sub(\"[^0-9]\",\"\", gross_Worldwide)\n",
    "print(gross_Worldwide)"
   ]
  },
  {
   "cell_type": "code",
   "execution_count": 102,
   "id": "ea4cc1f4",
   "metadata": {},
   "outputs": [
    {
     "name": "stdout",
     "output_type": "stream",
     "text": [
      "['Crime', 'Mystery', 'Thriller']\n"
     ]
    }
   ],
   "source": [
    "genre = soup.find('div', class_ = 'ipc-chip-list__scroller').find_all('a', class_ = 'sc-16ede01-3 bYNgQ ipc-chip ipc-chip--on-baseAlt')\n",
    "\n",
    "genres = []\n",
    "\n",
    "for i in genre:\n",
    "    x = i.getText()\n",
    "    genres.append(x)\n",
    "    \n",
    "print(genres)\n",
    "    \n",
    "\n",
    "# print(genre)\n",
    "#print(type(genre))"
   ]
  },
  {
   "cell_type": "code",
   "execution_count": 41,
   "id": "9fd81961",
   "metadata": {},
   "outputs": [
    {
     "name": "stdout",
     "output_type": "stream",
     "text": [
      "['Jesse Eisenberg', 'Common', 'Mark Ruffalo', 'Woody Harrelson', 'Isla Fisher', 'Dave Franco', 'Mélanie Laurent', 'Morgan Freeman', 'Michael Caine', 'Michael Kelly', 'David Warshofsky', 'José Garcia', 'Jessica Lindsey', 'Caitríona Balfe', 'Stephanie Honoré', 'Stanley Wong', 'Laura Cayouette', 'Douglas M. Griffin']\n"
     ]
    }
   ],
   "source": [
    "top_cast = soup.find('div', class_ = 'ipc-sub-grid ipc-sub-grid--page-span-2 ipc-sub-grid--wraps-at-above-l ipc-shoveler__grid').find_all('a',class_ = 'sc-36c36dd0-1 QSQgP')\n",
    "\n",
    "top_casts = []\n",
    "\n",
    "for i in top_cast:\n",
    "    b = i.getText()\n",
    "    top_casts.append(b)\n",
    "\n",
    "print(top_casts)"
   ]
  },
  {
   "cell_type": "code",
   "execution_count": 103,
   "id": "a392672d",
   "metadata": {},
   "outputs": [
    {
     "name": "stdout",
     "output_type": "stream",
     "text": [
      "['Louis Leterrier']\n"
     ]
    }
   ],
   "source": [
    "director = soup.find('li', class_ = 'ipc-metadata-list__item').find_all('a', class_ = 'ipc-metadata-list-item__list-content-item ipc-metadata-list-item__list-content-item--link')\n",
    "\n",
    "directors = []\n",
    "\n",
    "for i in director:\n",
    "    y = i.getText()\n",
    "    directors.append(y)\n",
    "\n",
    "print(directors)"
   ]
  },
  {
   "cell_type": "code",
   "execution_count": 104,
   "id": "fbd8723f",
   "metadata": {},
   "outputs": [
    {
     "name": "stdout",
     "output_type": "stream",
     "text": [
      "7.2\n"
     ]
    }
   ],
   "source": [
    "rate = soup.find('div',  attrs = {\"data-testid\":'hero-rating-bar__aggregate-rating__score'}).find('span', class_ = 'sc-7ab21ed2-1 jGRxWM').getText()\n",
    "print(rate)"
   ]
  },
  {
   "cell_type": "code",
   "execution_count": 122,
   "id": "4e22be1b",
   "metadata": {},
   "outputs": [],
   "source": [
    "def get_director(movie_id):\n",
    "    url = \"https://www.imdb.com/title/\"+movie_id\n",
    "    \n",
    "    print(url)\n",
    "    try:\n",
    "\n",
    "        response = requests.get(url)\n",
    "        result = response.content    \n",
    "        soup = BeautifulSoup(result, 'html.parser')\n",
    "    \n",
    "        director = soup.find('li', class_ = 'ipc-metadata-list__item').find_all('a', class_ = 'ipc-metadata-list-item__list-content-item ipc-metadata-list-item__list-content-item--link')\n",
    "\n",
    "        directors = []\n",
    "\n",
    "        for i in director:\n",
    "            y = i.getText()\n",
    "            directors.append(y)\n",
    "\n",
    "        return directors\n",
    "    except:\n",
    "        print(\"Director is not available\")\n",
    "        return 0\n",
    "\n"
   ]
  },
  {
   "cell_type": "code",
   "execution_count": 116,
   "id": "221ac865",
   "metadata": {},
   "outputs": [
    {
     "name": "stdout",
     "output_type": "stream",
     "text": [
      "https://www.imdb.com/title/tt0133093\n"
     ]
    },
    {
     "data": {
      "text/plain": [
       "['Lana Wachowski', 'Lilly Wachowski']"
      ]
     },
     "execution_count": 116,
     "metadata": {},
     "output_type": "execute_result"
    }
   ],
   "source": [
    "x=get_director(\"tt0133093\")\n",
    "x"
   ]
  },
  {
   "cell_type": "code",
   "execution_count": 121,
   "id": "2d066e2a",
   "metadata": {},
   "outputs": [],
   "source": [
    "def get_top_cast(movie_id):\n",
    "    url = \"https://www.imdb.com/title/\"+movie_id\n",
    "    \n",
    "    print(url)\n",
    "    try:\n",
    "\n",
    "        response = requests.get(url)\n",
    "        result = response.content    \n",
    "        soup = BeautifulSoup(result, 'html.parser')\n",
    "    \n",
    "        top_cast = soup.find('div', class_ = 'ipc-sub-grid ipc-sub-grid--page-span-2 ipc-sub-grid--wraps-at-above-l ipc-shoveler__grid').find_all('a',class_ = 'sc-36c36dd0-1 QSQgP')\n",
    "\n",
    "        top_casts = []\n",
    "\n",
    "        for i in top_cast:\n",
    "            b = i.getText()\n",
    "            top_casts.append(b)\n",
    "\n",
    "        return top_casts\n",
    "    except:\n",
    "        print(\"Top cast is not available\")\n",
    "        return 0\n"
   ]
  },
  {
   "cell_type": "code",
   "execution_count": 118,
   "id": "9af88118",
   "metadata": {},
   "outputs": [
    {
     "name": "stdout",
     "output_type": "stream",
     "text": [
      "https://www.imdb.com/title/tt1670345\n"
     ]
    },
    {
     "data": {
      "text/plain": [
       "['Jesse Eisenberg',\n",
       " 'Common',\n",
       " 'Mark Ruffalo',\n",
       " 'Woody Harrelson',\n",
       " 'Isla Fisher',\n",
       " 'Dave Franco',\n",
       " 'Mélanie Laurent',\n",
       " 'Morgan Freeman',\n",
       " 'Michael Caine',\n",
       " 'Michael Kelly',\n",
       " 'David Warshofsky',\n",
       " 'José Garcia',\n",
       " 'Jessica Lindsey',\n",
       " 'Caitríona Balfe',\n",
       " 'Stephanie Honoré',\n",
       " 'Stanley Wong',\n",
       " 'Laura Cayouette',\n",
       " 'Douglas M. Griffin']"
      ]
     },
     "execution_count": 118,
     "metadata": {},
     "output_type": "execute_result"
    }
   ],
   "source": [
    "y = get_top_cast(\"tt1670345\")\n",
    "y"
   ]
  },
  {
   "cell_type": "code",
   "execution_count": 113,
   "id": "4d813645",
   "metadata": {},
   "outputs": [],
   "source": [
    "def get_genre(movie_id):\n",
    "    url = \"https://www.imdb.com/title/\"+movie_id\n",
    "    \n",
    "    print(url)\n",
    "    try:\n",
    "\n",
    "        response = requests.get(url)\n",
    "        result = response.content    \n",
    "        soup = BeautifulSoup(result, 'html.parser')\n",
    "    \n",
    "        genre = soup.find('div', class_ = 'ipc-chip-list__scroller').find_all('a', class_ = 'sc-16ede01-3 bYNgQ ipc-chip ipc-chip--on-baseAlt')\n",
    "\n",
    "        genres = []\n",
    "\n",
    "        for i in genre:\n",
    "            x = i.getText()\n",
    "            genres.append(x)\n",
    "    \n",
    "        return genres\n",
    "    except:\n",
    "        print(\"Genre is not available\")\n",
    "        return 0\n"
   ]
  },
  {
   "cell_type": "code",
   "execution_count": 62,
   "id": "e2c19909",
   "metadata": {},
   "outputs": [
    {
     "name": "stdout",
     "output_type": "stream",
     "text": [
      "https://www.imdb.com/title/tt1670345\n"
     ]
    },
    {
     "data": {
      "text/plain": [
       "['Crime', 'Mystery', 'Thriller']"
      ]
     },
     "execution_count": 62,
     "metadata": {},
     "output_type": "execute_result"
    }
   ],
   "source": [
    "a = get_genre(\"tt1670345\")\n",
    "a"
   ]
  },
  {
   "cell_type": "code",
   "execution_count": 112,
   "id": "c11166f8",
   "metadata": {},
   "outputs": [],
   "source": [
    "def get_title(movie_id):\n",
    "    url = \"https://www.imdb.com/title/\"+movie_id\n",
    "    \n",
    "    print(url)\n",
    "    try:\n",
    "        response = requests.get(url)\n",
    "        result = response.content    \n",
    "        soup = BeautifulSoup(result, 'html.parser')\n",
    "    \n",
    "        title = soup.find('h1', class_ = 'sc-b73cd867-0 eKrKux').getText()\n",
    "    \n",
    "        return title\n",
    "    except:\n",
    "        print(\"Title is not available\")\n",
    "        return 0"
   ]
  },
  {
   "cell_type": "code",
   "execution_count": 85,
   "id": "e76c7b7b",
   "metadata": {},
   "outputs": [
    {
     "name": "stdout",
     "output_type": "stream",
     "text": [
      "https://www.imdb.com/title/tt1670345\n"
     ]
    },
    {
     "data": {
      "text/plain": [
       "'Insaisissables'"
      ]
     },
     "execution_count": 85,
     "metadata": {},
     "output_type": "execute_result"
    }
   ],
   "source": [
    "b = get_title(\"tt1670345\")\n",
    "b"
   ]
  },
  {
   "cell_type": "code",
   "execution_count": 128,
   "id": "85237b2a",
   "metadata": {},
   "outputs": [],
   "source": [
    "def get_budget(movie_id):\n",
    "    url = \"https://www.imdb.com/title/\"+movie_id\n",
    "    \n",
    "    print(url)\n",
    "    try:\n",
    "\n",
    "        response = requests.get(url)\n",
    "        result = response.content    \n",
    "        soup = BeautifulSoup(result, 'html.parser')\n",
    "\n",
    "        budget = soup.find('li', attrs = {\"data-testid\":'title-boxoffice-budget'}).find('span', class_ \n",
    "                                                                        ='ipc-metadata-list-item__list-content-item').getText()\n",
    "    \n",
    "        import re\n",
    "        budget = re.sub(\"[^0-9]\", \"\", budget)\n",
    "        return budget\n",
    "\n",
    "    except:\n",
    "        print(\"Budget is not available\")\n",
    "        return 0"
   ]
  },
  {
   "cell_type": "code",
   "execution_count": 68,
   "id": "8faea769",
   "metadata": {},
   "outputs": [
    {
     "name": "stdout",
     "output_type": "stream",
     "text": [
      "https://www.imdb.com/title/tt1670345\n"
     ]
    },
    {
     "data": {
      "text/plain": [
       "'75000000'"
      ]
     },
     "execution_count": 68,
     "metadata": {},
     "output_type": "execute_result"
    }
   ],
   "source": [
    "c = get_budget(\"tt1670345\")\n",
    "c"
   ]
  },
  {
   "cell_type": "code",
   "execution_count": 129,
   "id": "f2c24db0",
   "metadata": {},
   "outputs": [],
   "source": [
    "def get_gross_Canada_et_USA(movie_id):\n",
    "    url = \"https://www.imdb.com/title/\"+movie_id\n",
    "    \n",
    "    print(url)\n",
    "    \n",
    "    try:\n",
    "        \n",
    "        response = requests.get(url)\n",
    "        result = response.content    \n",
    "        soup = BeautifulSoup(result, 'html.parser')\n",
    "\n",
    "        gross_US_et_Canada = soup.find('li', attrs = {\"data-testid\":'title-boxoffice-grossdomestic'}).find('span', class_ = 'ipc-metadata-list-item__list-content-item').getText()\n",
    "    \n",
    "        import re\n",
    "        gross_US_et_Canada = re.sub(\"[^0-9]\", \"\", gross_US_et_Canada)\n",
    "        return gross_US_et_Canada\n",
    "\n",
    "    except:\n",
    "        print(\"Gross Canada et US is not available\")\n",
    "        return 0"
   ]
  },
  {
   "cell_type": "code",
   "execution_count": 130,
   "id": "5fa692e7",
   "metadata": {},
   "outputs": [
    {
     "name": "stdout",
     "output_type": "stream",
     "text": [
      "https://www.imdb.com/title/tt1670345\n"
     ]
    },
    {
     "data": {
      "text/plain": [
       "'117723989'"
      ]
     },
     "execution_count": 130,
     "metadata": {},
     "output_type": "execute_result"
    }
   ],
   "source": [
    "d = get_gross_Canada_et_USA(\"tt1670345\")\n",
    "d"
   ]
  },
  {
   "cell_type": "code",
   "execution_count": 109,
   "id": "d0705173",
   "metadata": {},
   "outputs": [],
   "source": [
    "def get_gross_Worldwide(movie_id):\n",
    "    url = \"https://www.imdb.com/title/\"+movie_id\n",
    "    \n",
    "    print(url)\n",
    "    \n",
    "    try:\n",
    "\n",
    "        response = requests.get(url)\n",
    "        result = response.content    \n",
    "        soup = BeautifulSoup(result, 'html.parser')\n",
    "\n",
    "        gross_Worldwide = soup.find('li', attrs = {\"data-testid\":'title-boxoffice-cumulativeworldwidegross'}).find('span', class_ = 'ipc-metadata-list-item__list-content-item').getText()\n",
    "\n",
    "        import re\n",
    "        gross_Worldwide = re.sub(\"[^0-9]\", \"\",gross_Worldwide)\n",
    "        return gross_Worldwide\n",
    "    except:\n",
    "        print(\"Gross Worldwide is not available\")\n",
    "        return 0\n"
   ]
  },
  {
   "cell_type": "code",
   "execution_count": 72,
   "id": "162616d1",
   "metadata": {},
   "outputs": [
    {
     "name": "stdout",
     "output_type": "stream",
     "text": [
      "https://www.imdb.com/title/tt1670345\n"
     ]
    },
    {
     "data": {
      "text/plain": [
       "'351723989'"
      ]
     },
     "execution_count": 72,
     "metadata": {},
     "output_type": "execute_result"
    }
   ],
   "source": [
    "e = get_gross_Worldwide(\"tt1670345\")\n",
    "e"
   ]
  },
  {
   "cell_type": "code",
   "execution_count": 81,
   "id": "c7938ebb",
   "metadata": {},
   "outputs": [],
   "source": []
  },
  {
   "cell_type": "code",
   "execution_count": null,
   "id": "20903f5a",
   "metadata": {},
   "outputs": [],
   "source": []
  }
 ],
 "metadata": {
  "kernelspec": {
   "display_name": "Python 3",
   "language": "python",
   "name": "python3"
  },
  "language_info": {
   "codemirror_mode": {
    "name": "ipython",
    "version": 3
   },
   "file_extension": ".py",
   "mimetype": "text/x-python",
   "name": "python",
   "nbconvert_exporter": "python",
   "pygments_lexer": "ipython3",
   "version": "3.8.8"
  }
 },
 "nbformat": 4,
 "nbformat_minor": 5
}

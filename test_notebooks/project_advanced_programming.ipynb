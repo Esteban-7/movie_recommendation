{
 "cells": [
  {
   "cell_type": "code",
   "execution_count": 373,
   "id": "bbbb360e",
   "metadata": {},
   "outputs": [],
   "source": [
    "#### data analysis\n",
    "import numpy as np\n",
    "import pandas as pd\n",
    "import matplotlib.pyplot as plt "
   ]
  },
  {
   "cell_type": "code",
   "execution_count": 374,
   "id": "d13b8cd4",
   "metadata": {},
   "outputs": [],
   "source": [
    "import pandas as pd\n",
    "import plotly\n",
    "import plotly.express as px\n",
    "import plotly.io as pio\n",
    "import statsmodels.api as sm\n",
    "\n",
    "#import dash \n",
    "#import dash_core_components as dcc\n",
    "#import dash_html_components as html\n",
    "#from dash.dependencies import Output, Input\n"
   ]
  },
  {
   "cell_type": "code",
   "execution_count": 375,
   "id": "7797e579",
   "metadata": {},
   "outputs": [],
   "source": [
    "movies = {}\n",
    "for i in range(1,70):\n",
    "    movie = {\"name\": \"Film__\" + str(i),\n",
    "              \"imdb_id\": str(i),\n",
    "             \"year_released\": 2000 + i,\n",
    "             \"runtime\": 100+i,\n",
    "              \"imdb_reviews\": 400+i,\n",
    "             \"external_reviews\": 50+i,\n",
    "             \"imdb_rating\": i/(i+1),\n",
    "             \"metacritic_punctuation\": (i+10)/(i+1),\n",
    "              \"budget\": 1000+i,\n",
    "              \"earning_worldwide\": 500*i,\n",
    "              \"earning_US&CA\": 50*i,\n",
    "              \"genres\": [\"action\",\"sci-fi\",\"drama\",\"romance\"],\n",
    "              \"directors\":[f\"Director1_{str(i)}\",f\"Director2_{str(i)}\"],\n",
    "              \"cast\":[f\"Actor_{str(i)}\", f\"Actor_{str(i)+str(i)}\",f\"Actor_{str(i)+str(i)+str(i)}\"],\n",
    "              \"imdb_recommendations\": {},\n",
    "              \"new_recommendations\": {}\n",
    "             }\n",
    "    movies[i] = movie"
   ]
  },
  {
   "cell_type": "code",
   "execution_count": 376,
   "id": "d64f6811",
   "metadata": {},
   "outputs": [
    {
     "data": {
      "text/plain": [
       "{1: {'name': 'Film__1',\n",
       "  'imdb_id': '1',\n",
       "  'year_released': 2001,\n",
       "  'runtime': 101,\n",
       "  'imdb_reviews': 401,\n",
       "  'external_reviews': 51,\n",
       "  'imdb_rating': 0.5,\n",
       "  'metacritic_punctuation': 5.5,\n",
       "  'budget': 1001,\n",
       "  'earning_worldwide': 500,\n",
       "  'earning_US&CA': 50,\n",
       "  'genres': ['action', 'sci-fi', 'drama', 'romance'],\n",
       "  'directors': ['Director1_1', 'Director2_1'],\n",
       "  'cast': ['Actor_1', 'Actor_11', 'Actor_111'],\n",
       "  'imdb_recommendations': {},\n",
       "  'new_recommendations': {}},\n",
       " 2: {'name': 'Film__2',\n",
       "  'imdb_id': '2',\n",
       "  'year_released': 2002,\n",
       "  'runtime': 102,\n",
       "  'imdb_reviews': 402,\n",
       "  'external_reviews': 52,\n",
       "  'imdb_rating': 0.6666666666666666,\n",
       "  'metacritic_punctuation': 4.0,\n",
       "  'budget': 1002,\n",
       "  'earning_worldwide': 1000,\n",
       "  'earning_US&CA': 100,\n",
       "  'genres': ['action', 'sci-fi', 'drama', 'romance'],\n",
       "  'directors': ['Director1_2', 'Director2_2'],\n",
       "  'cast': ['Actor_2', 'Actor_22', 'Actor_222'],\n",
       "  'imdb_recommendations': {},\n",
       "  'new_recommendations': {}},\n",
       " 3: {'name': 'Film__3',\n",
       "  'imdb_id': '3',\n",
       "  'year_released': 2003,\n",
       "  'runtime': 103,\n",
       "  'imdb_reviews': 403,\n",
       "  'external_reviews': 53,\n",
       "  'imdb_rating': 0.75,\n",
       "  'metacritic_punctuation': 3.25,\n",
       "  'budget': 1003,\n",
       "  'earning_worldwide': 1500,\n",
       "  'earning_US&CA': 150,\n",
       "  'genres': ['action', 'sci-fi', 'drama', 'romance'],\n",
       "  'directors': ['Director1_3', 'Director2_3'],\n",
       "  'cast': ['Actor_3', 'Actor_33', 'Actor_333'],\n",
       "  'imdb_recommendations': {},\n",
       "  'new_recommendations': {}},\n",
       " 4: {'name': 'Film__4',\n",
       "  'imdb_id': '4',\n",
       "  'year_released': 2004,\n",
       "  'runtime': 104,\n",
       "  'imdb_reviews': 404,\n",
       "  'external_reviews': 54,\n",
       "  'imdb_rating': 0.8,\n",
       "  'metacritic_punctuation': 2.8,\n",
       "  'budget': 1004,\n",
       "  'earning_worldwide': 2000,\n",
       "  'earning_US&CA': 200,\n",
       "  'genres': ['action', 'sci-fi', 'drama', 'romance'],\n",
       "  'directors': ['Director1_4', 'Director2_4'],\n",
       "  'cast': ['Actor_4', 'Actor_44', 'Actor_444'],\n",
       "  'imdb_recommendations': {},\n",
       "  'new_recommendations': {}},\n",
       " 5: {'name': 'Film__5',\n",
       "  'imdb_id': '5',\n",
       "  'year_released': 2005,\n",
       "  'runtime': 105,\n",
       "  'imdb_reviews': 405,\n",
       "  'external_reviews': 55,\n",
       "  'imdb_rating': 0.8333333333333334,\n",
       "  'metacritic_punctuation': 2.5,\n",
       "  'budget': 1005,\n",
       "  'earning_worldwide': 2500,\n",
       "  'earning_US&CA': 250,\n",
       "  'genres': ['action', 'sci-fi', 'drama', 'romance'],\n",
       "  'directors': ['Director1_5', 'Director2_5'],\n",
       "  'cast': ['Actor_5', 'Actor_55', 'Actor_555'],\n",
       "  'imdb_recommendations': {},\n",
       "  'new_recommendations': {}},\n",
       " 6: {'name': 'Film__6',\n",
       "  'imdb_id': '6',\n",
       "  'year_released': 2006,\n",
       "  'runtime': 106,\n",
       "  'imdb_reviews': 406,\n",
       "  'external_reviews': 56,\n",
       "  'imdb_rating': 0.8571428571428571,\n",
       "  'metacritic_punctuation': 2.2857142857142856,\n",
       "  'budget': 1006,\n",
       "  'earning_worldwide': 3000,\n",
       "  'earning_US&CA': 300,\n",
       "  'genres': ['action', 'sci-fi', 'drama', 'romance'],\n",
       "  'directors': ['Director1_6', 'Director2_6'],\n",
       "  'cast': ['Actor_6', 'Actor_66', 'Actor_666'],\n",
       "  'imdb_recommendations': {},\n",
       "  'new_recommendations': {}},\n",
       " 7: {'name': 'Film__7',\n",
       "  'imdb_id': '7',\n",
       "  'year_released': 2007,\n",
       "  'runtime': 107,\n",
       "  'imdb_reviews': 407,\n",
       "  'external_reviews': 57,\n",
       "  'imdb_rating': 0.875,\n",
       "  'metacritic_punctuation': 2.125,\n",
       "  'budget': 1007,\n",
       "  'earning_worldwide': 3500,\n",
       "  'earning_US&CA': 350,\n",
       "  'genres': ['action', 'sci-fi', 'drama', 'romance'],\n",
       "  'directors': ['Director1_7', 'Director2_7'],\n",
       "  'cast': ['Actor_7', 'Actor_77', 'Actor_777'],\n",
       "  'imdb_recommendations': {},\n",
       "  'new_recommendations': {}},\n",
       " 8: {'name': 'Film__8',\n",
       "  'imdb_id': '8',\n",
       "  'year_released': 2008,\n",
       "  'runtime': 108,\n",
       "  'imdb_reviews': 408,\n",
       "  'external_reviews': 58,\n",
       "  'imdb_rating': 0.8888888888888888,\n",
       "  'metacritic_punctuation': 2.0,\n",
       "  'budget': 1008,\n",
       "  'earning_worldwide': 4000,\n",
       "  'earning_US&CA': 400,\n",
       "  'genres': ['action', 'sci-fi', 'drama', 'romance'],\n",
       "  'directors': ['Director1_8', 'Director2_8'],\n",
       "  'cast': ['Actor_8', 'Actor_88', 'Actor_888'],\n",
       "  'imdb_recommendations': {},\n",
       "  'new_recommendations': {}},\n",
       " 9: {'name': 'Film__9',\n",
       "  'imdb_id': '9',\n",
       "  'year_released': 2009,\n",
       "  'runtime': 109,\n",
       "  'imdb_reviews': 409,\n",
       "  'external_reviews': 59,\n",
       "  'imdb_rating': 0.9,\n",
       "  'metacritic_punctuation': 1.9,\n",
       "  'budget': 1009,\n",
       "  'earning_worldwide': 4500,\n",
       "  'earning_US&CA': 450,\n",
       "  'genres': ['action', 'sci-fi', 'drama', 'romance'],\n",
       "  'directors': ['Director1_9', 'Director2_9'],\n",
       "  'cast': ['Actor_9', 'Actor_99', 'Actor_999'],\n",
       "  'imdb_recommendations': {},\n",
       "  'new_recommendations': {}},\n",
       " 10: {'name': 'Film__10',\n",
       "  'imdb_id': '10',\n",
       "  'year_released': 2010,\n",
       "  'runtime': 110,\n",
       "  'imdb_reviews': 410,\n",
       "  'external_reviews': 60,\n",
       "  'imdb_rating': 0.9090909090909091,\n",
       "  'metacritic_punctuation': 1.8181818181818181,\n",
       "  'budget': 1010,\n",
       "  'earning_worldwide': 5000,\n",
       "  'earning_US&CA': 500,\n",
       "  'genres': ['action', 'sci-fi', 'drama', 'romance'],\n",
       "  'directors': ['Director1_10', 'Director2_10'],\n",
       "  'cast': ['Actor_10', 'Actor_1010', 'Actor_101010'],\n",
       "  'imdb_recommendations': {},\n",
       "  'new_recommendations': {}},\n",
       " 11: {'name': 'Film__11',\n",
       "  'imdb_id': '11',\n",
       "  'year_released': 2011,\n",
       "  'runtime': 111,\n",
       "  'imdb_reviews': 411,\n",
       "  'external_reviews': 61,\n",
       "  'imdb_rating': 0.9166666666666666,\n",
       "  'metacritic_punctuation': 1.75,\n",
       "  'budget': 1011,\n",
       "  'earning_worldwide': 5500,\n",
       "  'earning_US&CA': 550,\n",
       "  'genres': ['action', 'sci-fi', 'drama', 'romance'],\n",
       "  'directors': ['Director1_11', 'Director2_11'],\n",
       "  'cast': ['Actor_11', 'Actor_1111', 'Actor_111111'],\n",
       "  'imdb_recommendations': {},\n",
       "  'new_recommendations': {}},\n",
       " 12: {'name': 'Film__12',\n",
       "  'imdb_id': '12',\n",
       "  'year_released': 2012,\n",
       "  'runtime': 112,\n",
       "  'imdb_reviews': 412,\n",
       "  'external_reviews': 62,\n",
       "  'imdb_rating': 0.9230769230769231,\n",
       "  'metacritic_punctuation': 1.6923076923076923,\n",
       "  'budget': 1012,\n",
       "  'earning_worldwide': 6000,\n",
       "  'earning_US&CA': 600,\n",
       "  'genres': ['action', 'sci-fi', 'drama', 'romance'],\n",
       "  'directors': ['Director1_12', 'Director2_12'],\n",
       "  'cast': ['Actor_12', 'Actor_1212', 'Actor_121212'],\n",
       "  'imdb_recommendations': {},\n",
       "  'new_recommendations': {}},\n",
       " 13: {'name': 'Film__13',\n",
       "  'imdb_id': '13',\n",
       "  'year_released': 2013,\n",
       "  'runtime': 113,\n",
       "  'imdb_reviews': 413,\n",
       "  'external_reviews': 63,\n",
       "  'imdb_rating': 0.9285714285714286,\n",
       "  'metacritic_punctuation': 1.6428571428571428,\n",
       "  'budget': 1013,\n",
       "  'earning_worldwide': 6500,\n",
       "  'earning_US&CA': 650,\n",
       "  'genres': ['action', 'sci-fi', 'drama', 'romance'],\n",
       "  'directors': ['Director1_13', 'Director2_13'],\n",
       "  'cast': ['Actor_13', 'Actor_1313', 'Actor_131313'],\n",
       "  'imdb_recommendations': {},\n",
       "  'new_recommendations': {}},\n",
       " 14: {'name': 'Film__14',\n",
       "  'imdb_id': '14',\n",
       "  'year_released': 2014,\n",
       "  'runtime': 114,\n",
       "  'imdb_reviews': 414,\n",
       "  'external_reviews': 64,\n",
       "  'imdb_rating': 0.9333333333333333,\n",
       "  'metacritic_punctuation': 1.6,\n",
       "  'budget': 1014,\n",
       "  'earning_worldwide': 7000,\n",
       "  'earning_US&CA': 700,\n",
       "  'genres': ['action', 'sci-fi', 'drama', 'romance'],\n",
       "  'directors': ['Director1_14', 'Director2_14'],\n",
       "  'cast': ['Actor_14', 'Actor_1414', 'Actor_141414'],\n",
       "  'imdb_recommendations': {},\n",
       "  'new_recommendations': {}},\n",
       " 15: {'name': 'Film__15',\n",
       "  'imdb_id': '15',\n",
       "  'year_released': 2015,\n",
       "  'runtime': 115,\n",
       "  'imdb_reviews': 415,\n",
       "  'external_reviews': 65,\n",
       "  'imdb_rating': 0.9375,\n",
       "  'metacritic_punctuation': 1.5625,\n",
       "  'budget': 1015,\n",
       "  'earning_worldwide': 7500,\n",
       "  'earning_US&CA': 750,\n",
       "  'genres': ['action', 'sci-fi', 'drama', 'romance'],\n",
       "  'directors': ['Director1_15', 'Director2_15'],\n",
       "  'cast': ['Actor_15', 'Actor_1515', 'Actor_151515'],\n",
       "  'imdb_recommendations': {},\n",
       "  'new_recommendations': {}},\n",
       " 16: {'name': 'Film__16',\n",
       "  'imdb_id': '16',\n",
       "  'year_released': 2016,\n",
       "  'runtime': 116,\n",
       "  'imdb_reviews': 416,\n",
       "  'external_reviews': 66,\n",
       "  'imdb_rating': 0.9411764705882353,\n",
       "  'metacritic_punctuation': 1.5294117647058822,\n",
       "  'budget': 1016,\n",
       "  'earning_worldwide': 8000,\n",
       "  'earning_US&CA': 800,\n",
       "  'genres': ['action', 'sci-fi', 'drama', 'romance'],\n",
       "  'directors': ['Director1_16', 'Director2_16'],\n",
       "  'cast': ['Actor_16', 'Actor_1616', 'Actor_161616'],\n",
       "  'imdb_recommendations': {},\n",
       "  'new_recommendations': {}},\n",
       " 17: {'name': 'Film__17',\n",
       "  'imdb_id': '17',\n",
       "  'year_released': 2017,\n",
       "  'runtime': 117,\n",
       "  'imdb_reviews': 417,\n",
       "  'external_reviews': 67,\n",
       "  'imdb_rating': 0.9444444444444444,\n",
       "  'metacritic_punctuation': 1.5,\n",
       "  'budget': 1017,\n",
       "  'earning_worldwide': 8500,\n",
       "  'earning_US&CA': 850,\n",
       "  'genres': ['action', 'sci-fi', 'drama', 'romance'],\n",
       "  'directors': ['Director1_17', 'Director2_17'],\n",
       "  'cast': ['Actor_17', 'Actor_1717', 'Actor_171717'],\n",
       "  'imdb_recommendations': {},\n",
       "  'new_recommendations': {}},\n",
       " 18: {'name': 'Film__18',\n",
       "  'imdb_id': '18',\n",
       "  'year_released': 2018,\n",
       "  'runtime': 118,\n",
       "  'imdb_reviews': 418,\n",
       "  'external_reviews': 68,\n",
       "  'imdb_rating': 0.9473684210526315,\n",
       "  'metacritic_punctuation': 1.4736842105263157,\n",
       "  'budget': 1018,\n",
       "  'earning_worldwide': 9000,\n",
       "  'earning_US&CA': 900,\n",
       "  'genres': ['action', 'sci-fi', 'drama', 'romance'],\n",
       "  'directors': ['Director1_18', 'Director2_18'],\n",
       "  'cast': ['Actor_18', 'Actor_1818', 'Actor_181818'],\n",
       "  'imdb_recommendations': {},\n",
       "  'new_recommendations': {}},\n",
       " 19: {'name': 'Film__19',\n",
       "  'imdb_id': '19',\n",
       "  'year_released': 2019,\n",
       "  'runtime': 119,\n",
       "  'imdb_reviews': 419,\n",
       "  'external_reviews': 69,\n",
       "  'imdb_rating': 0.95,\n",
       "  'metacritic_punctuation': 1.45,\n",
       "  'budget': 1019,\n",
       "  'earning_worldwide': 9500,\n",
       "  'earning_US&CA': 950,\n",
       "  'genres': ['action', 'sci-fi', 'drama', 'romance'],\n",
       "  'directors': ['Director1_19', 'Director2_19'],\n",
       "  'cast': ['Actor_19', 'Actor_1919', 'Actor_191919'],\n",
       "  'imdb_recommendations': {},\n",
       "  'new_recommendations': {}},\n",
       " 20: {'name': 'Film__20',\n",
       "  'imdb_id': '20',\n",
       "  'year_released': 2020,\n",
       "  'runtime': 120,\n",
       "  'imdb_reviews': 420,\n",
       "  'external_reviews': 70,\n",
       "  'imdb_rating': 0.9523809523809523,\n",
       "  'metacritic_punctuation': 1.4285714285714286,\n",
       "  'budget': 1020,\n",
       "  'earning_worldwide': 10000,\n",
       "  'earning_US&CA': 1000,\n",
       "  'genres': ['action', 'sci-fi', 'drama', 'romance'],\n",
       "  'directors': ['Director1_20', 'Director2_20'],\n",
       "  'cast': ['Actor_20', 'Actor_2020', 'Actor_202020'],\n",
       "  'imdb_recommendations': {},\n",
       "  'new_recommendations': {}},\n",
       " 21: {'name': 'Film__21',\n",
       "  'imdb_id': '21',\n",
       "  'year_released': 2021,\n",
       "  'runtime': 121,\n",
       "  'imdb_reviews': 421,\n",
       "  'external_reviews': 71,\n",
       "  'imdb_rating': 0.9545454545454546,\n",
       "  'metacritic_punctuation': 1.4090909090909092,\n",
       "  'budget': 1021,\n",
       "  'earning_worldwide': 10500,\n",
       "  'earning_US&CA': 1050,\n",
       "  'genres': ['action', 'sci-fi', 'drama', 'romance'],\n",
       "  'directors': ['Director1_21', 'Director2_21'],\n",
       "  'cast': ['Actor_21', 'Actor_2121', 'Actor_212121'],\n",
       "  'imdb_recommendations': {},\n",
       "  'new_recommendations': {}},\n",
       " 22: {'name': 'Film__22',\n",
       "  'imdb_id': '22',\n",
       "  'year_released': 2022,\n",
       "  'runtime': 122,\n",
       "  'imdb_reviews': 422,\n",
       "  'external_reviews': 72,\n",
       "  'imdb_rating': 0.9565217391304348,\n",
       "  'metacritic_punctuation': 1.391304347826087,\n",
       "  'budget': 1022,\n",
       "  'earning_worldwide': 11000,\n",
       "  'earning_US&CA': 1100,\n",
       "  'genres': ['action', 'sci-fi', 'drama', 'romance'],\n",
       "  'directors': ['Director1_22', 'Director2_22'],\n",
       "  'cast': ['Actor_22', 'Actor_2222', 'Actor_222222'],\n",
       "  'imdb_recommendations': {},\n",
       "  'new_recommendations': {}},\n",
       " 23: {'name': 'Film__23',\n",
       "  'imdb_id': '23',\n",
       "  'year_released': 2023,\n",
       "  'runtime': 123,\n",
       "  'imdb_reviews': 423,\n",
       "  'external_reviews': 73,\n",
       "  'imdb_rating': 0.9583333333333334,\n",
       "  'metacritic_punctuation': 1.375,\n",
       "  'budget': 1023,\n",
       "  'earning_worldwide': 11500,\n",
       "  'earning_US&CA': 1150,\n",
       "  'genres': ['action', 'sci-fi', 'drama', 'romance'],\n",
       "  'directors': ['Director1_23', 'Director2_23'],\n",
       "  'cast': ['Actor_23', 'Actor_2323', 'Actor_232323'],\n",
       "  'imdb_recommendations': {},\n",
       "  'new_recommendations': {}},\n",
       " 24: {'name': 'Film__24',\n",
       "  'imdb_id': '24',\n",
       "  'year_released': 2024,\n",
       "  'runtime': 124,\n",
       "  'imdb_reviews': 424,\n",
       "  'external_reviews': 74,\n",
       "  'imdb_rating': 0.96,\n",
       "  'metacritic_punctuation': 1.36,\n",
       "  'budget': 1024,\n",
       "  'earning_worldwide': 12000,\n",
       "  'earning_US&CA': 1200,\n",
       "  'genres': ['action', 'sci-fi', 'drama', 'romance'],\n",
       "  'directors': ['Director1_24', 'Director2_24'],\n",
       "  'cast': ['Actor_24', 'Actor_2424', 'Actor_242424'],\n",
       "  'imdb_recommendations': {},\n",
       "  'new_recommendations': {}},\n",
       " 25: {'name': 'Film__25',\n",
       "  'imdb_id': '25',\n",
       "  'year_released': 2025,\n",
       "  'runtime': 125,\n",
       "  'imdb_reviews': 425,\n",
       "  'external_reviews': 75,\n",
       "  'imdb_rating': 0.9615384615384616,\n",
       "  'metacritic_punctuation': 1.3461538461538463,\n",
       "  'budget': 1025,\n",
       "  'earning_worldwide': 12500,\n",
       "  'earning_US&CA': 1250,\n",
       "  'genres': ['action', 'sci-fi', 'drama', 'romance'],\n",
       "  'directors': ['Director1_25', 'Director2_25'],\n",
       "  'cast': ['Actor_25', 'Actor_2525', 'Actor_252525'],\n",
       "  'imdb_recommendations': {},\n",
       "  'new_recommendations': {}},\n",
       " 26: {'name': 'Film__26',\n",
       "  'imdb_id': '26',\n",
       "  'year_released': 2026,\n",
       "  'runtime': 126,\n",
       "  'imdb_reviews': 426,\n",
       "  'external_reviews': 76,\n",
       "  'imdb_rating': 0.9629629629629629,\n",
       "  'metacritic_punctuation': 1.3333333333333333,\n",
       "  'budget': 1026,\n",
       "  'earning_worldwide': 13000,\n",
       "  'earning_US&CA': 1300,\n",
       "  'genres': ['action', 'sci-fi', 'drama', 'romance'],\n",
       "  'directors': ['Director1_26', 'Director2_26'],\n",
       "  'cast': ['Actor_26', 'Actor_2626', 'Actor_262626'],\n",
       "  'imdb_recommendations': {},\n",
       "  'new_recommendations': {}},\n",
       " 27: {'name': 'Film__27',\n",
       "  'imdb_id': '27',\n",
       "  'year_released': 2027,\n",
       "  'runtime': 127,\n",
       "  'imdb_reviews': 427,\n",
       "  'external_reviews': 77,\n",
       "  'imdb_rating': 0.9642857142857143,\n",
       "  'metacritic_punctuation': 1.3214285714285714,\n",
       "  'budget': 1027,\n",
       "  'earning_worldwide': 13500,\n",
       "  'earning_US&CA': 1350,\n",
       "  'genres': ['action', 'sci-fi', 'drama', 'romance'],\n",
       "  'directors': ['Director1_27', 'Director2_27'],\n",
       "  'cast': ['Actor_27', 'Actor_2727', 'Actor_272727'],\n",
       "  'imdb_recommendations': {},\n",
       "  'new_recommendations': {}},\n",
       " 28: {'name': 'Film__28',\n",
       "  'imdb_id': '28',\n",
       "  'year_released': 2028,\n",
       "  'runtime': 128,\n",
       "  'imdb_reviews': 428,\n",
       "  'external_reviews': 78,\n",
       "  'imdb_rating': 0.9655172413793104,\n",
       "  'metacritic_punctuation': 1.3103448275862069,\n",
       "  'budget': 1028,\n",
       "  'earning_worldwide': 14000,\n",
       "  'earning_US&CA': 1400,\n",
       "  'genres': ['action', 'sci-fi', 'drama', 'romance'],\n",
       "  'directors': ['Director1_28', 'Director2_28'],\n",
       "  'cast': ['Actor_28', 'Actor_2828', 'Actor_282828'],\n",
       "  'imdb_recommendations': {},\n",
       "  'new_recommendations': {}},\n",
       " 29: {'name': 'Film__29',\n",
       "  'imdb_id': '29',\n",
       "  'year_released': 2029,\n",
       "  'runtime': 129,\n",
       "  'imdb_reviews': 429,\n",
       "  'external_reviews': 79,\n",
       "  'imdb_rating': 0.9666666666666667,\n",
       "  'metacritic_punctuation': 1.3,\n",
       "  'budget': 1029,\n",
       "  'earning_worldwide': 14500,\n",
       "  'earning_US&CA': 1450,\n",
       "  'genres': ['action', 'sci-fi', 'drama', 'romance'],\n",
       "  'directors': ['Director1_29', 'Director2_29'],\n",
       "  'cast': ['Actor_29', 'Actor_2929', 'Actor_292929'],\n",
       "  'imdb_recommendations': {},\n",
       "  'new_recommendations': {}},\n",
       " 30: {'name': 'Film__30',\n",
       "  'imdb_id': '30',\n",
       "  'year_released': 2030,\n",
       "  'runtime': 130,\n",
       "  'imdb_reviews': 430,\n",
       "  'external_reviews': 80,\n",
       "  'imdb_rating': 0.967741935483871,\n",
       "  'metacritic_punctuation': 1.2903225806451613,\n",
       "  'budget': 1030,\n",
       "  'earning_worldwide': 15000,\n",
       "  'earning_US&CA': 1500,\n",
       "  'genres': ['action', 'sci-fi', 'drama', 'romance'],\n",
       "  'directors': ['Director1_30', 'Director2_30'],\n",
       "  'cast': ['Actor_30', 'Actor_3030', 'Actor_303030'],\n",
       "  'imdb_recommendations': {},\n",
       "  'new_recommendations': {}},\n",
       " 31: {'name': 'Film__31',\n",
       "  'imdb_id': '31',\n",
       "  'year_released': 2031,\n",
       "  'runtime': 131,\n",
       "  'imdb_reviews': 431,\n",
       "  'external_reviews': 81,\n",
       "  'imdb_rating': 0.96875,\n",
       "  'metacritic_punctuation': 1.28125,\n",
       "  'budget': 1031,\n",
       "  'earning_worldwide': 15500,\n",
       "  'earning_US&CA': 1550,\n",
       "  'genres': ['action', 'sci-fi', 'drama', 'romance'],\n",
       "  'directors': ['Director1_31', 'Director2_31'],\n",
       "  'cast': ['Actor_31', 'Actor_3131', 'Actor_313131'],\n",
       "  'imdb_recommendations': {},\n",
       "  'new_recommendations': {}},\n",
       " 32: {'name': 'Film__32',\n",
       "  'imdb_id': '32',\n",
       "  'year_released': 2032,\n",
       "  'runtime': 132,\n",
       "  'imdb_reviews': 432,\n",
       "  'external_reviews': 82,\n",
       "  'imdb_rating': 0.9696969696969697,\n",
       "  'metacritic_punctuation': 1.2727272727272727,\n",
       "  'budget': 1032,\n",
       "  'earning_worldwide': 16000,\n",
       "  'earning_US&CA': 1600,\n",
       "  'genres': ['action', 'sci-fi', 'drama', 'romance'],\n",
       "  'directors': ['Director1_32', 'Director2_32'],\n",
       "  'cast': ['Actor_32', 'Actor_3232', 'Actor_323232'],\n",
       "  'imdb_recommendations': {},\n",
       "  'new_recommendations': {}},\n",
       " 33: {'name': 'Film__33',\n",
       "  'imdb_id': '33',\n",
       "  'year_released': 2033,\n",
       "  'runtime': 133,\n",
       "  'imdb_reviews': 433,\n",
       "  'external_reviews': 83,\n",
       "  'imdb_rating': 0.9705882352941176,\n",
       "  'metacritic_punctuation': 1.2647058823529411,\n",
       "  'budget': 1033,\n",
       "  'earning_worldwide': 16500,\n",
       "  'earning_US&CA': 1650,\n",
       "  'genres': ['action', 'sci-fi', 'drama', 'romance'],\n",
       "  'directors': ['Director1_33', 'Director2_33'],\n",
       "  'cast': ['Actor_33', 'Actor_3333', 'Actor_333333'],\n",
       "  'imdb_recommendations': {},\n",
       "  'new_recommendations': {}},\n",
       " 34: {'name': 'Film__34',\n",
       "  'imdb_id': '34',\n",
       "  'year_released': 2034,\n",
       "  'runtime': 134,\n",
       "  'imdb_reviews': 434,\n",
       "  'external_reviews': 84,\n",
       "  'imdb_rating': 0.9714285714285714,\n",
       "  'metacritic_punctuation': 1.2571428571428571,\n",
       "  'budget': 1034,\n",
       "  'earning_worldwide': 17000,\n",
       "  'earning_US&CA': 1700,\n",
       "  'genres': ['action', 'sci-fi', 'drama', 'romance'],\n",
       "  'directors': ['Director1_34', 'Director2_34'],\n",
       "  'cast': ['Actor_34', 'Actor_3434', 'Actor_343434'],\n",
       "  'imdb_recommendations': {},\n",
       "  'new_recommendations': {}},\n",
       " 35: {'name': 'Film__35',\n",
       "  'imdb_id': '35',\n",
       "  'year_released': 2035,\n",
       "  'runtime': 135,\n",
       "  'imdb_reviews': 435,\n",
       "  'external_reviews': 85,\n",
       "  'imdb_rating': 0.9722222222222222,\n",
       "  'metacritic_punctuation': 1.25,\n",
       "  'budget': 1035,\n",
       "  'earning_worldwide': 17500,\n",
       "  'earning_US&CA': 1750,\n",
       "  'genres': ['action', 'sci-fi', 'drama', 'romance'],\n",
       "  'directors': ['Director1_35', 'Director2_35'],\n",
       "  'cast': ['Actor_35', 'Actor_3535', 'Actor_353535'],\n",
       "  'imdb_recommendations': {},\n",
       "  'new_recommendations': {}},\n",
       " 36: {'name': 'Film__36',\n",
       "  'imdb_id': '36',\n",
       "  'year_released': 2036,\n",
       "  'runtime': 136,\n",
       "  'imdb_reviews': 436,\n",
       "  'external_reviews': 86,\n",
       "  'imdb_rating': 0.972972972972973,\n",
       "  'metacritic_punctuation': 1.2432432432432432,\n",
       "  'budget': 1036,\n",
       "  'earning_worldwide': 18000,\n",
       "  'earning_US&CA': 1800,\n",
       "  'genres': ['action', 'sci-fi', 'drama', 'romance'],\n",
       "  'directors': ['Director1_36', 'Director2_36'],\n",
       "  'cast': ['Actor_36', 'Actor_3636', 'Actor_363636'],\n",
       "  'imdb_recommendations': {},\n",
       "  'new_recommendations': {}},\n",
       " 37: {'name': 'Film__37',\n",
       "  'imdb_id': '37',\n",
       "  'year_released': 2037,\n",
       "  'runtime': 137,\n",
       "  'imdb_reviews': 437,\n",
       "  'external_reviews': 87,\n",
       "  'imdb_rating': 0.9736842105263158,\n",
       "  'metacritic_punctuation': 1.236842105263158,\n",
       "  'budget': 1037,\n",
       "  'earning_worldwide': 18500,\n",
       "  'earning_US&CA': 1850,\n",
       "  'genres': ['action', 'sci-fi', 'drama', 'romance'],\n",
       "  'directors': ['Director1_37', 'Director2_37'],\n",
       "  'cast': ['Actor_37', 'Actor_3737', 'Actor_373737'],\n",
       "  'imdb_recommendations': {},\n",
       "  'new_recommendations': {}},\n",
       " 38: {'name': 'Film__38',\n",
       "  'imdb_id': '38',\n",
       "  'year_released': 2038,\n",
       "  'runtime': 138,\n",
       "  'imdb_reviews': 438,\n",
       "  'external_reviews': 88,\n",
       "  'imdb_rating': 0.9743589743589743,\n",
       "  'metacritic_punctuation': 1.2307692307692308,\n",
       "  'budget': 1038,\n",
       "  'earning_worldwide': 19000,\n",
       "  'earning_US&CA': 1900,\n",
       "  'genres': ['action', 'sci-fi', 'drama', 'romance'],\n",
       "  'directors': ['Director1_38', 'Director2_38'],\n",
       "  'cast': ['Actor_38', 'Actor_3838', 'Actor_383838'],\n",
       "  'imdb_recommendations': {},\n",
       "  'new_recommendations': {}},\n",
       " 39: {'name': 'Film__39',\n",
       "  'imdb_id': '39',\n",
       "  'year_released': 2039,\n",
       "  'runtime': 139,\n",
       "  'imdb_reviews': 439,\n",
       "  'external_reviews': 89,\n",
       "  'imdb_rating': 0.975,\n",
       "  'metacritic_punctuation': 1.225,\n",
       "  'budget': 1039,\n",
       "  'earning_worldwide': 19500,\n",
       "  'earning_US&CA': 1950,\n",
       "  'genres': ['action', 'sci-fi', 'drama', 'romance'],\n",
       "  'directors': ['Director1_39', 'Director2_39'],\n",
       "  'cast': ['Actor_39', 'Actor_3939', 'Actor_393939'],\n",
       "  'imdb_recommendations': {},\n",
       "  'new_recommendations': {}},\n",
       " 40: {'name': 'Film__40',\n",
       "  'imdb_id': '40',\n",
       "  'year_released': 2040,\n",
       "  'runtime': 140,\n",
       "  'imdb_reviews': 440,\n",
       "  'external_reviews': 90,\n",
       "  'imdb_rating': 0.975609756097561,\n",
       "  'metacritic_punctuation': 1.2195121951219512,\n",
       "  'budget': 1040,\n",
       "  'earning_worldwide': 20000,\n",
       "  'earning_US&CA': 2000,\n",
       "  'genres': ['action', 'sci-fi', 'drama', 'romance'],\n",
       "  'directors': ['Director1_40', 'Director2_40'],\n",
       "  'cast': ['Actor_40', 'Actor_4040', 'Actor_404040'],\n",
       "  'imdb_recommendations': {},\n",
       "  'new_recommendations': {}},\n",
       " 41: {'name': 'Film__41',\n",
       "  'imdb_id': '41',\n",
       "  'year_released': 2041,\n",
       "  'runtime': 141,\n",
       "  'imdb_reviews': 441,\n",
       "  'external_reviews': 91,\n",
       "  'imdb_rating': 0.9761904761904762,\n",
       "  'metacritic_punctuation': 1.2142857142857142,\n",
       "  'budget': 1041,\n",
       "  'earning_worldwide': 20500,\n",
       "  'earning_US&CA': 2050,\n",
       "  'genres': ['action', 'sci-fi', 'drama', 'romance'],\n",
       "  'directors': ['Director1_41', 'Director2_41'],\n",
       "  'cast': ['Actor_41', 'Actor_4141', 'Actor_414141'],\n",
       "  'imdb_recommendations': {},\n",
       "  'new_recommendations': {}},\n",
       " 42: {'name': 'Film__42',\n",
       "  'imdb_id': '42',\n",
       "  'year_released': 2042,\n",
       "  'runtime': 142,\n",
       "  'imdb_reviews': 442,\n",
       "  'external_reviews': 92,\n",
       "  'imdb_rating': 0.9767441860465116,\n",
       "  'metacritic_punctuation': 1.2093023255813953,\n",
       "  'budget': 1042,\n",
       "  'earning_worldwide': 21000,\n",
       "  'earning_US&CA': 2100,\n",
       "  'genres': ['action', 'sci-fi', 'drama', 'romance'],\n",
       "  'directors': ['Director1_42', 'Director2_42'],\n",
       "  'cast': ['Actor_42', 'Actor_4242', 'Actor_424242'],\n",
       "  'imdb_recommendations': {},\n",
       "  'new_recommendations': {}},\n",
       " 43: {'name': 'Film__43',\n",
       "  'imdb_id': '43',\n",
       "  'year_released': 2043,\n",
       "  'runtime': 143,\n",
       "  'imdb_reviews': 443,\n",
       "  'external_reviews': 93,\n",
       "  'imdb_rating': 0.9772727272727273,\n",
       "  'metacritic_punctuation': 1.2045454545454546,\n",
       "  'budget': 1043,\n",
       "  'earning_worldwide': 21500,\n",
       "  'earning_US&CA': 2150,\n",
       "  'genres': ['action', 'sci-fi', 'drama', 'romance'],\n",
       "  'directors': ['Director1_43', 'Director2_43'],\n",
       "  'cast': ['Actor_43', 'Actor_4343', 'Actor_434343'],\n",
       "  'imdb_recommendations': {},\n",
       "  'new_recommendations': {}},\n",
       " 44: {'name': 'Film__44',\n",
       "  'imdb_id': '44',\n",
       "  'year_released': 2044,\n",
       "  'runtime': 144,\n",
       "  'imdb_reviews': 444,\n",
       "  'external_reviews': 94,\n",
       "  'imdb_rating': 0.9777777777777777,\n",
       "  'metacritic_punctuation': 1.2,\n",
       "  'budget': 1044,\n",
       "  'earning_worldwide': 22000,\n",
       "  'earning_US&CA': 2200,\n",
       "  'genres': ['action', 'sci-fi', 'drama', 'romance'],\n",
       "  'directors': ['Director1_44', 'Director2_44'],\n",
       "  'cast': ['Actor_44', 'Actor_4444', 'Actor_444444'],\n",
       "  'imdb_recommendations': {},\n",
       "  'new_recommendations': {}},\n",
       " 45: {'name': 'Film__45',\n",
       "  'imdb_id': '45',\n",
       "  'year_released': 2045,\n",
       "  'runtime': 145,\n",
       "  'imdb_reviews': 445,\n",
       "  'external_reviews': 95,\n",
       "  'imdb_rating': 0.9782608695652174,\n",
       "  'metacritic_punctuation': 1.1956521739130435,\n",
       "  'budget': 1045,\n",
       "  'earning_worldwide': 22500,\n",
       "  'earning_US&CA': 2250,\n",
       "  'genres': ['action', 'sci-fi', 'drama', 'romance'],\n",
       "  'directors': ['Director1_45', 'Director2_45'],\n",
       "  'cast': ['Actor_45', 'Actor_4545', 'Actor_454545'],\n",
       "  'imdb_recommendations': {},\n",
       "  'new_recommendations': {}},\n",
       " 46: {'name': 'Film__46',\n",
       "  'imdb_id': '46',\n",
       "  'year_released': 2046,\n",
       "  'runtime': 146,\n",
       "  'imdb_reviews': 446,\n",
       "  'external_reviews': 96,\n",
       "  'imdb_rating': 0.9787234042553191,\n",
       "  'metacritic_punctuation': 1.1914893617021276,\n",
       "  'budget': 1046,\n",
       "  'earning_worldwide': 23000,\n",
       "  'earning_US&CA': 2300,\n",
       "  'genres': ['action', 'sci-fi', 'drama', 'romance'],\n",
       "  'directors': ['Director1_46', 'Director2_46'],\n",
       "  'cast': ['Actor_46', 'Actor_4646', 'Actor_464646'],\n",
       "  'imdb_recommendations': {},\n",
       "  'new_recommendations': {}},\n",
       " 47: {'name': 'Film__47',\n",
       "  'imdb_id': '47',\n",
       "  'year_released': 2047,\n",
       "  'runtime': 147,\n",
       "  'imdb_reviews': 447,\n",
       "  'external_reviews': 97,\n",
       "  'imdb_rating': 0.9791666666666666,\n",
       "  'metacritic_punctuation': 1.1875,\n",
       "  'budget': 1047,\n",
       "  'earning_worldwide': 23500,\n",
       "  'earning_US&CA': 2350,\n",
       "  'genres': ['action', 'sci-fi', 'drama', 'romance'],\n",
       "  'directors': ['Director1_47', 'Director2_47'],\n",
       "  'cast': ['Actor_47', 'Actor_4747', 'Actor_474747'],\n",
       "  'imdb_recommendations': {},\n",
       "  'new_recommendations': {}},\n",
       " 48: {'name': 'Film__48',\n",
       "  'imdb_id': '48',\n",
       "  'year_released': 2048,\n",
       "  'runtime': 148,\n",
       "  'imdb_reviews': 448,\n",
       "  'external_reviews': 98,\n",
       "  'imdb_rating': 0.9795918367346939,\n",
       "  'metacritic_punctuation': 1.183673469387755,\n",
       "  'budget': 1048,\n",
       "  'earning_worldwide': 24000,\n",
       "  'earning_US&CA': 2400,\n",
       "  'genres': ['action', 'sci-fi', 'drama', 'romance'],\n",
       "  'directors': ['Director1_48', 'Director2_48'],\n",
       "  'cast': ['Actor_48', 'Actor_4848', 'Actor_484848'],\n",
       "  'imdb_recommendations': {},\n",
       "  'new_recommendations': {}},\n",
       " 49: {'name': 'Film__49',\n",
       "  'imdb_id': '49',\n",
       "  'year_released': 2049,\n",
       "  'runtime': 149,\n",
       "  'imdb_reviews': 449,\n",
       "  'external_reviews': 99,\n",
       "  'imdb_rating': 0.98,\n",
       "  'metacritic_punctuation': 1.18,\n",
       "  'budget': 1049,\n",
       "  'earning_worldwide': 24500,\n",
       "  'earning_US&CA': 2450,\n",
       "  'genres': ['action', 'sci-fi', 'drama', 'romance'],\n",
       "  'directors': ['Director1_49', 'Director2_49'],\n",
       "  'cast': ['Actor_49', 'Actor_4949', 'Actor_494949'],\n",
       "  'imdb_recommendations': {},\n",
       "  'new_recommendations': {}},\n",
       " 50: {'name': 'Film__50',\n",
       "  'imdb_id': '50',\n",
       "  'year_released': 2050,\n",
       "  'runtime': 150,\n",
       "  'imdb_reviews': 450,\n",
       "  'external_reviews': 100,\n",
       "  'imdb_rating': 0.9803921568627451,\n",
       "  'metacritic_punctuation': 1.1764705882352942,\n",
       "  'budget': 1050,\n",
       "  'earning_worldwide': 25000,\n",
       "  'earning_US&CA': 2500,\n",
       "  'genres': ['action', 'sci-fi', 'drama', 'romance'],\n",
       "  'directors': ['Director1_50', 'Director2_50'],\n",
       "  'cast': ['Actor_50', 'Actor_5050', 'Actor_505050'],\n",
       "  'imdb_recommendations': {},\n",
       "  'new_recommendations': {}},\n",
       " 51: {'name': 'Film__51',\n",
       "  'imdb_id': '51',\n",
       "  'year_released': 2051,\n",
       "  'runtime': 151,\n",
       "  'imdb_reviews': 451,\n",
       "  'external_reviews': 101,\n",
       "  'imdb_rating': 0.9807692307692307,\n",
       "  'metacritic_punctuation': 1.1730769230769231,\n",
       "  'budget': 1051,\n",
       "  'earning_worldwide': 25500,\n",
       "  'earning_US&CA': 2550,\n",
       "  'genres': ['action', 'sci-fi', 'drama', 'romance'],\n",
       "  'directors': ['Director1_51', 'Director2_51'],\n",
       "  'cast': ['Actor_51', 'Actor_5151', 'Actor_515151'],\n",
       "  'imdb_recommendations': {},\n",
       "  'new_recommendations': {}},\n",
       " 52: {'name': 'Film__52',\n",
       "  'imdb_id': '52',\n",
       "  'year_released': 2052,\n",
       "  'runtime': 152,\n",
       "  'imdb_reviews': 452,\n",
       "  'external_reviews': 102,\n",
       "  'imdb_rating': 0.9811320754716981,\n",
       "  'metacritic_punctuation': 1.169811320754717,\n",
       "  'budget': 1052,\n",
       "  'earning_worldwide': 26000,\n",
       "  'earning_US&CA': 2600,\n",
       "  'genres': ['action', 'sci-fi', 'drama', 'romance'],\n",
       "  'directors': ['Director1_52', 'Director2_52'],\n",
       "  'cast': ['Actor_52', 'Actor_5252', 'Actor_525252'],\n",
       "  'imdb_recommendations': {},\n",
       "  'new_recommendations': {}},\n",
       " 53: {'name': 'Film__53',\n",
       "  'imdb_id': '53',\n",
       "  'year_released': 2053,\n",
       "  'runtime': 153,\n",
       "  'imdb_reviews': 453,\n",
       "  'external_reviews': 103,\n",
       "  'imdb_rating': 0.9814814814814815,\n",
       "  'metacritic_punctuation': 1.1666666666666667,\n",
       "  'budget': 1053,\n",
       "  'earning_worldwide': 26500,\n",
       "  'earning_US&CA': 2650,\n",
       "  'genres': ['action', 'sci-fi', 'drama', 'romance'],\n",
       "  'directors': ['Director1_53', 'Director2_53'],\n",
       "  'cast': ['Actor_53', 'Actor_5353', 'Actor_535353'],\n",
       "  'imdb_recommendations': {},\n",
       "  'new_recommendations': {}},\n",
       " 54: {'name': 'Film__54',\n",
       "  'imdb_id': '54',\n",
       "  'year_released': 2054,\n",
       "  'runtime': 154,\n",
       "  'imdb_reviews': 454,\n",
       "  'external_reviews': 104,\n",
       "  'imdb_rating': 0.9818181818181818,\n",
       "  'metacritic_punctuation': 1.1636363636363636,\n",
       "  'budget': 1054,\n",
       "  'earning_worldwide': 27000,\n",
       "  'earning_US&CA': 2700,\n",
       "  'genres': ['action', 'sci-fi', 'drama', 'romance'],\n",
       "  'directors': ['Director1_54', 'Director2_54'],\n",
       "  'cast': ['Actor_54', 'Actor_5454', 'Actor_545454'],\n",
       "  'imdb_recommendations': {},\n",
       "  'new_recommendations': {}},\n",
       " 55: {'name': 'Film__55',\n",
       "  'imdb_id': '55',\n",
       "  'year_released': 2055,\n",
       "  'runtime': 155,\n",
       "  'imdb_reviews': 455,\n",
       "  'external_reviews': 105,\n",
       "  'imdb_rating': 0.9821428571428571,\n",
       "  'metacritic_punctuation': 1.1607142857142858,\n",
       "  'budget': 1055,\n",
       "  'earning_worldwide': 27500,\n",
       "  'earning_US&CA': 2750,\n",
       "  'genres': ['action', 'sci-fi', 'drama', 'romance'],\n",
       "  'directors': ['Director1_55', 'Director2_55'],\n",
       "  'cast': ['Actor_55', 'Actor_5555', 'Actor_555555'],\n",
       "  'imdb_recommendations': {},\n",
       "  'new_recommendations': {}},\n",
       " 56: {'name': 'Film__56',\n",
       "  'imdb_id': '56',\n",
       "  'year_released': 2056,\n",
       "  'runtime': 156,\n",
       "  'imdb_reviews': 456,\n",
       "  'external_reviews': 106,\n",
       "  'imdb_rating': 0.9824561403508771,\n",
       "  'metacritic_punctuation': 1.1578947368421053,\n",
       "  'budget': 1056,\n",
       "  'earning_worldwide': 28000,\n",
       "  'earning_US&CA': 2800,\n",
       "  'genres': ['action', 'sci-fi', 'drama', 'romance'],\n",
       "  'directors': ['Director1_56', 'Director2_56'],\n",
       "  'cast': ['Actor_56', 'Actor_5656', 'Actor_565656'],\n",
       "  'imdb_recommendations': {},\n",
       "  'new_recommendations': {}},\n",
       " 57: {'name': 'Film__57',\n",
       "  'imdb_id': '57',\n",
       "  'year_released': 2057,\n",
       "  'runtime': 157,\n",
       "  'imdb_reviews': 457,\n",
       "  'external_reviews': 107,\n",
       "  'imdb_rating': 0.9827586206896551,\n",
       "  'metacritic_punctuation': 1.1551724137931034,\n",
       "  'budget': 1057,\n",
       "  'earning_worldwide': 28500,\n",
       "  'earning_US&CA': 2850,\n",
       "  'genres': ['action', 'sci-fi', 'drama', 'romance'],\n",
       "  'directors': ['Director1_57', 'Director2_57'],\n",
       "  'cast': ['Actor_57', 'Actor_5757', 'Actor_575757'],\n",
       "  'imdb_recommendations': {},\n",
       "  'new_recommendations': {}},\n",
       " 58: {'name': 'Film__58',\n",
       "  'imdb_id': '58',\n",
       "  'year_released': 2058,\n",
       "  'runtime': 158,\n",
       "  'imdb_reviews': 458,\n",
       "  'external_reviews': 108,\n",
       "  'imdb_rating': 0.9830508474576272,\n",
       "  'metacritic_punctuation': 1.152542372881356,\n",
       "  'budget': 1058,\n",
       "  'earning_worldwide': 29000,\n",
       "  'earning_US&CA': 2900,\n",
       "  'genres': ['action', 'sci-fi', 'drama', 'romance'],\n",
       "  'directors': ['Director1_58', 'Director2_58'],\n",
       "  'cast': ['Actor_58', 'Actor_5858', 'Actor_585858'],\n",
       "  'imdb_recommendations': {},\n",
       "  'new_recommendations': {}},\n",
       " 59: {'name': 'Film__59',\n",
       "  'imdb_id': '59',\n",
       "  'year_released': 2059,\n",
       "  'runtime': 159,\n",
       "  'imdb_reviews': 459,\n",
       "  'external_reviews': 109,\n",
       "  'imdb_rating': 0.9833333333333333,\n",
       "  'metacritic_punctuation': 1.15,\n",
       "  'budget': 1059,\n",
       "  'earning_worldwide': 29500,\n",
       "  'earning_US&CA': 2950,\n",
       "  'genres': ['action', 'sci-fi', 'drama', 'romance'],\n",
       "  'directors': ['Director1_59', 'Director2_59'],\n",
       "  'cast': ['Actor_59', 'Actor_5959', 'Actor_595959'],\n",
       "  'imdb_recommendations': {},\n",
       "  'new_recommendations': {}},\n",
       " 60: {'name': 'Film__60',\n",
       "  'imdb_id': '60',\n",
       "  'year_released': 2060,\n",
       "  'runtime': 160,\n",
       "  'imdb_reviews': 460,\n",
       "  'external_reviews': 110,\n",
       "  'imdb_rating': 0.9836065573770492,\n",
       "  'metacritic_punctuation': 1.1475409836065573,\n",
       "  'budget': 1060,\n",
       "  'earning_worldwide': 30000,\n",
       "  'earning_US&CA': 3000,\n",
       "  'genres': ['action', 'sci-fi', 'drama', 'romance'],\n",
       "  'directors': ['Director1_60', 'Director2_60'],\n",
       "  'cast': ['Actor_60', 'Actor_6060', 'Actor_606060'],\n",
       "  'imdb_recommendations': {},\n",
       "  'new_recommendations': {}},\n",
       " 61: {'name': 'Film__61',\n",
       "  'imdb_id': '61',\n",
       "  'year_released': 2061,\n",
       "  'runtime': 161,\n",
       "  'imdb_reviews': 461,\n",
       "  'external_reviews': 111,\n",
       "  'imdb_rating': 0.9838709677419355,\n",
       "  'metacritic_punctuation': 1.1451612903225807,\n",
       "  'budget': 1061,\n",
       "  'earning_worldwide': 30500,\n",
       "  'earning_US&CA': 3050,\n",
       "  'genres': ['action', 'sci-fi', 'drama', 'romance'],\n",
       "  'directors': ['Director1_61', 'Director2_61'],\n",
       "  'cast': ['Actor_61', 'Actor_6161', 'Actor_616161'],\n",
       "  'imdb_recommendations': {},\n",
       "  'new_recommendations': {}},\n",
       " 62: {'name': 'Film__62',\n",
       "  'imdb_id': '62',\n",
       "  'year_released': 2062,\n",
       "  'runtime': 162,\n",
       "  'imdb_reviews': 462,\n",
       "  'external_reviews': 112,\n",
       "  'imdb_rating': 0.9841269841269841,\n",
       "  'metacritic_punctuation': 1.1428571428571428,\n",
       "  'budget': 1062,\n",
       "  'earning_worldwide': 31000,\n",
       "  'earning_US&CA': 3100,\n",
       "  'genres': ['action', 'sci-fi', 'drama', 'romance'],\n",
       "  'directors': ['Director1_62', 'Director2_62'],\n",
       "  'cast': ['Actor_62', 'Actor_6262', 'Actor_626262'],\n",
       "  'imdb_recommendations': {},\n",
       "  'new_recommendations': {}},\n",
       " 63: {'name': 'Film__63',\n",
       "  'imdb_id': '63',\n",
       "  'year_released': 2063,\n",
       "  'runtime': 163,\n",
       "  'imdb_reviews': 463,\n",
       "  'external_reviews': 113,\n",
       "  'imdb_rating': 0.984375,\n",
       "  'metacritic_punctuation': 1.140625,\n",
       "  'budget': 1063,\n",
       "  'earning_worldwide': 31500,\n",
       "  'earning_US&CA': 3150,\n",
       "  'genres': ['action', 'sci-fi', 'drama', 'romance'],\n",
       "  'directors': ['Director1_63', 'Director2_63'],\n",
       "  'cast': ['Actor_63', 'Actor_6363', 'Actor_636363'],\n",
       "  'imdb_recommendations': {},\n",
       "  'new_recommendations': {}},\n",
       " 64: {'name': 'Film__64',\n",
       "  'imdb_id': '64',\n",
       "  'year_released': 2064,\n",
       "  'runtime': 164,\n",
       "  'imdb_reviews': 464,\n",
       "  'external_reviews': 114,\n",
       "  'imdb_rating': 0.9846153846153847,\n",
       "  'metacritic_punctuation': 1.1384615384615384,\n",
       "  'budget': 1064,\n",
       "  'earning_worldwide': 32000,\n",
       "  'earning_US&CA': 3200,\n",
       "  'genres': ['action', 'sci-fi', 'drama', 'romance'],\n",
       "  'directors': ['Director1_64', 'Director2_64'],\n",
       "  'cast': ['Actor_64', 'Actor_6464', 'Actor_646464'],\n",
       "  'imdb_recommendations': {},\n",
       "  'new_recommendations': {}},\n",
       " 65: {'name': 'Film__65',\n",
       "  'imdb_id': '65',\n",
       "  'year_released': 2065,\n",
       "  'runtime': 165,\n",
       "  'imdb_reviews': 465,\n",
       "  'external_reviews': 115,\n",
       "  'imdb_rating': 0.9848484848484849,\n",
       "  'metacritic_punctuation': 1.1363636363636365,\n",
       "  'budget': 1065,\n",
       "  'earning_worldwide': 32500,\n",
       "  'earning_US&CA': 3250,\n",
       "  'genres': ['action', 'sci-fi', 'drama', 'romance'],\n",
       "  'directors': ['Director1_65', 'Director2_65'],\n",
       "  'cast': ['Actor_65', 'Actor_6565', 'Actor_656565'],\n",
       "  'imdb_recommendations': {},\n",
       "  'new_recommendations': {}},\n",
       " 66: {'name': 'Film__66',\n",
       "  'imdb_id': '66',\n",
       "  'year_released': 2066,\n",
       "  'runtime': 166,\n",
       "  'imdb_reviews': 466,\n",
       "  'external_reviews': 116,\n",
       "  'imdb_rating': 0.9850746268656716,\n",
       "  'metacritic_punctuation': 1.1343283582089552,\n",
       "  'budget': 1066,\n",
       "  'earning_worldwide': 33000,\n",
       "  'earning_US&CA': 3300,\n",
       "  'genres': ['action', 'sci-fi', 'drama', 'romance'],\n",
       "  'directors': ['Director1_66', 'Director2_66'],\n",
       "  'cast': ['Actor_66', 'Actor_6666', 'Actor_666666'],\n",
       "  'imdb_recommendations': {},\n",
       "  'new_recommendations': {}},\n",
       " 67: {'name': 'Film__67',\n",
       "  'imdb_id': '67',\n",
       "  'year_released': 2067,\n",
       "  'runtime': 167,\n",
       "  'imdb_reviews': 467,\n",
       "  'external_reviews': 117,\n",
       "  'imdb_rating': 0.9852941176470589,\n",
       "  'metacritic_punctuation': 1.1323529411764706,\n",
       "  'budget': 1067,\n",
       "  'earning_worldwide': 33500,\n",
       "  'earning_US&CA': 3350,\n",
       "  'genres': ['action', 'sci-fi', 'drama', 'romance'],\n",
       "  'directors': ['Director1_67', 'Director2_67'],\n",
       "  'cast': ['Actor_67', 'Actor_6767', 'Actor_676767'],\n",
       "  'imdb_recommendations': {},\n",
       "  'new_recommendations': {}},\n",
       " 68: {'name': 'Film__68',\n",
       "  'imdb_id': '68',\n",
       "  'year_released': 2068,\n",
       "  'runtime': 168,\n",
       "  'imdb_reviews': 468,\n",
       "  'external_reviews': 118,\n",
       "  'imdb_rating': 0.9855072463768116,\n",
       "  'metacritic_punctuation': 1.1304347826086956,\n",
       "  'budget': 1068,\n",
       "  'earning_worldwide': 34000,\n",
       "  'earning_US&CA': 3400,\n",
       "  'genres': ['action', 'sci-fi', 'drama', 'romance'],\n",
       "  'directors': ['Director1_68', 'Director2_68'],\n",
       "  'cast': ['Actor_68', 'Actor_6868', 'Actor_686868'],\n",
       "  'imdb_recommendations': {},\n",
       "  'new_recommendations': {}},\n",
       " 69: {'name': 'Film__69',\n",
       "  'imdb_id': '69',\n",
       "  'year_released': 2069,\n",
       "  'runtime': 169,\n",
       "  'imdb_reviews': 469,\n",
       "  'external_reviews': 119,\n",
       "  'imdb_rating': 0.9857142857142858,\n",
       "  'metacritic_punctuation': 1.1285714285714286,\n",
       "  'budget': 1069,\n",
       "  'earning_worldwide': 34500,\n",
       "  'earning_US&CA': 3450,\n",
       "  'genres': ['action', 'sci-fi', 'drama', 'romance'],\n",
       "  'directors': ['Director1_69', 'Director2_69'],\n",
       "  'cast': ['Actor_69', 'Actor_6969', 'Actor_696969'],\n",
       "  'imdb_recommendations': {},\n",
       "  'new_recommendations': {}}}"
      ]
     },
     "execution_count": 376,
     "metadata": {},
     "output_type": "execute_result"
    }
   ],
   "source": [
    "movies"
   ]
  },
  {
   "cell_type": "code",
   "execution_count": 377,
   "id": "11c110fa",
   "metadata": {},
   "outputs": [
    {
     "data": {
      "text/html": [
       "<div>\n",
       "<style scoped>\n",
       "    .dataframe tbody tr th:only-of-type {\n",
       "        vertical-align: middle;\n",
       "    }\n",
       "\n",
       "    .dataframe tbody tr th {\n",
       "        vertical-align: top;\n",
       "    }\n",
       "\n",
       "    .dataframe thead th {\n",
       "        text-align: right;\n",
       "    }\n",
       "</style>\n",
       "<table border=\"1\" class=\"dataframe\">\n",
       "  <thead>\n",
       "    <tr style=\"text-align: right;\">\n",
       "      <th></th>\n",
       "      <th>name</th>\n",
       "      <th>imdb_id</th>\n",
       "      <th>year_released</th>\n",
       "      <th>runtime</th>\n",
       "      <th>imdb_reviews</th>\n",
       "      <th>external_reviews</th>\n",
       "      <th>imdb_rating</th>\n",
       "      <th>metacritic_punctuation</th>\n",
       "      <th>budget</th>\n",
       "      <th>earning_worldwide</th>\n",
       "      <th>earning_US&amp;CA</th>\n",
       "      <th>genres</th>\n",
       "      <th>directors</th>\n",
       "      <th>cast</th>\n",
       "      <th>imdb_recommendations</th>\n",
       "      <th>new_recommendations</th>\n",
       "    </tr>\n",
       "  </thead>\n",
       "  <tbody>\n",
       "    <tr>\n",
       "      <th>1</th>\n",
       "      <td>Film__1</td>\n",
       "      <td>1</td>\n",
       "      <td>2001</td>\n",
       "      <td>101</td>\n",
       "      <td>401</td>\n",
       "      <td>51</td>\n",
       "      <td>0.500000</td>\n",
       "      <td>5.500000</td>\n",
       "      <td>1001</td>\n",
       "      <td>500</td>\n",
       "      <td>50</td>\n",
       "      <td>[action, sci-fi, drama, romance]</td>\n",
       "      <td>[Director1_1, Director2_1]</td>\n",
       "      <td>[Actor_1, Actor_11, Actor_111]</td>\n",
       "      <td>{}</td>\n",
       "      <td>{}</td>\n",
       "    </tr>\n",
       "    <tr>\n",
       "      <th>2</th>\n",
       "      <td>Film__2</td>\n",
       "      <td>2</td>\n",
       "      <td>2002</td>\n",
       "      <td>102</td>\n",
       "      <td>402</td>\n",
       "      <td>52</td>\n",
       "      <td>0.666667</td>\n",
       "      <td>4.000000</td>\n",
       "      <td>1002</td>\n",
       "      <td>1000</td>\n",
       "      <td>100</td>\n",
       "      <td>[action, sci-fi, drama, romance]</td>\n",
       "      <td>[Director1_2, Director2_2]</td>\n",
       "      <td>[Actor_2, Actor_22, Actor_222]</td>\n",
       "      <td>{}</td>\n",
       "      <td>{}</td>\n",
       "    </tr>\n",
       "    <tr>\n",
       "      <th>3</th>\n",
       "      <td>Film__3</td>\n",
       "      <td>3</td>\n",
       "      <td>2003</td>\n",
       "      <td>103</td>\n",
       "      <td>403</td>\n",
       "      <td>53</td>\n",
       "      <td>0.750000</td>\n",
       "      <td>3.250000</td>\n",
       "      <td>1003</td>\n",
       "      <td>1500</td>\n",
       "      <td>150</td>\n",
       "      <td>[action, sci-fi, drama, romance]</td>\n",
       "      <td>[Director1_3, Director2_3]</td>\n",
       "      <td>[Actor_3, Actor_33, Actor_333]</td>\n",
       "      <td>{}</td>\n",
       "      <td>{}</td>\n",
       "    </tr>\n",
       "    <tr>\n",
       "      <th>4</th>\n",
       "      <td>Film__4</td>\n",
       "      <td>4</td>\n",
       "      <td>2004</td>\n",
       "      <td>104</td>\n",
       "      <td>404</td>\n",
       "      <td>54</td>\n",
       "      <td>0.800000</td>\n",
       "      <td>2.800000</td>\n",
       "      <td>1004</td>\n",
       "      <td>2000</td>\n",
       "      <td>200</td>\n",
       "      <td>[action, sci-fi, drama, romance]</td>\n",
       "      <td>[Director1_4, Director2_4]</td>\n",
       "      <td>[Actor_4, Actor_44, Actor_444]</td>\n",
       "      <td>{}</td>\n",
       "      <td>{}</td>\n",
       "    </tr>\n",
       "    <tr>\n",
       "      <th>5</th>\n",
       "      <td>Film__5</td>\n",
       "      <td>5</td>\n",
       "      <td>2005</td>\n",
       "      <td>105</td>\n",
       "      <td>405</td>\n",
       "      <td>55</td>\n",
       "      <td>0.833333</td>\n",
       "      <td>2.500000</td>\n",
       "      <td>1005</td>\n",
       "      <td>2500</td>\n",
       "      <td>250</td>\n",
       "      <td>[action, sci-fi, drama, romance]</td>\n",
       "      <td>[Director1_5, Director2_5]</td>\n",
       "      <td>[Actor_5, Actor_55, Actor_555]</td>\n",
       "      <td>{}</td>\n",
       "      <td>{}</td>\n",
       "    </tr>\n",
       "    <tr>\n",
       "      <th>...</th>\n",
       "      <td>...</td>\n",
       "      <td>...</td>\n",
       "      <td>...</td>\n",
       "      <td>...</td>\n",
       "      <td>...</td>\n",
       "      <td>...</td>\n",
       "      <td>...</td>\n",
       "      <td>...</td>\n",
       "      <td>...</td>\n",
       "      <td>...</td>\n",
       "      <td>...</td>\n",
       "      <td>...</td>\n",
       "      <td>...</td>\n",
       "      <td>...</td>\n",
       "      <td>...</td>\n",
       "      <td>...</td>\n",
       "    </tr>\n",
       "    <tr>\n",
       "      <th>65</th>\n",
       "      <td>Film__65</td>\n",
       "      <td>65</td>\n",
       "      <td>2065</td>\n",
       "      <td>165</td>\n",
       "      <td>465</td>\n",
       "      <td>115</td>\n",
       "      <td>0.984848</td>\n",
       "      <td>1.136364</td>\n",
       "      <td>1065</td>\n",
       "      <td>32500</td>\n",
       "      <td>3250</td>\n",
       "      <td>[action, sci-fi, drama, romance]</td>\n",
       "      <td>[Director1_65, Director2_65]</td>\n",
       "      <td>[Actor_65, Actor_6565, Actor_656565]</td>\n",
       "      <td>{}</td>\n",
       "      <td>{}</td>\n",
       "    </tr>\n",
       "    <tr>\n",
       "      <th>66</th>\n",
       "      <td>Film__66</td>\n",
       "      <td>66</td>\n",
       "      <td>2066</td>\n",
       "      <td>166</td>\n",
       "      <td>466</td>\n",
       "      <td>116</td>\n",
       "      <td>0.985075</td>\n",
       "      <td>1.134328</td>\n",
       "      <td>1066</td>\n",
       "      <td>33000</td>\n",
       "      <td>3300</td>\n",
       "      <td>[action, sci-fi, drama, romance]</td>\n",
       "      <td>[Director1_66, Director2_66]</td>\n",
       "      <td>[Actor_66, Actor_6666, Actor_666666]</td>\n",
       "      <td>{}</td>\n",
       "      <td>{}</td>\n",
       "    </tr>\n",
       "    <tr>\n",
       "      <th>67</th>\n",
       "      <td>Film__67</td>\n",
       "      <td>67</td>\n",
       "      <td>2067</td>\n",
       "      <td>167</td>\n",
       "      <td>467</td>\n",
       "      <td>117</td>\n",
       "      <td>0.985294</td>\n",
       "      <td>1.132353</td>\n",
       "      <td>1067</td>\n",
       "      <td>33500</td>\n",
       "      <td>3350</td>\n",
       "      <td>[action, sci-fi, drama, romance]</td>\n",
       "      <td>[Director1_67, Director2_67]</td>\n",
       "      <td>[Actor_67, Actor_6767, Actor_676767]</td>\n",
       "      <td>{}</td>\n",
       "      <td>{}</td>\n",
       "    </tr>\n",
       "    <tr>\n",
       "      <th>68</th>\n",
       "      <td>Film__68</td>\n",
       "      <td>68</td>\n",
       "      <td>2068</td>\n",
       "      <td>168</td>\n",
       "      <td>468</td>\n",
       "      <td>118</td>\n",
       "      <td>0.985507</td>\n",
       "      <td>1.130435</td>\n",
       "      <td>1068</td>\n",
       "      <td>34000</td>\n",
       "      <td>3400</td>\n",
       "      <td>[action, sci-fi, drama, romance]</td>\n",
       "      <td>[Director1_68, Director2_68]</td>\n",
       "      <td>[Actor_68, Actor_6868, Actor_686868]</td>\n",
       "      <td>{}</td>\n",
       "      <td>{}</td>\n",
       "    </tr>\n",
       "    <tr>\n",
       "      <th>69</th>\n",
       "      <td>Film__69</td>\n",
       "      <td>69</td>\n",
       "      <td>2069</td>\n",
       "      <td>169</td>\n",
       "      <td>469</td>\n",
       "      <td>119</td>\n",
       "      <td>0.985714</td>\n",
       "      <td>1.128571</td>\n",
       "      <td>1069</td>\n",
       "      <td>34500</td>\n",
       "      <td>3450</td>\n",
       "      <td>[action, sci-fi, drama, romance]</td>\n",
       "      <td>[Director1_69, Director2_69]</td>\n",
       "      <td>[Actor_69, Actor_6969, Actor_696969]</td>\n",
       "      <td>{}</td>\n",
       "      <td>{}</td>\n",
       "    </tr>\n",
       "  </tbody>\n",
       "</table>\n",
       "<p>69 rows × 16 columns</p>\n",
       "</div>"
      ],
      "text/plain": [
       "        name imdb_id  year_released  runtime  imdb_reviews  external_reviews  \\\n",
       "1    Film__1       1           2001      101           401                51   \n",
       "2    Film__2       2           2002      102           402                52   \n",
       "3    Film__3       3           2003      103           403                53   \n",
       "4    Film__4       4           2004      104           404                54   \n",
       "5    Film__5       5           2005      105           405                55   \n",
       "..       ...     ...            ...      ...           ...               ...   \n",
       "65  Film__65      65           2065      165           465               115   \n",
       "66  Film__66      66           2066      166           466               116   \n",
       "67  Film__67      67           2067      167           467               117   \n",
       "68  Film__68      68           2068      168           468               118   \n",
       "69  Film__69      69           2069      169           469               119   \n",
       "\n",
       "    imdb_rating  metacritic_punctuation  budget  earning_worldwide  \\\n",
       "1      0.500000                5.500000    1001                500   \n",
       "2      0.666667                4.000000    1002               1000   \n",
       "3      0.750000                3.250000    1003               1500   \n",
       "4      0.800000                2.800000    1004               2000   \n",
       "5      0.833333                2.500000    1005               2500   \n",
       "..          ...                     ...     ...                ...   \n",
       "65     0.984848                1.136364    1065              32500   \n",
       "66     0.985075                1.134328    1066              33000   \n",
       "67     0.985294                1.132353    1067              33500   \n",
       "68     0.985507                1.130435    1068              34000   \n",
       "69     0.985714                1.128571    1069              34500   \n",
       "\n",
       "    earning_US&CA                            genres  \\\n",
       "1              50  [action, sci-fi, drama, romance]   \n",
       "2             100  [action, sci-fi, drama, romance]   \n",
       "3             150  [action, sci-fi, drama, romance]   \n",
       "4             200  [action, sci-fi, drama, romance]   \n",
       "5             250  [action, sci-fi, drama, romance]   \n",
       "..            ...                               ...   \n",
       "65           3250  [action, sci-fi, drama, romance]   \n",
       "66           3300  [action, sci-fi, drama, romance]   \n",
       "67           3350  [action, sci-fi, drama, romance]   \n",
       "68           3400  [action, sci-fi, drama, romance]   \n",
       "69           3450  [action, sci-fi, drama, romance]   \n",
       "\n",
       "                       directors                                  cast  \\\n",
       "1     [Director1_1, Director2_1]        [Actor_1, Actor_11, Actor_111]   \n",
       "2     [Director1_2, Director2_2]        [Actor_2, Actor_22, Actor_222]   \n",
       "3     [Director1_3, Director2_3]        [Actor_3, Actor_33, Actor_333]   \n",
       "4     [Director1_4, Director2_4]        [Actor_4, Actor_44, Actor_444]   \n",
       "5     [Director1_5, Director2_5]        [Actor_5, Actor_55, Actor_555]   \n",
       "..                           ...                                   ...   \n",
       "65  [Director1_65, Director2_65]  [Actor_65, Actor_6565, Actor_656565]   \n",
       "66  [Director1_66, Director2_66]  [Actor_66, Actor_6666, Actor_666666]   \n",
       "67  [Director1_67, Director2_67]  [Actor_67, Actor_6767, Actor_676767]   \n",
       "68  [Director1_68, Director2_68]  [Actor_68, Actor_6868, Actor_686868]   \n",
       "69  [Director1_69, Director2_69]  [Actor_69, Actor_6969, Actor_696969]   \n",
       "\n",
       "   imdb_recommendations new_recommendations  \n",
       "1                    {}                  {}  \n",
       "2                    {}                  {}  \n",
       "3                    {}                  {}  \n",
       "4                    {}                  {}  \n",
       "5                    {}                  {}  \n",
       "..                  ...                 ...  \n",
       "65                   {}                  {}  \n",
       "66                   {}                  {}  \n",
       "67                   {}                  {}  \n",
       "68                   {}                  {}  \n",
       "69                   {}                  {}  \n",
       "\n",
       "[69 rows x 16 columns]"
      ]
     },
     "execution_count": 377,
     "metadata": {},
     "output_type": "execute_result"
    }
   ],
   "source": [
    "dfb=pd.DataFrame.from_dict(movies, orient='index')\n",
    "dfb"
   ]
  },
  {
   "cell_type": "code",
   "execution_count": 378,
   "id": "64b8a94e",
   "metadata": {},
   "outputs": [],
   "source": [
    "dfb.drop([\"genres\", \"directors\",\"cast\",\"imdb_recommendations\",\"new_recommendations\"], axis = 1, inplace = True,errors='ignore')\n",
    "\n",
    "dfb\n"
   ]
  },
  {
   "cell_type": "code",
   "execution_count": 380,
   "id": "b24c75d5",
   "metadata": {},
   "outputs": [
    {
     "data": {
      "application/vnd.plotly.v1+json": {
       "config": {
        "plotlyServerURL": "https://plot.ly"
       },
       "data": [
        {
         "alignmentgroup": "True",
         "hovertemplate": "budget=%{x}<br>index=%{y}<br>year_released=%{marker.color}<extra></extra>",
         "legendgroup": "",
         "marker": {
          "color": [
           2001,
           2002,
           2003,
           2004,
           2005,
           2006,
           2007,
           2008,
           2009,
           2010,
           2011,
           2012,
           2013,
           2014,
           2015,
           2016,
           2017,
           2018,
           2019,
           2020,
           2021,
           2022,
           2023,
           2024,
           2025,
           2026,
           2027,
           2028,
           2029,
           2030,
           2031,
           2032,
           2033,
           2034,
           2035,
           2036,
           2037,
           2038,
           2039,
           2040,
           2041,
           2042,
           2043,
           2044,
           2045,
           2046,
           2047,
           2048,
           2049,
           2050,
           2051,
           2052,
           2053,
           2054,
           2055,
           2056,
           2057,
           2058,
           2059,
           2060,
           2061,
           2062,
           2063,
           2064,
           2065,
           2066,
           2067,
           2068,
           2069
          ],
          "coloraxis": "coloraxis",
          "pattern": {
           "shape": ""
          }
         },
         "name": "",
         "offsetgroup": "",
         "orientation": "h",
         "showlegend": false,
         "textposition": "auto",
         "type": "bar",
         "x": [
          1001,
          1002,
          1003,
          1004,
          1005,
          1006,
          1007,
          1008,
          1009,
          1010,
          1011,
          1012,
          1013,
          1014,
          1015,
          1016,
          1017,
          1018,
          1019,
          1020,
          1021,
          1022,
          1023,
          1024,
          1025,
          1026,
          1027,
          1028,
          1029,
          1030,
          1031,
          1032,
          1033,
          1034,
          1035,
          1036,
          1037,
          1038,
          1039,
          1040,
          1041,
          1042,
          1043,
          1044,
          1045,
          1046,
          1047,
          1048,
          1049,
          1050,
          1051,
          1052,
          1053,
          1054,
          1055,
          1056,
          1057,
          1058,
          1059,
          1060,
          1061,
          1062,
          1063,
          1064,
          1065,
          1066,
          1067,
          1068,
          1069
         ],
         "xaxis": "x",
         "y": [
          1,
          2,
          3,
          4,
          5,
          6,
          7,
          8,
          9,
          10,
          11,
          12,
          13,
          14,
          15,
          16,
          17,
          18,
          19,
          20,
          21,
          22,
          23,
          24,
          25,
          26,
          27,
          28,
          29,
          30,
          31,
          32,
          33,
          34,
          35,
          36,
          37,
          38,
          39,
          40,
          41,
          42,
          43,
          44,
          45,
          46,
          47,
          48,
          49,
          50,
          51,
          52,
          53,
          54,
          55,
          56,
          57,
          58,
          59,
          60,
          61,
          62,
          63,
          64,
          65,
          66,
          67,
          68,
          69
         ],
         "yaxis": "y"
        }
       ],
       "layout": {
        "barmode": "relative",
        "coloraxis": {
         "colorbar": {
          "title": {
           "text": "year_released"
          }
         },
         "colorscale": [
          [
           0,
           "#0d0887"
          ],
          [
           0.1111111111111111,
           "#46039f"
          ],
          [
           0.2222222222222222,
           "#7201a8"
          ],
          [
           0.3333333333333333,
           "#9c179e"
          ],
          [
           0.4444444444444444,
           "#bd3786"
          ],
          [
           0.5555555555555556,
           "#d8576b"
          ],
          [
           0.6666666666666666,
           "#ed7953"
          ],
          [
           0.7777777777777778,
           "#fb9f3a"
          ],
          [
           0.8888888888888888,
           "#fdca26"
          ],
          [
           1,
           "#f0f921"
          ]
         ]
        },
        "legend": {
         "tracegroupgap": 0
        },
        "template": {
         "data": {
          "bar": [
           {
            "error_x": {
             "color": "#2a3f5f"
            },
            "error_y": {
             "color": "#2a3f5f"
            },
            "marker": {
             "line": {
              "color": "#E5ECF6",
              "width": 0.5
             },
             "pattern": {
              "fillmode": "overlay",
              "size": 10,
              "solidity": 0.2
             }
            },
            "type": "bar"
           }
          ],
          "barpolar": [
           {
            "marker": {
             "line": {
              "color": "#E5ECF6",
              "width": 0.5
             },
             "pattern": {
              "fillmode": "overlay",
              "size": 10,
              "solidity": 0.2
             }
            },
            "type": "barpolar"
           }
          ],
          "carpet": [
           {
            "aaxis": {
             "endlinecolor": "#2a3f5f",
             "gridcolor": "white",
             "linecolor": "white",
             "minorgridcolor": "white",
             "startlinecolor": "#2a3f5f"
            },
            "baxis": {
             "endlinecolor": "#2a3f5f",
             "gridcolor": "white",
             "linecolor": "white",
             "minorgridcolor": "white",
             "startlinecolor": "#2a3f5f"
            },
            "type": "carpet"
           }
          ],
          "choropleth": [
           {
            "colorbar": {
             "outlinewidth": 0,
             "ticks": ""
            },
            "type": "choropleth"
           }
          ],
          "contour": [
           {
            "colorbar": {
             "outlinewidth": 0,
             "ticks": ""
            },
            "colorscale": [
             [
              0,
              "#0d0887"
             ],
             [
              0.1111111111111111,
              "#46039f"
             ],
             [
              0.2222222222222222,
              "#7201a8"
             ],
             [
              0.3333333333333333,
              "#9c179e"
             ],
             [
              0.4444444444444444,
              "#bd3786"
             ],
             [
              0.5555555555555556,
              "#d8576b"
             ],
             [
              0.6666666666666666,
              "#ed7953"
             ],
             [
              0.7777777777777778,
              "#fb9f3a"
             ],
             [
              0.8888888888888888,
              "#fdca26"
             ],
             [
              1,
              "#f0f921"
             ]
            ],
            "type": "contour"
           }
          ],
          "contourcarpet": [
           {
            "colorbar": {
             "outlinewidth": 0,
             "ticks": ""
            },
            "type": "contourcarpet"
           }
          ],
          "heatmap": [
           {
            "colorbar": {
             "outlinewidth": 0,
             "ticks": ""
            },
            "colorscale": [
             [
              0,
              "#0d0887"
             ],
             [
              0.1111111111111111,
              "#46039f"
             ],
             [
              0.2222222222222222,
              "#7201a8"
             ],
             [
              0.3333333333333333,
              "#9c179e"
             ],
             [
              0.4444444444444444,
              "#bd3786"
             ],
             [
              0.5555555555555556,
              "#d8576b"
             ],
             [
              0.6666666666666666,
              "#ed7953"
             ],
             [
              0.7777777777777778,
              "#fb9f3a"
             ],
             [
              0.8888888888888888,
              "#fdca26"
             ],
             [
              1,
              "#f0f921"
             ]
            ],
            "type": "heatmap"
           }
          ],
          "heatmapgl": [
           {
            "colorbar": {
             "outlinewidth": 0,
             "ticks": ""
            },
            "colorscale": [
             [
              0,
              "#0d0887"
             ],
             [
              0.1111111111111111,
              "#46039f"
             ],
             [
              0.2222222222222222,
              "#7201a8"
             ],
             [
              0.3333333333333333,
              "#9c179e"
             ],
             [
              0.4444444444444444,
              "#bd3786"
             ],
             [
              0.5555555555555556,
              "#d8576b"
             ],
             [
              0.6666666666666666,
              "#ed7953"
             ],
             [
              0.7777777777777778,
              "#fb9f3a"
             ],
             [
              0.8888888888888888,
              "#fdca26"
             ],
             [
              1,
              "#f0f921"
             ]
            ],
            "type": "heatmapgl"
           }
          ],
          "histogram": [
           {
            "marker": {
             "pattern": {
              "fillmode": "overlay",
              "size": 10,
              "solidity": 0.2
             }
            },
            "type": "histogram"
           }
          ],
          "histogram2d": [
           {
            "colorbar": {
             "outlinewidth": 0,
             "ticks": ""
            },
            "colorscale": [
             [
              0,
              "#0d0887"
             ],
             [
              0.1111111111111111,
              "#46039f"
             ],
             [
              0.2222222222222222,
              "#7201a8"
             ],
             [
              0.3333333333333333,
              "#9c179e"
             ],
             [
              0.4444444444444444,
              "#bd3786"
             ],
             [
              0.5555555555555556,
              "#d8576b"
             ],
             [
              0.6666666666666666,
              "#ed7953"
             ],
             [
              0.7777777777777778,
              "#fb9f3a"
             ],
             [
              0.8888888888888888,
              "#fdca26"
             ],
             [
              1,
              "#f0f921"
             ]
            ],
            "type": "histogram2d"
           }
          ],
          "histogram2dcontour": [
           {
            "colorbar": {
             "outlinewidth": 0,
             "ticks": ""
            },
            "colorscale": [
             [
              0,
              "#0d0887"
             ],
             [
              0.1111111111111111,
              "#46039f"
             ],
             [
              0.2222222222222222,
              "#7201a8"
             ],
             [
              0.3333333333333333,
              "#9c179e"
             ],
             [
              0.4444444444444444,
              "#bd3786"
             ],
             [
              0.5555555555555556,
              "#d8576b"
             ],
             [
              0.6666666666666666,
              "#ed7953"
             ],
             [
              0.7777777777777778,
              "#fb9f3a"
             ],
             [
              0.8888888888888888,
              "#fdca26"
             ],
             [
              1,
              "#f0f921"
             ]
            ],
            "type": "histogram2dcontour"
           }
          ],
          "mesh3d": [
           {
            "colorbar": {
             "outlinewidth": 0,
             "ticks": ""
            },
            "type": "mesh3d"
           }
          ],
          "parcoords": [
           {
            "line": {
             "colorbar": {
              "outlinewidth": 0,
              "ticks": ""
             }
            },
            "type": "parcoords"
           }
          ],
          "pie": [
           {
            "automargin": true,
            "type": "pie"
           }
          ],
          "scatter": [
           {
            "marker": {
             "colorbar": {
              "outlinewidth": 0,
              "ticks": ""
             }
            },
            "type": "scatter"
           }
          ],
          "scatter3d": [
           {
            "line": {
             "colorbar": {
              "outlinewidth": 0,
              "ticks": ""
             }
            },
            "marker": {
             "colorbar": {
              "outlinewidth": 0,
              "ticks": ""
             }
            },
            "type": "scatter3d"
           }
          ],
          "scattercarpet": [
           {
            "marker": {
             "colorbar": {
              "outlinewidth": 0,
              "ticks": ""
             }
            },
            "type": "scattercarpet"
           }
          ],
          "scattergeo": [
           {
            "marker": {
             "colorbar": {
              "outlinewidth": 0,
              "ticks": ""
             }
            },
            "type": "scattergeo"
           }
          ],
          "scattergl": [
           {
            "marker": {
             "colorbar": {
              "outlinewidth": 0,
              "ticks": ""
             }
            },
            "type": "scattergl"
           }
          ],
          "scattermapbox": [
           {
            "marker": {
             "colorbar": {
              "outlinewidth": 0,
              "ticks": ""
             }
            },
            "type": "scattermapbox"
           }
          ],
          "scatterpolar": [
           {
            "marker": {
             "colorbar": {
              "outlinewidth": 0,
              "ticks": ""
             }
            },
            "type": "scatterpolar"
           }
          ],
          "scatterpolargl": [
           {
            "marker": {
             "colorbar": {
              "outlinewidth": 0,
              "ticks": ""
             }
            },
            "type": "scatterpolargl"
           }
          ],
          "scatterternary": [
           {
            "marker": {
             "colorbar": {
              "outlinewidth": 0,
              "ticks": ""
             }
            },
            "type": "scatterternary"
           }
          ],
          "surface": [
           {
            "colorbar": {
             "outlinewidth": 0,
             "ticks": ""
            },
            "colorscale": [
             [
              0,
              "#0d0887"
             ],
             [
              0.1111111111111111,
              "#46039f"
             ],
             [
              0.2222222222222222,
              "#7201a8"
             ],
             [
              0.3333333333333333,
              "#9c179e"
             ],
             [
              0.4444444444444444,
              "#bd3786"
             ],
             [
              0.5555555555555556,
              "#d8576b"
             ],
             [
              0.6666666666666666,
              "#ed7953"
             ],
             [
              0.7777777777777778,
              "#fb9f3a"
             ],
             [
              0.8888888888888888,
              "#fdca26"
             ],
             [
              1,
              "#f0f921"
             ]
            ],
            "type": "surface"
           }
          ],
          "table": [
           {
            "cells": {
             "fill": {
              "color": "#EBF0F8"
             },
             "line": {
              "color": "white"
             }
            },
            "header": {
             "fill": {
              "color": "#C8D4E3"
             },
             "line": {
              "color": "white"
             }
            },
            "type": "table"
           }
          ]
         },
         "layout": {
          "annotationdefaults": {
           "arrowcolor": "#2a3f5f",
           "arrowhead": 0,
           "arrowwidth": 1
          },
          "autotypenumbers": "strict",
          "coloraxis": {
           "colorbar": {
            "outlinewidth": 0,
            "ticks": ""
           }
          },
          "colorscale": {
           "diverging": [
            [
             0,
             "#8e0152"
            ],
            [
             0.1,
             "#c51b7d"
            ],
            [
             0.2,
             "#de77ae"
            ],
            [
             0.3,
             "#f1b6da"
            ],
            [
             0.4,
             "#fde0ef"
            ],
            [
             0.5,
             "#f7f7f7"
            ],
            [
             0.6,
             "#e6f5d0"
            ],
            [
             0.7,
             "#b8e186"
            ],
            [
             0.8,
             "#7fbc41"
            ],
            [
             0.9,
             "#4d9221"
            ],
            [
             1,
             "#276419"
            ]
           ],
           "sequential": [
            [
             0,
             "#0d0887"
            ],
            [
             0.1111111111111111,
             "#46039f"
            ],
            [
             0.2222222222222222,
             "#7201a8"
            ],
            [
             0.3333333333333333,
             "#9c179e"
            ],
            [
             0.4444444444444444,
             "#bd3786"
            ],
            [
             0.5555555555555556,
             "#d8576b"
            ],
            [
             0.6666666666666666,
             "#ed7953"
            ],
            [
             0.7777777777777778,
             "#fb9f3a"
            ],
            [
             0.8888888888888888,
             "#fdca26"
            ],
            [
             1,
             "#f0f921"
            ]
           ],
           "sequentialminus": [
            [
             0,
             "#0d0887"
            ],
            [
             0.1111111111111111,
             "#46039f"
            ],
            [
             0.2222222222222222,
             "#7201a8"
            ],
            [
             0.3333333333333333,
             "#9c179e"
            ],
            [
             0.4444444444444444,
             "#bd3786"
            ],
            [
             0.5555555555555556,
             "#d8576b"
            ],
            [
             0.6666666666666666,
             "#ed7953"
            ],
            [
             0.7777777777777778,
             "#fb9f3a"
            ],
            [
             0.8888888888888888,
             "#fdca26"
            ],
            [
             1,
             "#f0f921"
            ]
           ]
          },
          "colorway": [
           "#636efa",
           "#EF553B",
           "#00cc96",
           "#ab63fa",
           "#FFA15A",
           "#19d3f3",
           "#FF6692",
           "#B6E880",
           "#FF97FF",
           "#FECB52"
          ],
          "font": {
           "color": "#2a3f5f"
          },
          "geo": {
           "bgcolor": "white",
           "lakecolor": "white",
           "landcolor": "#E5ECF6",
           "showlakes": true,
           "showland": true,
           "subunitcolor": "white"
          },
          "hoverlabel": {
           "align": "left"
          },
          "hovermode": "closest",
          "mapbox": {
           "style": "light"
          },
          "paper_bgcolor": "white",
          "plot_bgcolor": "#E5ECF6",
          "polar": {
           "angularaxis": {
            "gridcolor": "white",
            "linecolor": "white",
            "ticks": ""
           },
           "bgcolor": "#E5ECF6",
           "radialaxis": {
            "gridcolor": "white",
            "linecolor": "white",
            "ticks": ""
           }
          },
          "scene": {
           "xaxis": {
            "backgroundcolor": "#E5ECF6",
            "gridcolor": "white",
            "gridwidth": 2,
            "linecolor": "white",
            "showbackground": true,
            "ticks": "",
            "zerolinecolor": "white"
           },
           "yaxis": {
            "backgroundcolor": "#E5ECF6",
            "gridcolor": "white",
            "gridwidth": 2,
            "linecolor": "white",
            "showbackground": true,
            "ticks": "",
            "zerolinecolor": "white"
           },
           "zaxis": {
            "backgroundcolor": "#E5ECF6",
            "gridcolor": "white",
            "gridwidth": 2,
            "linecolor": "white",
            "showbackground": true,
            "ticks": "",
            "zerolinecolor": "white"
           }
          },
          "shapedefaults": {
           "line": {
            "color": "#2a3f5f"
           }
          },
          "ternary": {
           "aaxis": {
            "gridcolor": "white",
            "linecolor": "white",
            "ticks": ""
           },
           "baxis": {
            "gridcolor": "white",
            "linecolor": "white",
            "ticks": ""
           },
           "bgcolor": "#E5ECF6",
           "caxis": {
            "gridcolor": "white",
            "linecolor": "white",
            "ticks": ""
           }
          },
          "title": {
           "x": 0.05
          },
          "xaxis": {
           "automargin": true,
           "gridcolor": "white",
           "linecolor": "white",
           "ticks": "",
           "title": {
            "standoff": 15
           },
           "zerolinecolor": "white",
           "zerolinewidth": 2
          },
          "yaxis": {
           "automargin": true,
           "gridcolor": "white",
           "linecolor": "white",
           "ticks": "",
           "title": {
            "standoff": 15
           },
           "zerolinecolor": "white",
           "zerolinewidth": 2
          }
         }
        },
        "title": {
         "text": "graph"
        },
        "xaxis": {
         "anchor": "y",
         "domain": [
          0,
          1
         ],
         "title": {
          "text": "budget"
         }
        },
        "yaxis": {
         "anchor": "x",
         "domain": [
          0,
          1
         ],
         "title": {
          "text": "index"
         }
        }
       }
      },
      "text/html": [
       "<div>                            <div id=\"365bf821-1e57-4f9b-b5b6-a2d321f03396\" class=\"plotly-graph-div\" style=\"height:525px; width:100%;\"></div>            <script type=\"text/javascript\">                require([\"plotly\"], function(Plotly) {                    window.PLOTLYENV=window.PLOTLYENV || {};                                    if (document.getElementById(\"365bf821-1e57-4f9b-b5b6-a2d321f03396\")) {                    Plotly.newPlot(                        \"365bf821-1e57-4f9b-b5b6-a2d321f03396\",                        [{\"alignmentgroup\":\"True\",\"hovertemplate\":\"budget=%{x}<br>index=%{y}<br>year_released=%{marker.color}<extra></extra>\",\"legendgroup\":\"\",\"marker\":{\"color\":[2001,2002,2003,2004,2005,2006,2007,2008,2009,2010,2011,2012,2013,2014,2015,2016,2017,2018,2019,2020,2021,2022,2023,2024,2025,2026,2027,2028,2029,2030,2031,2032,2033,2034,2035,2036,2037,2038,2039,2040,2041,2042,2043,2044,2045,2046,2047,2048,2049,2050,2051,2052,2053,2054,2055,2056,2057,2058,2059,2060,2061,2062,2063,2064,2065,2066,2067,2068,2069],\"coloraxis\":\"coloraxis\",\"pattern\":{\"shape\":\"\"}},\"name\":\"\",\"offsetgroup\":\"\",\"orientation\":\"h\",\"showlegend\":false,\"textposition\":\"auto\",\"x\":[1001,1002,1003,1004,1005,1006,1007,1008,1009,1010,1011,1012,1013,1014,1015,1016,1017,1018,1019,1020,1021,1022,1023,1024,1025,1026,1027,1028,1029,1030,1031,1032,1033,1034,1035,1036,1037,1038,1039,1040,1041,1042,1043,1044,1045,1046,1047,1048,1049,1050,1051,1052,1053,1054,1055,1056,1057,1058,1059,1060,1061,1062,1063,1064,1065,1066,1067,1068,1069],\"xaxis\":\"x\",\"y\":[1,2,3,4,5,6,7,8,9,10,11,12,13,14,15,16,17,18,19,20,21,22,23,24,25,26,27,28,29,30,31,32,33,34,35,36,37,38,39,40,41,42,43,44,45,46,47,48,49,50,51,52,53,54,55,56,57,58,59,60,61,62,63,64,65,66,67,68,69],\"yaxis\":\"y\",\"type\":\"bar\"}],                        {\"template\":{\"data\":{\"bar\":[{\"error_x\":{\"color\":\"#2a3f5f\"},\"error_y\":{\"color\":\"#2a3f5f\"},\"marker\":{\"line\":{\"color\":\"#E5ECF6\",\"width\":0.5},\"pattern\":{\"fillmode\":\"overlay\",\"size\":10,\"solidity\":0.2}},\"type\":\"bar\"}],\"barpolar\":[{\"marker\":{\"line\":{\"color\":\"#E5ECF6\",\"width\":0.5},\"pattern\":{\"fillmode\":\"overlay\",\"size\":10,\"solidity\":0.2}},\"type\":\"barpolar\"}],\"carpet\":[{\"aaxis\":{\"endlinecolor\":\"#2a3f5f\",\"gridcolor\":\"white\",\"linecolor\":\"white\",\"minorgridcolor\":\"white\",\"startlinecolor\":\"#2a3f5f\"},\"baxis\":{\"endlinecolor\":\"#2a3f5f\",\"gridcolor\":\"white\",\"linecolor\":\"white\",\"minorgridcolor\":\"white\",\"startlinecolor\":\"#2a3f5f\"},\"type\":\"carpet\"}],\"choropleth\":[{\"colorbar\":{\"outlinewidth\":0,\"ticks\":\"\"},\"type\":\"choropleth\"}],\"contour\":[{\"colorbar\":{\"outlinewidth\":0,\"ticks\":\"\"},\"colorscale\":[[0.0,\"#0d0887\"],[0.1111111111111111,\"#46039f\"],[0.2222222222222222,\"#7201a8\"],[0.3333333333333333,\"#9c179e\"],[0.4444444444444444,\"#bd3786\"],[0.5555555555555556,\"#d8576b\"],[0.6666666666666666,\"#ed7953\"],[0.7777777777777778,\"#fb9f3a\"],[0.8888888888888888,\"#fdca26\"],[1.0,\"#f0f921\"]],\"type\":\"contour\"}],\"contourcarpet\":[{\"colorbar\":{\"outlinewidth\":0,\"ticks\":\"\"},\"type\":\"contourcarpet\"}],\"heatmap\":[{\"colorbar\":{\"outlinewidth\":0,\"ticks\":\"\"},\"colorscale\":[[0.0,\"#0d0887\"],[0.1111111111111111,\"#46039f\"],[0.2222222222222222,\"#7201a8\"],[0.3333333333333333,\"#9c179e\"],[0.4444444444444444,\"#bd3786\"],[0.5555555555555556,\"#d8576b\"],[0.6666666666666666,\"#ed7953\"],[0.7777777777777778,\"#fb9f3a\"],[0.8888888888888888,\"#fdca26\"],[1.0,\"#f0f921\"]],\"type\":\"heatmap\"}],\"heatmapgl\":[{\"colorbar\":{\"outlinewidth\":0,\"ticks\":\"\"},\"colorscale\":[[0.0,\"#0d0887\"],[0.1111111111111111,\"#46039f\"],[0.2222222222222222,\"#7201a8\"],[0.3333333333333333,\"#9c179e\"],[0.4444444444444444,\"#bd3786\"],[0.5555555555555556,\"#d8576b\"],[0.6666666666666666,\"#ed7953\"],[0.7777777777777778,\"#fb9f3a\"],[0.8888888888888888,\"#fdca26\"],[1.0,\"#f0f921\"]],\"type\":\"heatmapgl\"}],\"histogram\":[{\"marker\":{\"pattern\":{\"fillmode\":\"overlay\",\"size\":10,\"solidity\":0.2}},\"type\":\"histogram\"}],\"histogram2d\":[{\"colorbar\":{\"outlinewidth\":0,\"ticks\":\"\"},\"colorscale\":[[0.0,\"#0d0887\"],[0.1111111111111111,\"#46039f\"],[0.2222222222222222,\"#7201a8\"],[0.3333333333333333,\"#9c179e\"],[0.4444444444444444,\"#bd3786\"],[0.5555555555555556,\"#d8576b\"],[0.6666666666666666,\"#ed7953\"],[0.7777777777777778,\"#fb9f3a\"],[0.8888888888888888,\"#fdca26\"],[1.0,\"#f0f921\"]],\"type\":\"histogram2d\"}],\"histogram2dcontour\":[{\"colorbar\":{\"outlinewidth\":0,\"ticks\":\"\"},\"colorscale\":[[0.0,\"#0d0887\"],[0.1111111111111111,\"#46039f\"],[0.2222222222222222,\"#7201a8\"],[0.3333333333333333,\"#9c179e\"],[0.4444444444444444,\"#bd3786\"],[0.5555555555555556,\"#d8576b\"],[0.6666666666666666,\"#ed7953\"],[0.7777777777777778,\"#fb9f3a\"],[0.8888888888888888,\"#fdca26\"],[1.0,\"#f0f921\"]],\"type\":\"histogram2dcontour\"}],\"mesh3d\":[{\"colorbar\":{\"outlinewidth\":0,\"ticks\":\"\"},\"type\":\"mesh3d\"}],\"parcoords\":[{\"line\":{\"colorbar\":{\"outlinewidth\":0,\"ticks\":\"\"}},\"type\":\"parcoords\"}],\"pie\":[{\"automargin\":true,\"type\":\"pie\"}],\"scatter\":[{\"marker\":{\"colorbar\":{\"outlinewidth\":0,\"ticks\":\"\"}},\"type\":\"scatter\"}],\"scatter3d\":[{\"line\":{\"colorbar\":{\"outlinewidth\":0,\"ticks\":\"\"}},\"marker\":{\"colorbar\":{\"outlinewidth\":0,\"ticks\":\"\"}},\"type\":\"scatter3d\"}],\"scattercarpet\":[{\"marker\":{\"colorbar\":{\"outlinewidth\":0,\"ticks\":\"\"}},\"type\":\"scattercarpet\"}],\"scattergeo\":[{\"marker\":{\"colorbar\":{\"outlinewidth\":0,\"ticks\":\"\"}},\"type\":\"scattergeo\"}],\"scattergl\":[{\"marker\":{\"colorbar\":{\"outlinewidth\":0,\"ticks\":\"\"}},\"type\":\"scattergl\"}],\"scattermapbox\":[{\"marker\":{\"colorbar\":{\"outlinewidth\":0,\"ticks\":\"\"}},\"type\":\"scattermapbox\"}],\"scatterpolar\":[{\"marker\":{\"colorbar\":{\"outlinewidth\":0,\"ticks\":\"\"}},\"type\":\"scatterpolar\"}],\"scatterpolargl\":[{\"marker\":{\"colorbar\":{\"outlinewidth\":0,\"ticks\":\"\"}},\"type\":\"scatterpolargl\"}],\"scatterternary\":[{\"marker\":{\"colorbar\":{\"outlinewidth\":0,\"ticks\":\"\"}},\"type\":\"scatterternary\"}],\"surface\":[{\"colorbar\":{\"outlinewidth\":0,\"ticks\":\"\"},\"colorscale\":[[0.0,\"#0d0887\"],[0.1111111111111111,\"#46039f\"],[0.2222222222222222,\"#7201a8\"],[0.3333333333333333,\"#9c179e\"],[0.4444444444444444,\"#bd3786\"],[0.5555555555555556,\"#d8576b\"],[0.6666666666666666,\"#ed7953\"],[0.7777777777777778,\"#fb9f3a\"],[0.8888888888888888,\"#fdca26\"],[1.0,\"#f0f921\"]],\"type\":\"surface\"}],\"table\":[{\"cells\":{\"fill\":{\"color\":\"#EBF0F8\"},\"line\":{\"color\":\"white\"}},\"header\":{\"fill\":{\"color\":\"#C8D4E3\"},\"line\":{\"color\":\"white\"}},\"type\":\"table\"}]},\"layout\":{\"annotationdefaults\":{\"arrowcolor\":\"#2a3f5f\",\"arrowhead\":0,\"arrowwidth\":1},\"autotypenumbers\":\"strict\",\"coloraxis\":{\"colorbar\":{\"outlinewidth\":0,\"ticks\":\"\"}},\"colorscale\":{\"diverging\":[[0,\"#8e0152\"],[0.1,\"#c51b7d\"],[0.2,\"#de77ae\"],[0.3,\"#f1b6da\"],[0.4,\"#fde0ef\"],[0.5,\"#f7f7f7\"],[0.6,\"#e6f5d0\"],[0.7,\"#b8e186\"],[0.8,\"#7fbc41\"],[0.9,\"#4d9221\"],[1,\"#276419\"]],\"sequential\":[[0.0,\"#0d0887\"],[0.1111111111111111,\"#46039f\"],[0.2222222222222222,\"#7201a8\"],[0.3333333333333333,\"#9c179e\"],[0.4444444444444444,\"#bd3786\"],[0.5555555555555556,\"#d8576b\"],[0.6666666666666666,\"#ed7953\"],[0.7777777777777778,\"#fb9f3a\"],[0.8888888888888888,\"#fdca26\"],[1.0,\"#f0f921\"]],\"sequentialminus\":[[0.0,\"#0d0887\"],[0.1111111111111111,\"#46039f\"],[0.2222222222222222,\"#7201a8\"],[0.3333333333333333,\"#9c179e\"],[0.4444444444444444,\"#bd3786\"],[0.5555555555555556,\"#d8576b\"],[0.6666666666666666,\"#ed7953\"],[0.7777777777777778,\"#fb9f3a\"],[0.8888888888888888,\"#fdca26\"],[1.0,\"#f0f921\"]]},\"colorway\":[\"#636efa\",\"#EF553B\",\"#00cc96\",\"#ab63fa\",\"#FFA15A\",\"#19d3f3\",\"#FF6692\",\"#B6E880\",\"#FF97FF\",\"#FECB52\"],\"font\":{\"color\":\"#2a3f5f\"},\"geo\":{\"bgcolor\":\"white\",\"lakecolor\":\"white\",\"landcolor\":\"#E5ECF6\",\"showlakes\":true,\"showland\":true,\"subunitcolor\":\"white\"},\"hoverlabel\":{\"align\":\"left\"},\"hovermode\":\"closest\",\"mapbox\":{\"style\":\"light\"},\"paper_bgcolor\":\"white\",\"plot_bgcolor\":\"#E5ECF6\",\"polar\":{\"angularaxis\":{\"gridcolor\":\"white\",\"linecolor\":\"white\",\"ticks\":\"\"},\"bgcolor\":\"#E5ECF6\",\"radialaxis\":{\"gridcolor\":\"white\",\"linecolor\":\"white\",\"ticks\":\"\"}},\"scene\":{\"xaxis\":{\"backgroundcolor\":\"#E5ECF6\",\"gridcolor\":\"white\",\"gridwidth\":2,\"linecolor\":\"white\",\"showbackground\":true,\"ticks\":\"\",\"zerolinecolor\":\"white\"},\"yaxis\":{\"backgroundcolor\":\"#E5ECF6\",\"gridcolor\":\"white\",\"gridwidth\":2,\"linecolor\":\"white\",\"showbackground\":true,\"ticks\":\"\",\"zerolinecolor\":\"white\"},\"zaxis\":{\"backgroundcolor\":\"#E5ECF6\",\"gridcolor\":\"white\",\"gridwidth\":2,\"linecolor\":\"white\",\"showbackground\":true,\"ticks\":\"\",\"zerolinecolor\":\"white\"}},\"shapedefaults\":{\"line\":{\"color\":\"#2a3f5f\"}},\"ternary\":{\"aaxis\":{\"gridcolor\":\"white\",\"linecolor\":\"white\",\"ticks\":\"\"},\"baxis\":{\"gridcolor\":\"white\",\"linecolor\":\"white\",\"ticks\":\"\"},\"bgcolor\":\"#E5ECF6\",\"caxis\":{\"gridcolor\":\"white\",\"linecolor\":\"white\",\"ticks\":\"\"}},\"title\":{\"x\":0.05},\"xaxis\":{\"automargin\":true,\"gridcolor\":\"white\",\"linecolor\":\"white\",\"ticks\":\"\",\"title\":{\"standoff\":15},\"zerolinecolor\":\"white\",\"zerolinewidth\":2},\"yaxis\":{\"automargin\":true,\"gridcolor\":\"white\",\"linecolor\":\"white\",\"ticks\":\"\",\"title\":{\"standoff\":15},\"zerolinecolor\":\"white\",\"zerolinewidth\":2}}},\"xaxis\":{\"anchor\":\"y\",\"domain\":[0.0,1.0],\"title\":{\"text\":\"budget\"}},\"yaxis\":{\"anchor\":\"x\",\"domain\":[0.0,1.0],\"title\":{\"text\":\"index\"}},\"coloraxis\":{\"colorbar\":{\"title\":{\"text\":\"year_released\"}},\"colorscale\":[[0.0,\"#0d0887\"],[0.1111111111111111,\"#46039f\"],[0.2222222222222222,\"#7201a8\"],[0.3333333333333333,\"#9c179e\"],[0.4444444444444444,\"#bd3786\"],[0.5555555555555556,\"#d8576b\"],[0.6666666666666666,\"#ed7953\"],[0.7777777777777778,\"#fb9f3a\"],[0.8888888888888888,\"#fdca26\"],[1.0,\"#f0f921\"]]},\"legend\":{\"tracegroupgap\":0},\"title\":{\"text\":\"graph\"},\"barmode\":\"relative\"},                        {\"responsive\": true}                    ).then(function(){\n",
       "                            \n",
       "var gd = document.getElementById('365bf821-1e57-4f9b-b5b6-a2d321f03396');\n",
       "var x = new MutationObserver(function (mutations, observer) {{\n",
       "        var display = window.getComputedStyle(gd).display;\n",
       "        if (!display || display === 'none') {{\n",
       "            console.log([gd, 'removed!']);\n",
       "            Plotly.purge(gd);\n",
       "            observer.disconnect();\n",
       "        }}\n",
       "}});\n",
       "\n",
       "// Listen for the removal of the full notebook cells\n",
       "var notebookContainer = gd.closest('#notebook-container');\n",
       "if (notebookContainer) {{\n",
       "    x.observe(notebookContainer, {childList: true});\n",
       "}}\n",
       "\n",
       "// Listen for the clearing of the current output cell\n",
       "var outputEl = gd.closest('.output');\n",
       "if (outputEl) {{\n",
       "    x.observe(outputEl, {childList: true});\n",
       "}}\n",
       "\n",
       "                        })                };                });            </script>        </div>"
      ]
     },
     "metadata": {},
     "output_type": "display_data"
    }
   ],
   "source": [
    "import plotly.express as px\n",
    "\n",
    "fig = px.bar(dfb, x=\"budget\", color=\"year_released\", title=\"graph\")\n",
    "fig"
   ]
  },
  {
   "cell_type": "code",
   "execution_count": 383,
   "id": "8e1b1acb",
   "metadata": {},
   "outputs": [
    {
     "data": {
      "text/html": [
       "<div>\n",
       "<style scoped>\n",
       "    .dataframe tbody tr th:only-of-type {\n",
       "        vertical-align: middle;\n",
       "    }\n",
       "\n",
       "    .dataframe tbody tr th {\n",
       "        vertical-align: top;\n",
       "    }\n",
       "\n",
       "    .dataframe thead th {\n",
       "        text-align: right;\n",
       "    }\n",
       "</style>\n",
       "<table border=\"1\" class=\"dataframe\">\n",
       "  <thead>\n",
       "    <tr style=\"text-align: right;\">\n",
       "      <th></th>\n",
       "      <th>name</th>\n",
       "      <th>imdb_id</th>\n",
       "      <th>year_released</th>\n",
       "      <th>runtime</th>\n",
       "      <th>imdb_reviews</th>\n",
       "      <th>external_reviews</th>\n",
       "      <th>imdb_rating</th>\n",
       "      <th>metacritic_punctuation</th>\n",
       "      <th>budget</th>\n",
       "      <th>earning_worldwide</th>\n",
       "      <th>earning_US&amp;CA</th>\n",
       "    </tr>\n",
       "  </thead>\n",
       "  <tbody>\n",
       "    <tr>\n",
       "      <th>1</th>\n",
       "      <td>Film__1</td>\n",
       "      <td>1</td>\n",
       "      <td>2001</td>\n",
       "      <td>101</td>\n",
       "      <td>401</td>\n",
       "      <td>51</td>\n",
       "      <td>0.500000</td>\n",
       "      <td>5.500000</td>\n",
       "      <td>1001</td>\n",
       "      <td>500</td>\n",
       "      <td>50</td>\n",
       "    </tr>\n",
       "    <tr>\n",
       "      <th>2</th>\n",
       "      <td>Film__2</td>\n",
       "      <td>2</td>\n",
       "      <td>2002</td>\n",
       "      <td>102</td>\n",
       "      <td>402</td>\n",
       "      <td>52</td>\n",
       "      <td>0.666667</td>\n",
       "      <td>4.000000</td>\n",
       "      <td>1002</td>\n",
       "      <td>1000</td>\n",
       "      <td>100</td>\n",
       "    </tr>\n",
       "    <tr>\n",
       "      <th>3</th>\n",
       "      <td>Film__3</td>\n",
       "      <td>3</td>\n",
       "      <td>2003</td>\n",
       "      <td>103</td>\n",
       "      <td>403</td>\n",
       "      <td>53</td>\n",
       "      <td>0.750000</td>\n",
       "      <td>3.250000</td>\n",
       "      <td>1003</td>\n",
       "      <td>1500</td>\n",
       "      <td>150</td>\n",
       "    </tr>\n",
       "    <tr>\n",
       "      <th>4</th>\n",
       "      <td>Film__4</td>\n",
       "      <td>4</td>\n",
       "      <td>2004</td>\n",
       "      <td>104</td>\n",
       "      <td>404</td>\n",
       "      <td>54</td>\n",
       "      <td>0.800000</td>\n",
       "      <td>2.800000</td>\n",
       "      <td>1004</td>\n",
       "      <td>2000</td>\n",
       "      <td>200</td>\n",
       "    </tr>\n",
       "    <tr>\n",
       "      <th>5</th>\n",
       "      <td>Film__5</td>\n",
       "      <td>5</td>\n",
       "      <td>2005</td>\n",
       "      <td>105</td>\n",
       "      <td>405</td>\n",
       "      <td>55</td>\n",
       "      <td>0.833333</td>\n",
       "      <td>2.500000</td>\n",
       "      <td>1005</td>\n",
       "      <td>2500</td>\n",
       "      <td>250</td>\n",
       "    </tr>\n",
       "    <tr>\n",
       "      <th>6</th>\n",
       "      <td>Film__6</td>\n",
       "      <td>6</td>\n",
       "      <td>2006</td>\n",
       "      <td>106</td>\n",
       "      <td>406</td>\n",
       "      <td>56</td>\n",
       "      <td>0.857143</td>\n",
       "      <td>2.285714</td>\n",
       "      <td>1006</td>\n",
       "      <td>3000</td>\n",
       "      <td>300</td>\n",
       "    </tr>\n",
       "    <tr>\n",
       "      <th>7</th>\n",
       "      <td>Film__7</td>\n",
       "      <td>7</td>\n",
       "      <td>2007</td>\n",
       "      <td>107</td>\n",
       "      <td>407</td>\n",
       "      <td>57</td>\n",
       "      <td>0.875000</td>\n",
       "      <td>2.125000</td>\n",
       "      <td>1007</td>\n",
       "      <td>3500</td>\n",
       "      <td>350</td>\n",
       "    </tr>\n",
       "    <tr>\n",
       "      <th>8</th>\n",
       "      <td>Film__8</td>\n",
       "      <td>8</td>\n",
       "      <td>2008</td>\n",
       "      <td>108</td>\n",
       "      <td>408</td>\n",
       "      <td>58</td>\n",
       "      <td>0.888889</td>\n",
       "      <td>2.000000</td>\n",
       "      <td>1008</td>\n",
       "      <td>4000</td>\n",
       "      <td>400</td>\n",
       "    </tr>\n",
       "    <tr>\n",
       "      <th>9</th>\n",
       "      <td>Film__9</td>\n",
       "      <td>9</td>\n",
       "      <td>2009</td>\n",
       "      <td>109</td>\n",
       "      <td>409</td>\n",
       "      <td>59</td>\n",
       "      <td>0.900000</td>\n",
       "      <td>1.900000</td>\n",
       "      <td>1009</td>\n",
       "      <td>4500</td>\n",
       "      <td>450</td>\n",
       "    </tr>\n",
       "    <tr>\n",
       "      <th>10</th>\n",
       "      <td>Film__10</td>\n",
       "      <td>10</td>\n",
       "      <td>2010</td>\n",
       "      <td>110</td>\n",
       "      <td>410</td>\n",
       "      <td>60</td>\n",
       "      <td>0.909091</td>\n",
       "      <td>1.818182</td>\n",
       "      <td>1010</td>\n",
       "      <td>5000</td>\n",
       "      <td>500</td>\n",
       "    </tr>\n",
       "    <tr>\n",
       "      <th>11</th>\n",
       "      <td>Film__11</td>\n",
       "      <td>11</td>\n",
       "      <td>2011</td>\n",
       "      <td>111</td>\n",
       "      <td>411</td>\n",
       "      <td>61</td>\n",
       "      <td>0.916667</td>\n",
       "      <td>1.750000</td>\n",
       "      <td>1011</td>\n",
       "      <td>5500</td>\n",
       "      <td>550</td>\n",
       "    </tr>\n",
       "    <tr>\n",
       "      <th>12</th>\n",
       "      <td>Film__12</td>\n",
       "      <td>12</td>\n",
       "      <td>2012</td>\n",
       "      <td>112</td>\n",
       "      <td>412</td>\n",
       "      <td>62</td>\n",
       "      <td>0.923077</td>\n",
       "      <td>1.692308</td>\n",
       "      <td>1012</td>\n",
       "      <td>6000</td>\n",
       "      <td>600</td>\n",
       "    </tr>\n",
       "    <tr>\n",
       "      <th>13</th>\n",
       "      <td>Film__13</td>\n",
       "      <td>13</td>\n",
       "      <td>2013</td>\n",
       "      <td>113</td>\n",
       "      <td>413</td>\n",
       "      <td>63</td>\n",
       "      <td>0.928571</td>\n",
       "      <td>1.642857</td>\n",
       "      <td>1013</td>\n",
       "      <td>6500</td>\n",
       "      <td>650</td>\n",
       "    </tr>\n",
       "    <tr>\n",
       "      <th>14</th>\n",
       "      <td>Film__14</td>\n",
       "      <td>14</td>\n",
       "      <td>2014</td>\n",
       "      <td>114</td>\n",
       "      <td>414</td>\n",
       "      <td>64</td>\n",
       "      <td>0.933333</td>\n",
       "      <td>1.600000</td>\n",
       "      <td>1014</td>\n",
       "      <td>7000</td>\n",
       "      <td>700</td>\n",
       "    </tr>\n",
       "    <tr>\n",
       "      <th>15</th>\n",
       "      <td>Film__15</td>\n",
       "      <td>15</td>\n",
       "      <td>2015</td>\n",
       "      <td>115</td>\n",
       "      <td>415</td>\n",
       "      <td>65</td>\n",
       "      <td>0.937500</td>\n",
       "      <td>1.562500</td>\n",
       "      <td>1015</td>\n",
       "      <td>7500</td>\n",
       "      <td>750</td>\n",
       "    </tr>\n",
       "    <tr>\n",
       "      <th>16</th>\n",
       "      <td>Film__16</td>\n",
       "      <td>16</td>\n",
       "      <td>2016</td>\n",
       "      <td>116</td>\n",
       "      <td>416</td>\n",
       "      <td>66</td>\n",
       "      <td>0.941176</td>\n",
       "      <td>1.529412</td>\n",
       "      <td>1016</td>\n",
       "      <td>8000</td>\n",
       "      <td>800</td>\n",
       "    </tr>\n",
       "    <tr>\n",
       "      <th>17</th>\n",
       "      <td>Film__17</td>\n",
       "      <td>17</td>\n",
       "      <td>2017</td>\n",
       "      <td>117</td>\n",
       "      <td>417</td>\n",
       "      <td>67</td>\n",
       "      <td>0.944444</td>\n",
       "      <td>1.500000</td>\n",
       "      <td>1017</td>\n",
       "      <td>8500</td>\n",
       "      <td>850</td>\n",
       "    </tr>\n",
       "    <tr>\n",
       "      <th>18</th>\n",
       "      <td>Film__18</td>\n",
       "      <td>18</td>\n",
       "      <td>2018</td>\n",
       "      <td>118</td>\n",
       "      <td>418</td>\n",
       "      <td>68</td>\n",
       "      <td>0.947368</td>\n",
       "      <td>1.473684</td>\n",
       "      <td>1018</td>\n",
       "      <td>9000</td>\n",
       "      <td>900</td>\n",
       "    </tr>\n",
       "    <tr>\n",
       "      <th>19</th>\n",
       "      <td>Film__19</td>\n",
       "      <td>19</td>\n",
       "      <td>2019</td>\n",
       "      <td>119</td>\n",
       "      <td>419</td>\n",
       "      <td>69</td>\n",
       "      <td>0.950000</td>\n",
       "      <td>1.450000</td>\n",
       "      <td>1019</td>\n",
       "      <td>9500</td>\n",
       "      <td>950</td>\n",
       "    </tr>\n",
       "    <tr>\n",
       "      <th>20</th>\n",
       "      <td>Film__20</td>\n",
       "      <td>20</td>\n",
       "      <td>2020</td>\n",
       "      <td>120</td>\n",
       "      <td>420</td>\n",
       "      <td>70</td>\n",
       "      <td>0.952381</td>\n",
       "      <td>1.428571</td>\n",
       "      <td>1020</td>\n",
       "      <td>10000</td>\n",
       "      <td>1000</td>\n",
       "    </tr>\n",
       "    <tr>\n",
       "      <th>21</th>\n",
       "      <td>Film__21</td>\n",
       "      <td>21</td>\n",
       "      <td>2021</td>\n",
       "      <td>121</td>\n",
       "      <td>421</td>\n",
       "      <td>71</td>\n",
       "      <td>0.954545</td>\n",
       "      <td>1.409091</td>\n",
       "      <td>1021</td>\n",
       "      <td>10500</td>\n",
       "      <td>1050</td>\n",
       "    </tr>\n",
       "    <tr>\n",
       "      <th>22</th>\n",
       "      <td>Film__22</td>\n",
       "      <td>22</td>\n",
       "      <td>2022</td>\n",
       "      <td>122</td>\n",
       "      <td>422</td>\n",
       "      <td>72</td>\n",
       "      <td>0.956522</td>\n",
       "      <td>1.391304</td>\n",
       "      <td>1022</td>\n",
       "      <td>11000</td>\n",
       "      <td>1100</td>\n",
       "    </tr>\n",
       "  </tbody>\n",
       "</table>\n",
       "</div>"
      ],
      "text/plain": [
       "        name imdb_id  year_released  runtime  imdb_reviews  external_reviews  \\\n",
       "1    Film__1       1           2001      101           401                51   \n",
       "2    Film__2       2           2002      102           402                52   \n",
       "3    Film__3       3           2003      103           403                53   \n",
       "4    Film__4       4           2004      104           404                54   \n",
       "5    Film__5       5           2005      105           405                55   \n",
       "6    Film__6       6           2006      106           406                56   \n",
       "7    Film__7       7           2007      107           407                57   \n",
       "8    Film__8       8           2008      108           408                58   \n",
       "9    Film__9       9           2009      109           409                59   \n",
       "10  Film__10      10           2010      110           410                60   \n",
       "11  Film__11      11           2011      111           411                61   \n",
       "12  Film__12      12           2012      112           412                62   \n",
       "13  Film__13      13           2013      113           413                63   \n",
       "14  Film__14      14           2014      114           414                64   \n",
       "15  Film__15      15           2015      115           415                65   \n",
       "16  Film__16      16           2016      116           416                66   \n",
       "17  Film__17      17           2017      117           417                67   \n",
       "18  Film__18      18           2018      118           418                68   \n",
       "19  Film__19      19           2019      119           419                69   \n",
       "20  Film__20      20           2020      120           420                70   \n",
       "21  Film__21      21           2021      121           421                71   \n",
       "22  Film__22      22           2022      122           422                72   \n",
       "\n",
       "    imdb_rating  metacritic_punctuation  budget  earning_worldwide  \\\n",
       "1      0.500000                5.500000    1001                500   \n",
       "2      0.666667                4.000000    1002               1000   \n",
       "3      0.750000                3.250000    1003               1500   \n",
       "4      0.800000                2.800000    1004               2000   \n",
       "5      0.833333                2.500000    1005               2500   \n",
       "6      0.857143                2.285714    1006               3000   \n",
       "7      0.875000                2.125000    1007               3500   \n",
       "8      0.888889                2.000000    1008               4000   \n",
       "9      0.900000                1.900000    1009               4500   \n",
       "10     0.909091                1.818182    1010               5000   \n",
       "11     0.916667                1.750000    1011               5500   \n",
       "12     0.923077                1.692308    1012               6000   \n",
       "13     0.928571                1.642857    1013               6500   \n",
       "14     0.933333                1.600000    1014               7000   \n",
       "15     0.937500                1.562500    1015               7500   \n",
       "16     0.941176                1.529412    1016               8000   \n",
       "17     0.944444                1.500000    1017               8500   \n",
       "18     0.947368                1.473684    1018               9000   \n",
       "19     0.950000                1.450000    1019               9500   \n",
       "20     0.952381                1.428571    1020              10000   \n",
       "21     0.954545                1.409091    1021              10500   \n",
       "22     0.956522                1.391304    1022              11000   \n",
       "\n",
       "    earning_US&CA  \n",
       "1              50  \n",
       "2             100  \n",
       "3             150  \n",
       "4             200  \n",
       "5             250  \n",
       "6             300  \n",
       "7             350  \n",
       "8             400  \n",
       "9             450  \n",
       "10            500  \n",
       "11            550  \n",
       "12            600  \n",
       "13            650  \n",
       "14            700  \n",
       "15            750  \n",
       "16            800  \n",
       "17            850  \n",
       "18            900  \n",
       "19            950  \n",
       "20           1000  \n",
       "21           1050  \n",
       "22           1100  "
      ]
     },
     "execution_count": 383,
     "metadata": {},
     "output_type": "execute_result"
    }
   ],
   "source": [
    "dfb.drop(dfb.index[22:69], axis = 0, inplace = True,errors='ignore')\n",
    "dfb"
   ]
  },
  {
   "cell_type": "code",
   "execution_count": 404,
   "id": "763ed1cd",
   "metadata": {},
   "outputs": [
    {
     "name": "stdout",
     "output_type": "stream",
     "text": [
      "        name imdb_id  year_released  runtime  imdb_reviews  external_reviews  \\\n",
      "1    Film__1       1           2001      101           401                51   \n",
      "2    Film__2       2           2002      102           402                52   \n",
      "3    Film__3       3           2003      103           403                53   \n",
      "4    Film__4       4           2004      104           404                54   \n",
      "5    Film__5       5           2005      105           405                55   \n",
      "6    Film__6       6           2006      106           406                56   \n",
      "7    Film__7       7           2007      107           407                57   \n",
      "8    Film__8       8           2008      108           408                58   \n",
      "9    Film__9       9           2009      109           409                59   \n",
      "10  Film__10      10           2010      110           410                60   \n",
      "11  Film__11      11           2011      111           411                61   \n",
      "12  Film__12      12           2012      112           412                62   \n",
      "13  Film__13      13           2013      113           413                63   \n",
      "14  Film__14      14           2014      114           414                64   \n",
      "15  Film__15      15           2015      115           415                65   \n",
      "16  Film__16      16           2016      116           416                66   \n",
      "17  Film__17      17           2017      117           417                67   \n",
      "18  Film__18      18           2018      118           418                68   \n",
      "19  Film__19      19           2019      119           419                69   \n",
      "20  Film__20      20           2020      120           420                70   \n",
      "21  Film__21      21           2021      121           421                71   \n",
      "22  Film__22      22           2022      122           422                72   \n",
      "\n",
      "    imdb_rating  metacritic_punctuation  budget  earning_worldwide  \\\n",
      "1      0.500000                5.500000    1001                500   \n",
      "2      0.666667                4.000000    1002               1000   \n",
      "3      0.750000                3.250000    1003               1500   \n",
      "4      0.800000                2.800000    1004               2000   \n",
      "5      0.833333                2.500000    1005               2500   \n",
      "6      0.857143                2.285714    1006               3000   \n",
      "7      0.875000                2.125000    1007               3500   \n",
      "8      0.888889                2.000000    1008               4000   \n",
      "9      0.900000                1.900000    1009               4500   \n",
      "10     0.909091                1.818182    1010               5000   \n",
      "11     0.916667                1.750000    1011               5500   \n",
      "12     0.923077                1.692308    1012               6000   \n",
      "13     0.928571                1.642857    1013               6500   \n",
      "14     0.933333                1.600000    1014               7000   \n",
      "15     0.937500                1.562500    1015               7500   \n",
      "16     0.941176                1.529412    1016               8000   \n",
      "17     0.944444                1.500000    1017               8500   \n",
      "18     0.947368                1.473684    1018               9000   \n",
      "19     0.950000                1.450000    1019               9500   \n",
      "20     0.952381                1.428571    1020              10000   \n",
      "21     0.954545                1.409091    1021              10500   \n",
      "22     0.956522                1.391304    1022              11000   \n",
      "\n",
      "    earning_US&CA  \n",
      "1              50  \n",
      "2             100  \n",
      "3             150  \n",
      "4             200  \n",
      "5             250  \n",
      "6             300  \n",
      "7             350  \n",
      "8             400  \n",
      "9             450  \n",
      "10            500  \n",
      "11            550  \n",
      "12            600  \n",
      "13            650  \n",
      "14            700  \n",
      "15            750  \n",
      "16            800  \n",
      "17            850  \n",
      "18            900  \n",
      "19            950  \n",
      "20           1000  \n",
      "21           1050  \n",
      "22           1100  \n"
     ]
    }
   ],
   "source": [
    "dfb.to_csv('/Users/mariavogli/Desktop/M2-DS2E/movies.csv',index=False)\n",
    "\n",
    "#df2 = pd.read_csv('/Users/mariavogli/Desktop/M2-DS2E/movies.csv')\n",
    "print(dfb)"
   ]
  },
  {
   "cell_type": "code",
   "execution_count": 384,
   "id": "a53954db",
   "metadata": {},
   "outputs": [
    {
     "data": {
      "application/vnd.plotly.v1+json": {
       "config": {
        "plotlyServerURL": "https://plot.ly"
       },
       "data": [
        {
         "domain": {
          "x": [
           0,
           1
          ],
          "y": [
           0,
           1
          ]
         },
         "hole": 0.2,
         "hovertemplate": "year_released=%{label}<br>earning_worldwide=%{value}<extra></extra>",
         "insidetextfont": {
          "color": "white"
         },
         "labels": [
          2001,
          2002,
          2003,
          2004,
          2005,
          2006,
          2007,
          2008,
          2009,
          2010,
          2011,
          2012,
          2013,
          2014,
          2015,
          2016,
          2017,
          2018,
          2019,
          2020,
          2021,
          2022
         ],
         "legendgroup": "",
         "name": "",
         "showlegend": true,
         "textinfo": "text",
         "type": "pie",
         "values": [
          500,
          1000,
          1500,
          2000,
          2500,
          3000,
          3500,
          4000,
          4500,
          5000,
          5500,
          6000,
          6500,
          7000,
          7500,
          8000,
          8500,
          9000,
          9500,
          10000,
          10500,
          11000
         ]
        }
       ],
       "layout": {
        "legend": {
         "itemclick": false,
         "tracegroupgap": 0
        },
        "template": {
         "data": {
          "bar": [
           {
            "error_x": {
             "color": "#2a3f5f"
            },
            "error_y": {
             "color": "#2a3f5f"
            },
            "marker": {
             "line": {
              "color": "#E5ECF6",
              "width": 0.5
             },
             "pattern": {
              "fillmode": "overlay",
              "size": 10,
              "solidity": 0.2
             }
            },
            "type": "bar"
           }
          ],
          "barpolar": [
           {
            "marker": {
             "line": {
              "color": "#E5ECF6",
              "width": 0.5
             },
             "pattern": {
              "fillmode": "overlay",
              "size": 10,
              "solidity": 0.2
             }
            },
            "type": "barpolar"
           }
          ],
          "carpet": [
           {
            "aaxis": {
             "endlinecolor": "#2a3f5f",
             "gridcolor": "white",
             "linecolor": "white",
             "minorgridcolor": "white",
             "startlinecolor": "#2a3f5f"
            },
            "baxis": {
             "endlinecolor": "#2a3f5f",
             "gridcolor": "white",
             "linecolor": "white",
             "minorgridcolor": "white",
             "startlinecolor": "#2a3f5f"
            },
            "type": "carpet"
           }
          ],
          "choropleth": [
           {
            "colorbar": {
             "outlinewidth": 0,
             "ticks": ""
            },
            "type": "choropleth"
           }
          ],
          "contour": [
           {
            "colorbar": {
             "outlinewidth": 0,
             "ticks": ""
            },
            "colorscale": [
             [
              0,
              "#0d0887"
             ],
             [
              0.1111111111111111,
              "#46039f"
             ],
             [
              0.2222222222222222,
              "#7201a8"
             ],
             [
              0.3333333333333333,
              "#9c179e"
             ],
             [
              0.4444444444444444,
              "#bd3786"
             ],
             [
              0.5555555555555556,
              "#d8576b"
             ],
             [
              0.6666666666666666,
              "#ed7953"
             ],
             [
              0.7777777777777778,
              "#fb9f3a"
             ],
             [
              0.8888888888888888,
              "#fdca26"
             ],
             [
              1,
              "#f0f921"
             ]
            ],
            "type": "contour"
           }
          ],
          "contourcarpet": [
           {
            "colorbar": {
             "outlinewidth": 0,
             "ticks": ""
            },
            "type": "contourcarpet"
           }
          ],
          "heatmap": [
           {
            "colorbar": {
             "outlinewidth": 0,
             "ticks": ""
            },
            "colorscale": [
             [
              0,
              "#0d0887"
             ],
             [
              0.1111111111111111,
              "#46039f"
             ],
             [
              0.2222222222222222,
              "#7201a8"
             ],
             [
              0.3333333333333333,
              "#9c179e"
             ],
             [
              0.4444444444444444,
              "#bd3786"
             ],
             [
              0.5555555555555556,
              "#d8576b"
             ],
             [
              0.6666666666666666,
              "#ed7953"
             ],
             [
              0.7777777777777778,
              "#fb9f3a"
             ],
             [
              0.8888888888888888,
              "#fdca26"
             ],
             [
              1,
              "#f0f921"
             ]
            ],
            "type": "heatmap"
           }
          ],
          "heatmapgl": [
           {
            "colorbar": {
             "outlinewidth": 0,
             "ticks": ""
            },
            "colorscale": [
             [
              0,
              "#0d0887"
             ],
             [
              0.1111111111111111,
              "#46039f"
             ],
             [
              0.2222222222222222,
              "#7201a8"
             ],
             [
              0.3333333333333333,
              "#9c179e"
             ],
             [
              0.4444444444444444,
              "#bd3786"
             ],
             [
              0.5555555555555556,
              "#d8576b"
             ],
             [
              0.6666666666666666,
              "#ed7953"
             ],
             [
              0.7777777777777778,
              "#fb9f3a"
             ],
             [
              0.8888888888888888,
              "#fdca26"
             ],
             [
              1,
              "#f0f921"
             ]
            ],
            "type": "heatmapgl"
           }
          ],
          "histogram": [
           {
            "marker": {
             "pattern": {
              "fillmode": "overlay",
              "size": 10,
              "solidity": 0.2
             }
            },
            "type": "histogram"
           }
          ],
          "histogram2d": [
           {
            "colorbar": {
             "outlinewidth": 0,
             "ticks": ""
            },
            "colorscale": [
             [
              0,
              "#0d0887"
             ],
             [
              0.1111111111111111,
              "#46039f"
             ],
             [
              0.2222222222222222,
              "#7201a8"
             ],
             [
              0.3333333333333333,
              "#9c179e"
             ],
             [
              0.4444444444444444,
              "#bd3786"
             ],
             [
              0.5555555555555556,
              "#d8576b"
             ],
             [
              0.6666666666666666,
              "#ed7953"
             ],
             [
              0.7777777777777778,
              "#fb9f3a"
             ],
             [
              0.8888888888888888,
              "#fdca26"
             ],
             [
              1,
              "#f0f921"
             ]
            ],
            "type": "histogram2d"
           }
          ],
          "histogram2dcontour": [
           {
            "colorbar": {
             "outlinewidth": 0,
             "ticks": ""
            },
            "colorscale": [
             [
              0,
              "#0d0887"
             ],
             [
              0.1111111111111111,
              "#46039f"
             ],
             [
              0.2222222222222222,
              "#7201a8"
             ],
             [
              0.3333333333333333,
              "#9c179e"
             ],
             [
              0.4444444444444444,
              "#bd3786"
             ],
             [
              0.5555555555555556,
              "#d8576b"
             ],
             [
              0.6666666666666666,
              "#ed7953"
             ],
             [
              0.7777777777777778,
              "#fb9f3a"
             ],
             [
              0.8888888888888888,
              "#fdca26"
             ],
             [
              1,
              "#f0f921"
             ]
            ],
            "type": "histogram2dcontour"
           }
          ],
          "mesh3d": [
           {
            "colorbar": {
             "outlinewidth": 0,
             "ticks": ""
            },
            "type": "mesh3d"
           }
          ],
          "parcoords": [
           {
            "line": {
             "colorbar": {
              "outlinewidth": 0,
              "ticks": ""
             }
            },
            "type": "parcoords"
           }
          ],
          "pie": [
           {
            "automargin": true,
            "type": "pie"
           }
          ],
          "scatter": [
           {
            "marker": {
             "colorbar": {
              "outlinewidth": 0,
              "ticks": ""
             }
            },
            "type": "scatter"
           }
          ],
          "scatter3d": [
           {
            "line": {
             "colorbar": {
              "outlinewidth": 0,
              "ticks": ""
             }
            },
            "marker": {
             "colorbar": {
              "outlinewidth": 0,
              "ticks": ""
             }
            },
            "type": "scatter3d"
           }
          ],
          "scattercarpet": [
           {
            "marker": {
             "colorbar": {
              "outlinewidth": 0,
              "ticks": ""
             }
            },
            "type": "scattercarpet"
           }
          ],
          "scattergeo": [
           {
            "marker": {
             "colorbar": {
              "outlinewidth": 0,
              "ticks": ""
             }
            },
            "type": "scattergeo"
           }
          ],
          "scattergl": [
           {
            "marker": {
             "colorbar": {
              "outlinewidth": 0,
              "ticks": ""
             }
            },
            "type": "scattergl"
           }
          ],
          "scattermapbox": [
           {
            "marker": {
             "colorbar": {
              "outlinewidth": 0,
              "ticks": ""
             }
            },
            "type": "scattermapbox"
           }
          ],
          "scatterpolar": [
           {
            "marker": {
             "colorbar": {
              "outlinewidth": 0,
              "ticks": ""
             }
            },
            "type": "scatterpolar"
           }
          ],
          "scatterpolargl": [
           {
            "marker": {
             "colorbar": {
              "outlinewidth": 0,
              "ticks": ""
             }
            },
            "type": "scatterpolargl"
           }
          ],
          "scatterternary": [
           {
            "marker": {
             "colorbar": {
              "outlinewidth": 0,
              "ticks": ""
             }
            },
            "type": "scatterternary"
           }
          ],
          "surface": [
           {
            "colorbar": {
             "outlinewidth": 0,
             "ticks": ""
            },
            "colorscale": [
             [
              0,
              "#0d0887"
             ],
             [
              0.1111111111111111,
              "#46039f"
             ],
             [
              0.2222222222222222,
              "#7201a8"
             ],
             [
              0.3333333333333333,
              "#9c179e"
             ],
             [
              0.4444444444444444,
              "#bd3786"
             ],
             [
              0.5555555555555556,
              "#d8576b"
             ],
             [
              0.6666666666666666,
              "#ed7953"
             ],
             [
              0.7777777777777778,
              "#fb9f3a"
             ],
             [
              0.8888888888888888,
              "#fdca26"
             ],
             [
              1,
              "#f0f921"
             ]
            ],
            "type": "surface"
           }
          ],
          "table": [
           {
            "cells": {
             "fill": {
              "color": "#EBF0F8"
             },
             "line": {
              "color": "white"
             }
            },
            "header": {
             "fill": {
              "color": "#C8D4E3"
             },
             "line": {
              "color": "white"
             }
            },
            "type": "table"
           }
          ]
         },
         "layout": {
          "annotationdefaults": {
           "arrowcolor": "#2a3f5f",
           "arrowhead": 0,
           "arrowwidth": 1
          },
          "autotypenumbers": "strict",
          "coloraxis": {
           "colorbar": {
            "outlinewidth": 0,
            "ticks": ""
           }
          },
          "colorscale": {
           "diverging": [
            [
             0,
             "#8e0152"
            ],
            [
             0.1,
             "#c51b7d"
            ],
            [
             0.2,
             "#de77ae"
            ],
            [
             0.3,
             "#f1b6da"
            ],
            [
             0.4,
             "#fde0ef"
            ],
            [
             0.5,
             "#f7f7f7"
            ],
            [
             0.6,
             "#e6f5d0"
            ],
            [
             0.7,
             "#b8e186"
            ],
            [
             0.8,
             "#7fbc41"
            ],
            [
             0.9,
             "#4d9221"
            ],
            [
             1,
             "#276419"
            ]
           ],
           "sequential": [
            [
             0,
             "#0d0887"
            ],
            [
             0.1111111111111111,
             "#46039f"
            ],
            [
             0.2222222222222222,
             "#7201a8"
            ],
            [
             0.3333333333333333,
             "#9c179e"
            ],
            [
             0.4444444444444444,
             "#bd3786"
            ],
            [
             0.5555555555555556,
             "#d8576b"
            ],
            [
             0.6666666666666666,
             "#ed7953"
            ],
            [
             0.7777777777777778,
             "#fb9f3a"
            ],
            [
             0.8888888888888888,
             "#fdca26"
            ],
            [
             1,
             "#f0f921"
            ]
           ],
           "sequentialminus": [
            [
             0,
             "#0d0887"
            ],
            [
             0.1111111111111111,
             "#46039f"
            ],
            [
             0.2222222222222222,
             "#7201a8"
            ],
            [
             0.3333333333333333,
             "#9c179e"
            ],
            [
             0.4444444444444444,
             "#bd3786"
            ],
            [
             0.5555555555555556,
             "#d8576b"
            ],
            [
             0.6666666666666666,
             "#ed7953"
            ],
            [
             0.7777777777777778,
             "#fb9f3a"
            ],
            [
             0.8888888888888888,
             "#fdca26"
            ],
            [
             1,
             "#f0f921"
            ]
           ]
          },
          "colorway": [
           "#636efa",
           "#EF553B",
           "#00cc96",
           "#ab63fa",
           "#FFA15A",
           "#19d3f3",
           "#FF6692",
           "#B6E880",
           "#FF97FF",
           "#FECB52"
          ],
          "font": {
           "color": "#2a3f5f"
          },
          "geo": {
           "bgcolor": "white",
           "lakecolor": "white",
           "landcolor": "#E5ECF6",
           "showlakes": true,
           "showland": true,
           "subunitcolor": "white"
          },
          "hoverlabel": {
           "align": "left"
          },
          "hovermode": "closest",
          "mapbox": {
           "style": "light"
          },
          "paper_bgcolor": "white",
          "plot_bgcolor": "#E5ECF6",
          "polar": {
           "angularaxis": {
            "gridcolor": "white",
            "linecolor": "white",
            "ticks": ""
           },
           "bgcolor": "#E5ECF6",
           "radialaxis": {
            "gridcolor": "white",
            "linecolor": "white",
            "ticks": ""
           }
          },
          "scene": {
           "xaxis": {
            "backgroundcolor": "#E5ECF6",
            "gridcolor": "white",
            "gridwidth": 2,
            "linecolor": "white",
            "showbackground": true,
            "ticks": "",
            "zerolinecolor": "white"
           },
           "yaxis": {
            "backgroundcolor": "#E5ECF6",
            "gridcolor": "white",
            "gridwidth": 2,
            "linecolor": "white",
            "showbackground": true,
            "ticks": "",
            "zerolinecolor": "white"
           },
           "zaxis": {
            "backgroundcolor": "#E5ECF6",
            "gridcolor": "white",
            "gridwidth": 2,
            "linecolor": "white",
            "showbackground": true,
            "ticks": "",
            "zerolinecolor": "white"
           }
          },
          "shapedefaults": {
           "line": {
            "color": "#2a3f5f"
           }
          },
          "ternary": {
           "aaxis": {
            "gridcolor": "white",
            "linecolor": "white",
            "ticks": ""
           },
           "baxis": {
            "gridcolor": "white",
            "linecolor": "white",
            "ticks": ""
           },
           "bgcolor": "#E5ECF6",
           "caxis": {
            "gridcolor": "white",
            "linecolor": "white",
            "ticks": ""
           }
          },
          "title": {
           "x": 0.05
          },
          "xaxis": {
           "automargin": true,
           "gridcolor": "white",
           "linecolor": "white",
           "ticks": "",
           "title": {
            "standoff": 15
           },
           "zerolinecolor": "white",
           "zerolinewidth": 2
          },
          "yaxis": {
           "automargin": true,
           "gridcolor": "white",
           "linecolor": "white",
           "ticks": "",
           "title": {
            "standoff": 15
           },
           "zerolinecolor": "white",
           "zerolinewidth": 2
          }
         }
        },
        "title": {
         "text": "Movies earnings based on the year release of the movie"
        }
       }
      },
      "text/html": [
       "<div>                            <div id=\"d62e2ce7-025a-42d7-93ea-f87392c38ec0\" class=\"plotly-graph-div\" style=\"height:525px; width:100%;\"></div>            <script type=\"text/javascript\">                require([\"plotly\"], function(Plotly) {                    window.PLOTLYENV=window.PLOTLYENV || {};                                    if (document.getElementById(\"d62e2ce7-025a-42d7-93ea-f87392c38ec0\")) {                    Plotly.newPlot(                        \"d62e2ce7-025a-42d7-93ea-f87392c38ec0\",                        [{\"domain\":{\"x\":[0.0,1.0],\"y\":[0.0,1.0]},\"hole\":0.2,\"hovertemplate\":\"year_released=%{label}<br>earning_worldwide=%{value}<extra></extra>\",\"labels\":[2001,2002,2003,2004,2005,2006,2007,2008,2009,2010,2011,2012,2013,2014,2015,2016,2017,2018,2019,2020,2021,2022],\"legendgroup\":\"\",\"name\":\"\",\"showlegend\":true,\"values\":[500,1000,1500,2000,2500,3000,3500,4000,4500,5000,5500,6000,6500,7000,7500,8000,8500,9000,9500,10000,10500,11000],\"type\":\"pie\",\"insidetextfont\":{\"color\":\"white\"},\"textinfo\":\"text\"}],                        {\"template\":{\"data\":{\"bar\":[{\"error_x\":{\"color\":\"#2a3f5f\"},\"error_y\":{\"color\":\"#2a3f5f\"},\"marker\":{\"line\":{\"color\":\"#E5ECF6\",\"width\":0.5},\"pattern\":{\"fillmode\":\"overlay\",\"size\":10,\"solidity\":0.2}},\"type\":\"bar\"}],\"barpolar\":[{\"marker\":{\"line\":{\"color\":\"#E5ECF6\",\"width\":0.5},\"pattern\":{\"fillmode\":\"overlay\",\"size\":10,\"solidity\":0.2}},\"type\":\"barpolar\"}],\"carpet\":[{\"aaxis\":{\"endlinecolor\":\"#2a3f5f\",\"gridcolor\":\"white\",\"linecolor\":\"white\",\"minorgridcolor\":\"white\",\"startlinecolor\":\"#2a3f5f\"},\"baxis\":{\"endlinecolor\":\"#2a3f5f\",\"gridcolor\":\"white\",\"linecolor\":\"white\",\"minorgridcolor\":\"white\",\"startlinecolor\":\"#2a3f5f\"},\"type\":\"carpet\"}],\"choropleth\":[{\"colorbar\":{\"outlinewidth\":0,\"ticks\":\"\"},\"type\":\"choropleth\"}],\"contour\":[{\"colorbar\":{\"outlinewidth\":0,\"ticks\":\"\"},\"colorscale\":[[0.0,\"#0d0887\"],[0.1111111111111111,\"#46039f\"],[0.2222222222222222,\"#7201a8\"],[0.3333333333333333,\"#9c179e\"],[0.4444444444444444,\"#bd3786\"],[0.5555555555555556,\"#d8576b\"],[0.6666666666666666,\"#ed7953\"],[0.7777777777777778,\"#fb9f3a\"],[0.8888888888888888,\"#fdca26\"],[1.0,\"#f0f921\"]],\"type\":\"contour\"}],\"contourcarpet\":[{\"colorbar\":{\"outlinewidth\":0,\"ticks\":\"\"},\"type\":\"contourcarpet\"}],\"heatmap\":[{\"colorbar\":{\"outlinewidth\":0,\"ticks\":\"\"},\"colorscale\":[[0.0,\"#0d0887\"],[0.1111111111111111,\"#46039f\"],[0.2222222222222222,\"#7201a8\"],[0.3333333333333333,\"#9c179e\"],[0.4444444444444444,\"#bd3786\"],[0.5555555555555556,\"#d8576b\"],[0.6666666666666666,\"#ed7953\"],[0.7777777777777778,\"#fb9f3a\"],[0.8888888888888888,\"#fdca26\"],[1.0,\"#f0f921\"]],\"type\":\"heatmap\"}],\"heatmapgl\":[{\"colorbar\":{\"outlinewidth\":0,\"ticks\":\"\"},\"colorscale\":[[0.0,\"#0d0887\"],[0.1111111111111111,\"#46039f\"],[0.2222222222222222,\"#7201a8\"],[0.3333333333333333,\"#9c179e\"],[0.4444444444444444,\"#bd3786\"],[0.5555555555555556,\"#d8576b\"],[0.6666666666666666,\"#ed7953\"],[0.7777777777777778,\"#fb9f3a\"],[0.8888888888888888,\"#fdca26\"],[1.0,\"#f0f921\"]],\"type\":\"heatmapgl\"}],\"histogram\":[{\"marker\":{\"pattern\":{\"fillmode\":\"overlay\",\"size\":10,\"solidity\":0.2}},\"type\":\"histogram\"}],\"histogram2d\":[{\"colorbar\":{\"outlinewidth\":0,\"ticks\":\"\"},\"colorscale\":[[0.0,\"#0d0887\"],[0.1111111111111111,\"#46039f\"],[0.2222222222222222,\"#7201a8\"],[0.3333333333333333,\"#9c179e\"],[0.4444444444444444,\"#bd3786\"],[0.5555555555555556,\"#d8576b\"],[0.6666666666666666,\"#ed7953\"],[0.7777777777777778,\"#fb9f3a\"],[0.8888888888888888,\"#fdca26\"],[1.0,\"#f0f921\"]],\"type\":\"histogram2d\"}],\"histogram2dcontour\":[{\"colorbar\":{\"outlinewidth\":0,\"ticks\":\"\"},\"colorscale\":[[0.0,\"#0d0887\"],[0.1111111111111111,\"#46039f\"],[0.2222222222222222,\"#7201a8\"],[0.3333333333333333,\"#9c179e\"],[0.4444444444444444,\"#bd3786\"],[0.5555555555555556,\"#d8576b\"],[0.6666666666666666,\"#ed7953\"],[0.7777777777777778,\"#fb9f3a\"],[0.8888888888888888,\"#fdca26\"],[1.0,\"#f0f921\"]],\"type\":\"histogram2dcontour\"}],\"mesh3d\":[{\"colorbar\":{\"outlinewidth\":0,\"ticks\":\"\"},\"type\":\"mesh3d\"}],\"parcoords\":[{\"line\":{\"colorbar\":{\"outlinewidth\":0,\"ticks\":\"\"}},\"type\":\"parcoords\"}],\"pie\":[{\"automargin\":true,\"type\":\"pie\"}],\"scatter\":[{\"marker\":{\"colorbar\":{\"outlinewidth\":0,\"ticks\":\"\"}},\"type\":\"scatter\"}],\"scatter3d\":[{\"line\":{\"colorbar\":{\"outlinewidth\":0,\"ticks\":\"\"}},\"marker\":{\"colorbar\":{\"outlinewidth\":0,\"ticks\":\"\"}},\"type\":\"scatter3d\"}],\"scattercarpet\":[{\"marker\":{\"colorbar\":{\"outlinewidth\":0,\"ticks\":\"\"}},\"type\":\"scattercarpet\"}],\"scattergeo\":[{\"marker\":{\"colorbar\":{\"outlinewidth\":0,\"ticks\":\"\"}},\"type\":\"scattergeo\"}],\"scattergl\":[{\"marker\":{\"colorbar\":{\"outlinewidth\":0,\"ticks\":\"\"}},\"type\":\"scattergl\"}],\"scattermapbox\":[{\"marker\":{\"colorbar\":{\"outlinewidth\":0,\"ticks\":\"\"}},\"type\":\"scattermapbox\"}],\"scatterpolar\":[{\"marker\":{\"colorbar\":{\"outlinewidth\":0,\"ticks\":\"\"}},\"type\":\"scatterpolar\"}],\"scatterpolargl\":[{\"marker\":{\"colorbar\":{\"outlinewidth\":0,\"ticks\":\"\"}},\"type\":\"scatterpolargl\"}],\"scatterternary\":[{\"marker\":{\"colorbar\":{\"outlinewidth\":0,\"ticks\":\"\"}},\"type\":\"scatterternary\"}],\"surface\":[{\"colorbar\":{\"outlinewidth\":0,\"ticks\":\"\"},\"colorscale\":[[0.0,\"#0d0887\"],[0.1111111111111111,\"#46039f\"],[0.2222222222222222,\"#7201a8\"],[0.3333333333333333,\"#9c179e\"],[0.4444444444444444,\"#bd3786\"],[0.5555555555555556,\"#d8576b\"],[0.6666666666666666,\"#ed7953\"],[0.7777777777777778,\"#fb9f3a\"],[0.8888888888888888,\"#fdca26\"],[1.0,\"#f0f921\"]],\"type\":\"surface\"}],\"table\":[{\"cells\":{\"fill\":{\"color\":\"#EBF0F8\"},\"line\":{\"color\":\"white\"}},\"header\":{\"fill\":{\"color\":\"#C8D4E3\"},\"line\":{\"color\":\"white\"}},\"type\":\"table\"}]},\"layout\":{\"annotationdefaults\":{\"arrowcolor\":\"#2a3f5f\",\"arrowhead\":0,\"arrowwidth\":1},\"autotypenumbers\":\"strict\",\"coloraxis\":{\"colorbar\":{\"outlinewidth\":0,\"ticks\":\"\"}},\"colorscale\":{\"diverging\":[[0,\"#8e0152\"],[0.1,\"#c51b7d\"],[0.2,\"#de77ae\"],[0.3,\"#f1b6da\"],[0.4,\"#fde0ef\"],[0.5,\"#f7f7f7\"],[0.6,\"#e6f5d0\"],[0.7,\"#b8e186\"],[0.8,\"#7fbc41\"],[0.9,\"#4d9221\"],[1,\"#276419\"]],\"sequential\":[[0.0,\"#0d0887\"],[0.1111111111111111,\"#46039f\"],[0.2222222222222222,\"#7201a8\"],[0.3333333333333333,\"#9c179e\"],[0.4444444444444444,\"#bd3786\"],[0.5555555555555556,\"#d8576b\"],[0.6666666666666666,\"#ed7953\"],[0.7777777777777778,\"#fb9f3a\"],[0.8888888888888888,\"#fdca26\"],[1.0,\"#f0f921\"]],\"sequentialminus\":[[0.0,\"#0d0887\"],[0.1111111111111111,\"#46039f\"],[0.2222222222222222,\"#7201a8\"],[0.3333333333333333,\"#9c179e\"],[0.4444444444444444,\"#bd3786\"],[0.5555555555555556,\"#d8576b\"],[0.6666666666666666,\"#ed7953\"],[0.7777777777777778,\"#fb9f3a\"],[0.8888888888888888,\"#fdca26\"],[1.0,\"#f0f921\"]]},\"colorway\":[\"#636efa\",\"#EF553B\",\"#00cc96\",\"#ab63fa\",\"#FFA15A\",\"#19d3f3\",\"#FF6692\",\"#B6E880\",\"#FF97FF\",\"#FECB52\"],\"font\":{\"color\":\"#2a3f5f\"},\"geo\":{\"bgcolor\":\"white\",\"lakecolor\":\"white\",\"landcolor\":\"#E5ECF6\",\"showlakes\":true,\"showland\":true,\"subunitcolor\":\"white\"},\"hoverlabel\":{\"align\":\"left\"},\"hovermode\":\"closest\",\"mapbox\":{\"style\":\"light\"},\"paper_bgcolor\":\"white\",\"plot_bgcolor\":\"#E5ECF6\",\"polar\":{\"angularaxis\":{\"gridcolor\":\"white\",\"linecolor\":\"white\",\"ticks\":\"\"},\"bgcolor\":\"#E5ECF6\",\"radialaxis\":{\"gridcolor\":\"white\",\"linecolor\":\"white\",\"ticks\":\"\"}},\"scene\":{\"xaxis\":{\"backgroundcolor\":\"#E5ECF6\",\"gridcolor\":\"white\",\"gridwidth\":2,\"linecolor\":\"white\",\"showbackground\":true,\"ticks\":\"\",\"zerolinecolor\":\"white\"},\"yaxis\":{\"backgroundcolor\":\"#E5ECF6\",\"gridcolor\":\"white\",\"gridwidth\":2,\"linecolor\":\"white\",\"showbackground\":true,\"ticks\":\"\",\"zerolinecolor\":\"white\"},\"zaxis\":{\"backgroundcolor\":\"#E5ECF6\",\"gridcolor\":\"white\",\"gridwidth\":2,\"linecolor\":\"white\",\"showbackground\":true,\"ticks\":\"\",\"zerolinecolor\":\"white\"}},\"shapedefaults\":{\"line\":{\"color\":\"#2a3f5f\"}},\"ternary\":{\"aaxis\":{\"gridcolor\":\"white\",\"linecolor\":\"white\",\"ticks\":\"\"},\"baxis\":{\"gridcolor\":\"white\",\"linecolor\":\"white\",\"ticks\":\"\"},\"bgcolor\":\"#E5ECF6\",\"caxis\":{\"gridcolor\":\"white\",\"linecolor\":\"white\",\"ticks\":\"\"}},\"title\":{\"x\":0.05},\"xaxis\":{\"automargin\":true,\"gridcolor\":\"white\",\"linecolor\":\"white\",\"ticks\":\"\",\"title\":{\"standoff\":15},\"zerolinecolor\":\"white\",\"zerolinewidth\":2},\"yaxis\":{\"automargin\":true,\"gridcolor\":\"white\",\"linecolor\":\"white\",\"ticks\":\"\",\"title\":{\"standoff\":15},\"zerolinecolor\":\"white\",\"zerolinewidth\":2}}},\"legend\":{\"tracegroupgap\":0,\"itemclick\":false},\"title\":{\"text\":\"Movies earnings based on the year release of the movie\"}},                        {\"responsive\": true}                    ).then(function(){\n",
       "                            \n",
       "var gd = document.getElementById('d62e2ce7-025a-42d7-93ea-f87392c38ec0');\n",
       "var x = new MutationObserver(function (mutations, observer) {{\n",
       "        var display = window.getComputedStyle(gd).display;\n",
       "        if (!display || display === 'none') {{\n",
       "            console.log([gd, 'removed!']);\n",
       "            Plotly.purge(gd);\n",
       "            observer.disconnect();\n",
       "        }}\n",
       "}});\n",
       "\n",
       "// Listen for the removal of the full notebook cells\n",
       "var notebookContainer = gd.closest('#notebook-container');\n",
       "if (notebookContainer) {{\n",
       "    x.observe(notebookContainer, {childList: true});\n",
       "}}\n",
       "\n",
       "// Listen for the clearing of the current output cell\n",
       "var outputEl = gd.closest('.output');\n",
       "if (outputEl) {{\n",
       "    x.observe(outputEl, {childList: true});\n",
       "}}\n",
       "\n",
       "                        })                };                });            </script>        </div>"
      ]
     },
     "metadata": {},
     "output_type": "display_data"
    }
   ],
   "source": [
    "fig = px.pie(dfb, values='earning_worldwide', names='year_released',title='Movies earnings worldwide  based on the year release of the movie', hole=0.2 )\n",
    "fig.update_traces(textinfo=\"text\", insidetextfont=dict(color=\"white\") )\n",
    "fig.update_layout(legend={\"itemclick\":False})\n",
    "\n",
    "fig.show()"
   ]
  },
  {
   "cell_type": "code",
   "execution_count": 390,
   "id": "9c668885",
   "metadata": {},
   "outputs": [
    {
     "data": {
      "application/vnd.plotly.v1+json": {
       "config": {
        "plotlyServerURL": "https://plot.ly"
       },
       "data": [
        {
         "customdata": [
          [
           "Film__1"
          ],
          [
           "Film__2"
          ],
          [
           "Film__3"
          ],
          [
           "Film__4"
          ],
          [
           "Film__5"
          ],
          [
           "Film__6"
          ],
          [
           "Film__7"
          ],
          [
           "Film__8"
          ],
          [
           "Film__9"
          ],
          [
           "Film__10"
          ],
          [
           "Film__11"
          ],
          [
           "Film__12"
          ],
          [
           "Film__13"
          ],
          [
           "Film__14"
          ],
          [
           "Film__15"
          ],
          [
           "Film__16"
          ],
          [
           "Film__17"
          ],
          [
           "Film__18"
          ],
          [
           "Film__19"
          ],
          [
           "Film__20"
          ],
          [
           "Film__21"
          ],
          [
           "Film__22"
          ]
         ],
         "domain": {
          "x": [
           0,
           1
          ],
          "y": [
           0,
           1
          ]
         },
         "hole": 0.2,
         "hovertemplate": "year_released=%{label}<br>earning_US&CA=%{value}<br>name=%{customdata[0]}<extra></extra>",
         "insidetextfont": {
          "color": "black"
         },
         "labels": [
          2001,
          2002,
          2003,
          2004,
          2005,
          2006,
          2007,
          2008,
          2009,
          2010,
          2011,
          2012,
          2013,
          2014,
          2015,
          2016,
          2017,
          2018,
          2019,
          2020,
          2021,
          2022
         ],
         "legendgroup": "",
         "marker": {
          "colors": [
           "#636efa",
           "#EF553B",
           "#00cc96",
           "#ab63fa",
           "#FFA15A",
           "#19d3f3",
           "#FF6692",
           "#B6E880",
           "#FF97FF",
           "#FECB52",
           "#636efa",
           "#EF553B",
           "#00cc96",
           "#ab63fa",
           "#FFA15A",
           "#19d3f3",
           "#FF6692",
           "#B6E880",
           "#FF97FF",
           "#FECB52",
           "#636efa",
           "#EF553B"
          ]
         },
         "name": "",
         "showlegend": true,
         "textinfo": "text",
         "type": "pie",
         "values": [
          50,
          100,
          150,
          200,
          250,
          300,
          350,
          400,
          450,
          500,
          550,
          600,
          650,
          700,
          750,
          800,
          850,
          900,
          950,
          1000,
          1050,
          1100
         ]
        }
       ],
       "layout": {
        "legend": {
         "itemclick": false,
         "tracegroupgap": 0
        },
        "template": {
         "data": {
          "bar": [
           {
            "error_x": {
             "color": "#2a3f5f"
            },
            "error_y": {
             "color": "#2a3f5f"
            },
            "marker": {
             "line": {
              "color": "#E5ECF6",
              "width": 0.5
             },
             "pattern": {
              "fillmode": "overlay",
              "size": 10,
              "solidity": 0.2
             }
            },
            "type": "bar"
           }
          ],
          "barpolar": [
           {
            "marker": {
             "line": {
              "color": "#E5ECF6",
              "width": 0.5
             },
             "pattern": {
              "fillmode": "overlay",
              "size": 10,
              "solidity": 0.2
             }
            },
            "type": "barpolar"
           }
          ],
          "carpet": [
           {
            "aaxis": {
             "endlinecolor": "#2a3f5f",
             "gridcolor": "white",
             "linecolor": "white",
             "minorgridcolor": "white",
             "startlinecolor": "#2a3f5f"
            },
            "baxis": {
             "endlinecolor": "#2a3f5f",
             "gridcolor": "white",
             "linecolor": "white",
             "minorgridcolor": "white",
             "startlinecolor": "#2a3f5f"
            },
            "type": "carpet"
           }
          ],
          "choropleth": [
           {
            "colorbar": {
             "outlinewidth": 0,
             "ticks": ""
            },
            "type": "choropleth"
           }
          ],
          "contour": [
           {
            "colorbar": {
             "outlinewidth": 0,
             "ticks": ""
            },
            "colorscale": [
             [
              0,
              "#0d0887"
             ],
             [
              0.1111111111111111,
              "#46039f"
             ],
             [
              0.2222222222222222,
              "#7201a8"
             ],
             [
              0.3333333333333333,
              "#9c179e"
             ],
             [
              0.4444444444444444,
              "#bd3786"
             ],
             [
              0.5555555555555556,
              "#d8576b"
             ],
             [
              0.6666666666666666,
              "#ed7953"
             ],
             [
              0.7777777777777778,
              "#fb9f3a"
             ],
             [
              0.8888888888888888,
              "#fdca26"
             ],
             [
              1,
              "#f0f921"
             ]
            ],
            "type": "contour"
           }
          ],
          "contourcarpet": [
           {
            "colorbar": {
             "outlinewidth": 0,
             "ticks": ""
            },
            "type": "contourcarpet"
           }
          ],
          "heatmap": [
           {
            "colorbar": {
             "outlinewidth": 0,
             "ticks": ""
            },
            "colorscale": [
             [
              0,
              "#0d0887"
             ],
             [
              0.1111111111111111,
              "#46039f"
             ],
             [
              0.2222222222222222,
              "#7201a8"
             ],
             [
              0.3333333333333333,
              "#9c179e"
             ],
             [
              0.4444444444444444,
              "#bd3786"
             ],
             [
              0.5555555555555556,
              "#d8576b"
             ],
             [
              0.6666666666666666,
              "#ed7953"
             ],
             [
              0.7777777777777778,
              "#fb9f3a"
             ],
             [
              0.8888888888888888,
              "#fdca26"
             ],
             [
              1,
              "#f0f921"
             ]
            ],
            "type": "heatmap"
           }
          ],
          "heatmapgl": [
           {
            "colorbar": {
             "outlinewidth": 0,
             "ticks": ""
            },
            "colorscale": [
             [
              0,
              "#0d0887"
             ],
             [
              0.1111111111111111,
              "#46039f"
             ],
             [
              0.2222222222222222,
              "#7201a8"
             ],
             [
              0.3333333333333333,
              "#9c179e"
             ],
             [
              0.4444444444444444,
              "#bd3786"
             ],
             [
              0.5555555555555556,
              "#d8576b"
             ],
             [
              0.6666666666666666,
              "#ed7953"
             ],
             [
              0.7777777777777778,
              "#fb9f3a"
             ],
             [
              0.8888888888888888,
              "#fdca26"
             ],
             [
              1,
              "#f0f921"
             ]
            ],
            "type": "heatmapgl"
           }
          ],
          "histogram": [
           {
            "marker": {
             "pattern": {
              "fillmode": "overlay",
              "size": 10,
              "solidity": 0.2
             }
            },
            "type": "histogram"
           }
          ],
          "histogram2d": [
           {
            "colorbar": {
             "outlinewidth": 0,
             "ticks": ""
            },
            "colorscale": [
             [
              0,
              "#0d0887"
             ],
             [
              0.1111111111111111,
              "#46039f"
             ],
             [
              0.2222222222222222,
              "#7201a8"
             ],
             [
              0.3333333333333333,
              "#9c179e"
             ],
             [
              0.4444444444444444,
              "#bd3786"
             ],
             [
              0.5555555555555556,
              "#d8576b"
             ],
             [
              0.6666666666666666,
              "#ed7953"
             ],
             [
              0.7777777777777778,
              "#fb9f3a"
             ],
             [
              0.8888888888888888,
              "#fdca26"
             ],
             [
              1,
              "#f0f921"
             ]
            ],
            "type": "histogram2d"
           }
          ],
          "histogram2dcontour": [
           {
            "colorbar": {
             "outlinewidth": 0,
             "ticks": ""
            },
            "colorscale": [
             [
              0,
              "#0d0887"
             ],
             [
              0.1111111111111111,
              "#46039f"
             ],
             [
              0.2222222222222222,
              "#7201a8"
             ],
             [
              0.3333333333333333,
              "#9c179e"
             ],
             [
              0.4444444444444444,
              "#bd3786"
             ],
             [
              0.5555555555555556,
              "#d8576b"
             ],
             [
              0.6666666666666666,
              "#ed7953"
             ],
             [
              0.7777777777777778,
              "#fb9f3a"
             ],
             [
              0.8888888888888888,
              "#fdca26"
             ],
             [
              1,
              "#f0f921"
             ]
            ],
            "type": "histogram2dcontour"
           }
          ],
          "mesh3d": [
           {
            "colorbar": {
             "outlinewidth": 0,
             "ticks": ""
            },
            "type": "mesh3d"
           }
          ],
          "parcoords": [
           {
            "line": {
             "colorbar": {
              "outlinewidth": 0,
              "ticks": ""
             }
            },
            "type": "parcoords"
           }
          ],
          "pie": [
           {
            "automargin": true,
            "type": "pie"
           }
          ],
          "scatter": [
           {
            "marker": {
             "colorbar": {
              "outlinewidth": 0,
              "ticks": ""
             }
            },
            "type": "scatter"
           }
          ],
          "scatter3d": [
           {
            "line": {
             "colorbar": {
              "outlinewidth": 0,
              "ticks": ""
             }
            },
            "marker": {
             "colorbar": {
              "outlinewidth": 0,
              "ticks": ""
             }
            },
            "type": "scatter3d"
           }
          ],
          "scattercarpet": [
           {
            "marker": {
             "colorbar": {
              "outlinewidth": 0,
              "ticks": ""
             }
            },
            "type": "scattercarpet"
           }
          ],
          "scattergeo": [
           {
            "marker": {
             "colorbar": {
              "outlinewidth": 0,
              "ticks": ""
             }
            },
            "type": "scattergeo"
           }
          ],
          "scattergl": [
           {
            "marker": {
             "colorbar": {
              "outlinewidth": 0,
              "ticks": ""
             }
            },
            "type": "scattergl"
           }
          ],
          "scattermapbox": [
           {
            "marker": {
             "colorbar": {
              "outlinewidth": 0,
              "ticks": ""
             }
            },
            "type": "scattermapbox"
           }
          ],
          "scatterpolar": [
           {
            "marker": {
             "colorbar": {
              "outlinewidth": 0,
              "ticks": ""
             }
            },
            "type": "scatterpolar"
           }
          ],
          "scatterpolargl": [
           {
            "marker": {
             "colorbar": {
              "outlinewidth": 0,
              "ticks": ""
             }
            },
            "type": "scatterpolargl"
           }
          ],
          "scatterternary": [
           {
            "marker": {
             "colorbar": {
              "outlinewidth": 0,
              "ticks": ""
             }
            },
            "type": "scatterternary"
           }
          ],
          "surface": [
           {
            "colorbar": {
             "outlinewidth": 0,
             "ticks": ""
            },
            "colorscale": [
             [
              0,
              "#0d0887"
             ],
             [
              0.1111111111111111,
              "#46039f"
             ],
             [
              0.2222222222222222,
              "#7201a8"
             ],
             [
              0.3333333333333333,
              "#9c179e"
             ],
             [
              0.4444444444444444,
              "#bd3786"
             ],
             [
              0.5555555555555556,
              "#d8576b"
             ],
             [
              0.6666666666666666,
              "#ed7953"
             ],
             [
              0.7777777777777778,
              "#fb9f3a"
             ],
             [
              0.8888888888888888,
              "#fdca26"
             ],
             [
              1,
              "#f0f921"
             ]
            ],
            "type": "surface"
           }
          ],
          "table": [
           {
            "cells": {
             "fill": {
              "color": "#EBF0F8"
             },
             "line": {
              "color": "white"
             }
            },
            "header": {
             "fill": {
              "color": "#C8D4E3"
             },
             "line": {
              "color": "white"
             }
            },
            "type": "table"
           }
          ]
         },
         "layout": {
          "annotationdefaults": {
           "arrowcolor": "#2a3f5f",
           "arrowhead": 0,
           "arrowwidth": 1
          },
          "autotypenumbers": "strict",
          "coloraxis": {
           "colorbar": {
            "outlinewidth": 0,
            "ticks": ""
           }
          },
          "colorscale": {
           "diverging": [
            [
             0,
             "#8e0152"
            ],
            [
             0.1,
             "#c51b7d"
            ],
            [
             0.2,
             "#de77ae"
            ],
            [
             0.3,
             "#f1b6da"
            ],
            [
             0.4,
             "#fde0ef"
            ],
            [
             0.5,
             "#f7f7f7"
            ],
            [
             0.6,
             "#e6f5d0"
            ],
            [
             0.7,
             "#b8e186"
            ],
            [
             0.8,
             "#7fbc41"
            ],
            [
             0.9,
             "#4d9221"
            ],
            [
             1,
             "#276419"
            ]
           ],
           "sequential": [
            [
             0,
             "#0d0887"
            ],
            [
             0.1111111111111111,
             "#46039f"
            ],
            [
             0.2222222222222222,
             "#7201a8"
            ],
            [
             0.3333333333333333,
             "#9c179e"
            ],
            [
             0.4444444444444444,
             "#bd3786"
            ],
            [
             0.5555555555555556,
             "#d8576b"
            ],
            [
             0.6666666666666666,
             "#ed7953"
            ],
            [
             0.7777777777777778,
             "#fb9f3a"
            ],
            [
             0.8888888888888888,
             "#fdca26"
            ],
            [
             1,
             "#f0f921"
            ]
           ],
           "sequentialminus": [
            [
             0,
             "#0d0887"
            ],
            [
             0.1111111111111111,
             "#46039f"
            ],
            [
             0.2222222222222222,
             "#7201a8"
            ],
            [
             0.3333333333333333,
             "#9c179e"
            ],
            [
             0.4444444444444444,
             "#bd3786"
            ],
            [
             0.5555555555555556,
             "#d8576b"
            ],
            [
             0.6666666666666666,
             "#ed7953"
            ],
            [
             0.7777777777777778,
             "#fb9f3a"
            ],
            [
             0.8888888888888888,
             "#fdca26"
            ],
            [
             1,
             "#f0f921"
            ]
           ]
          },
          "colorway": [
           "#636efa",
           "#EF553B",
           "#00cc96",
           "#ab63fa",
           "#FFA15A",
           "#19d3f3",
           "#FF6692",
           "#B6E880",
           "#FF97FF",
           "#FECB52"
          ],
          "font": {
           "color": "#2a3f5f"
          },
          "geo": {
           "bgcolor": "white",
           "lakecolor": "white",
           "landcolor": "#E5ECF6",
           "showlakes": true,
           "showland": true,
           "subunitcolor": "white"
          },
          "hoverlabel": {
           "align": "left"
          },
          "hovermode": "closest",
          "mapbox": {
           "style": "light"
          },
          "paper_bgcolor": "white",
          "plot_bgcolor": "#E5ECF6",
          "polar": {
           "angularaxis": {
            "gridcolor": "white",
            "linecolor": "white",
            "ticks": ""
           },
           "bgcolor": "#E5ECF6",
           "radialaxis": {
            "gridcolor": "white",
            "linecolor": "white",
            "ticks": ""
           }
          },
          "scene": {
           "xaxis": {
            "backgroundcolor": "#E5ECF6",
            "gridcolor": "white",
            "gridwidth": 2,
            "linecolor": "white",
            "showbackground": true,
            "ticks": "",
            "zerolinecolor": "white"
           },
           "yaxis": {
            "backgroundcolor": "#E5ECF6",
            "gridcolor": "white",
            "gridwidth": 2,
            "linecolor": "white",
            "showbackground": true,
            "ticks": "",
            "zerolinecolor": "white"
           },
           "zaxis": {
            "backgroundcolor": "#E5ECF6",
            "gridcolor": "white",
            "gridwidth": 2,
            "linecolor": "white",
            "showbackground": true,
            "ticks": "",
            "zerolinecolor": "white"
           }
          },
          "shapedefaults": {
           "line": {
            "color": "#2a3f5f"
           }
          },
          "ternary": {
           "aaxis": {
            "gridcolor": "white",
            "linecolor": "white",
            "ticks": ""
           },
           "baxis": {
            "gridcolor": "white",
            "linecolor": "white",
            "ticks": ""
           },
           "bgcolor": "#E5ECF6",
           "caxis": {
            "gridcolor": "white",
            "linecolor": "white",
            "ticks": ""
           }
          },
          "title": {
           "x": 0.05
          },
          "xaxis": {
           "automargin": true,
           "gridcolor": "white",
           "linecolor": "white",
           "ticks": "",
           "title": {
            "standoff": 15
           },
           "zerolinecolor": "white",
           "zerolinewidth": 2
          },
          "yaxis": {
           "automargin": true,
           "gridcolor": "white",
           "linecolor": "white",
           "ticks": "",
           "title": {
            "standoff": 15
           },
           "zerolinecolor": "white",
           "zerolinewidth": 2
          }
         }
        },
        "title": {
         "text": "Movies earnings in US and CA based on the year release of the movie"
        }
       }
      },
      "text/html": [
       "<div>                            <div id=\"9f47fb81-a9fb-4744-9e63-e3efea5f1ee3\" class=\"plotly-graph-div\" style=\"height:525px; width:100%;\"></div>            <script type=\"text/javascript\">                require([\"plotly\"], function(Plotly) {                    window.PLOTLYENV=window.PLOTLYENV || {};                                    if (document.getElementById(\"9f47fb81-a9fb-4744-9e63-e3efea5f1ee3\")) {                    Plotly.newPlot(                        \"9f47fb81-a9fb-4744-9e63-e3efea5f1ee3\",                        [{\"customdata\":[[\"Film__1\"],[\"Film__2\"],[\"Film__3\"],[\"Film__4\"],[\"Film__5\"],[\"Film__6\"],[\"Film__7\"],[\"Film__8\"],[\"Film__9\"],[\"Film__10\"],[\"Film__11\"],[\"Film__12\"],[\"Film__13\"],[\"Film__14\"],[\"Film__15\"],[\"Film__16\"],[\"Film__17\"],[\"Film__18\"],[\"Film__19\"],[\"Film__20\"],[\"Film__21\"],[\"Film__22\"]],\"domain\":{\"x\":[0.0,1.0],\"y\":[0.0,1.0]},\"hole\":0.2,\"hovertemplate\":\"year_released=%{label}<br>earning_US&CA=%{value}<br>name=%{customdata[0]}<extra></extra>\",\"labels\":[2001,2002,2003,2004,2005,2006,2007,2008,2009,2010,2011,2012,2013,2014,2015,2016,2017,2018,2019,2020,2021,2022],\"legendgroup\":\"\",\"marker\":{\"colors\":[\"#636efa\",\"#EF553B\",\"#00cc96\",\"#ab63fa\",\"#FFA15A\",\"#19d3f3\",\"#FF6692\",\"#B6E880\",\"#FF97FF\",\"#FECB52\",\"#636efa\",\"#EF553B\",\"#00cc96\",\"#ab63fa\",\"#FFA15A\",\"#19d3f3\",\"#FF6692\",\"#B6E880\",\"#FF97FF\",\"#FECB52\",\"#636efa\",\"#EF553B\"]},\"name\":\"\",\"showlegend\":true,\"values\":[50,100,150,200,250,300,350,400,450,500,550,600,650,700,750,800,850,900,950,1000,1050,1100],\"type\":\"pie\",\"insidetextfont\":{\"color\":\"black\"},\"textinfo\":\"text\"}],                        {\"template\":{\"data\":{\"bar\":[{\"error_x\":{\"color\":\"#2a3f5f\"},\"error_y\":{\"color\":\"#2a3f5f\"},\"marker\":{\"line\":{\"color\":\"#E5ECF6\",\"width\":0.5},\"pattern\":{\"fillmode\":\"overlay\",\"size\":10,\"solidity\":0.2}},\"type\":\"bar\"}],\"barpolar\":[{\"marker\":{\"line\":{\"color\":\"#E5ECF6\",\"width\":0.5},\"pattern\":{\"fillmode\":\"overlay\",\"size\":10,\"solidity\":0.2}},\"type\":\"barpolar\"}],\"carpet\":[{\"aaxis\":{\"endlinecolor\":\"#2a3f5f\",\"gridcolor\":\"white\",\"linecolor\":\"white\",\"minorgridcolor\":\"white\",\"startlinecolor\":\"#2a3f5f\"},\"baxis\":{\"endlinecolor\":\"#2a3f5f\",\"gridcolor\":\"white\",\"linecolor\":\"white\",\"minorgridcolor\":\"white\",\"startlinecolor\":\"#2a3f5f\"},\"type\":\"carpet\"}],\"choropleth\":[{\"colorbar\":{\"outlinewidth\":0,\"ticks\":\"\"},\"type\":\"choropleth\"}],\"contour\":[{\"colorbar\":{\"outlinewidth\":0,\"ticks\":\"\"},\"colorscale\":[[0.0,\"#0d0887\"],[0.1111111111111111,\"#46039f\"],[0.2222222222222222,\"#7201a8\"],[0.3333333333333333,\"#9c179e\"],[0.4444444444444444,\"#bd3786\"],[0.5555555555555556,\"#d8576b\"],[0.6666666666666666,\"#ed7953\"],[0.7777777777777778,\"#fb9f3a\"],[0.8888888888888888,\"#fdca26\"],[1.0,\"#f0f921\"]],\"type\":\"contour\"}],\"contourcarpet\":[{\"colorbar\":{\"outlinewidth\":0,\"ticks\":\"\"},\"type\":\"contourcarpet\"}],\"heatmap\":[{\"colorbar\":{\"outlinewidth\":0,\"ticks\":\"\"},\"colorscale\":[[0.0,\"#0d0887\"],[0.1111111111111111,\"#46039f\"],[0.2222222222222222,\"#7201a8\"],[0.3333333333333333,\"#9c179e\"],[0.4444444444444444,\"#bd3786\"],[0.5555555555555556,\"#d8576b\"],[0.6666666666666666,\"#ed7953\"],[0.7777777777777778,\"#fb9f3a\"],[0.8888888888888888,\"#fdca26\"],[1.0,\"#f0f921\"]],\"type\":\"heatmap\"}],\"heatmapgl\":[{\"colorbar\":{\"outlinewidth\":0,\"ticks\":\"\"},\"colorscale\":[[0.0,\"#0d0887\"],[0.1111111111111111,\"#46039f\"],[0.2222222222222222,\"#7201a8\"],[0.3333333333333333,\"#9c179e\"],[0.4444444444444444,\"#bd3786\"],[0.5555555555555556,\"#d8576b\"],[0.6666666666666666,\"#ed7953\"],[0.7777777777777778,\"#fb9f3a\"],[0.8888888888888888,\"#fdca26\"],[1.0,\"#f0f921\"]],\"type\":\"heatmapgl\"}],\"histogram\":[{\"marker\":{\"pattern\":{\"fillmode\":\"overlay\",\"size\":10,\"solidity\":0.2}},\"type\":\"histogram\"}],\"histogram2d\":[{\"colorbar\":{\"outlinewidth\":0,\"ticks\":\"\"},\"colorscale\":[[0.0,\"#0d0887\"],[0.1111111111111111,\"#46039f\"],[0.2222222222222222,\"#7201a8\"],[0.3333333333333333,\"#9c179e\"],[0.4444444444444444,\"#bd3786\"],[0.5555555555555556,\"#d8576b\"],[0.6666666666666666,\"#ed7953\"],[0.7777777777777778,\"#fb9f3a\"],[0.8888888888888888,\"#fdca26\"],[1.0,\"#f0f921\"]],\"type\":\"histogram2d\"}],\"histogram2dcontour\":[{\"colorbar\":{\"outlinewidth\":0,\"ticks\":\"\"},\"colorscale\":[[0.0,\"#0d0887\"],[0.1111111111111111,\"#46039f\"],[0.2222222222222222,\"#7201a8\"],[0.3333333333333333,\"#9c179e\"],[0.4444444444444444,\"#bd3786\"],[0.5555555555555556,\"#d8576b\"],[0.6666666666666666,\"#ed7953\"],[0.7777777777777778,\"#fb9f3a\"],[0.8888888888888888,\"#fdca26\"],[1.0,\"#f0f921\"]],\"type\":\"histogram2dcontour\"}],\"mesh3d\":[{\"colorbar\":{\"outlinewidth\":0,\"ticks\":\"\"},\"type\":\"mesh3d\"}],\"parcoords\":[{\"line\":{\"colorbar\":{\"outlinewidth\":0,\"ticks\":\"\"}},\"type\":\"parcoords\"}],\"pie\":[{\"automargin\":true,\"type\":\"pie\"}],\"scatter\":[{\"marker\":{\"colorbar\":{\"outlinewidth\":0,\"ticks\":\"\"}},\"type\":\"scatter\"}],\"scatter3d\":[{\"line\":{\"colorbar\":{\"outlinewidth\":0,\"ticks\":\"\"}},\"marker\":{\"colorbar\":{\"outlinewidth\":0,\"ticks\":\"\"}},\"type\":\"scatter3d\"}],\"scattercarpet\":[{\"marker\":{\"colorbar\":{\"outlinewidth\":0,\"ticks\":\"\"}},\"type\":\"scattercarpet\"}],\"scattergeo\":[{\"marker\":{\"colorbar\":{\"outlinewidth\":0,\"ticks\":\"\"}},\"type\":\"scattergeo\"}],\"scattergl\":[{\"marker\":{\"colorbar\":{\"outlinewidth\":0,\"ticks\":\"\"}},\"type\":\"scattergl\"}],\"scattermapbox\":[{\"marker\":{\"colorbar\":{\"outlinewidth\":0,\"ticks\":\"\"}},\"type\":\"scattermapbox\"}],\"scatterpolar\":[{\"marker\":{\"colorbar\":{\"outlinewidth\":0,\"ticks\":\"\"}},\"type\":\"scatterpolar\"}],\"scatterpolargl\":[{\"marker\":{\"colorbar\":{\"outlinewidth\":0,\"ticks\":\"\"}},\"type\":\"scatterpolargl\"}],\"scatterternary\":[{\"marker\":{\"colorbar\":{\"outlinewidth\":0,\"ticks\":\"\"}},\"type\":\"scatterternary\"}],\"surface\":[{\"colorbar\":{\"outlinewidth\":0,\"ticks\":\"\"},\"colorscale\":[[0.0,\"#0d0887\"],[0.1111111111111111,\"#46039f\"],[0.2222222222222222,\"#7201a8\"],[0.3333333333333333,\"#9c179e\"],[0.4444444444444444,\"#bd3786\"],[0.5555555555555556,\"#d8576b\"],[0.6666666666666666,\"#ed7953\"],[0.7777777777777778,\"#fb9f3a\"],[0.8888888888888888,\"#fdca26\"],[1.0,\"#f0f921\"]],\"type\":\"surface\"}],\"table\":[{\"cells\":{\"fill\":{\"color\":\"#EBF0F8\"},\"line\":{\"color\":\"white\"}},\"header\":{\"fill\":{\"color\":\"#C8D4E3\"},\"line\":{\"color\":\"white\"}},\"type\":\"table\"}]},\"layout\":{\"annotationdefaults\":{\"arrowcolor\":\"#2a3f5f\",\"arrowhead\":0,\"arrowwidth\":1},\"autotypenumbers\":\"strict\",\"coloraxis\":{\"colorbar\":{\"outlinewidth\":0,\"ticks\":\"\"}},\"colorscale\":{\"diverging\":[[0,\"#8e0152\"],[0.1,\"#c51b7d\"],[0.2,\"#de77ae\"],[0.3,\"#f1b6da\"],[0.4,\"#fde0ef\"],[0.5,\"#f7f7f7\"],[0.6,\"#e6f5d0\"],[0.7,\"#b8e186\"],[0.8,\"#7fbc41\"],[0.9,\"#4d9221\"],[1,\"#276419\"]],\"sequential\":[[0.0,\"#0d0887\"],[0.1111111111111111,\"#46039f\"],[0.2222222222222222,\"#7201a8\"],[0.3333333333333333,\"#9c179e\"],[0.4444444444444444,\"#bd3786\"],[0.5555555555555556,\"#d8576b\"],[0.6666666666666666,\"#ed7953\"],[0.7777777777777778,\"#fb9f3a\"],[0.8888888888888888,\"#fdca26\"],[1.0,\"#f0f921\"]],\"sequentialminus\":[[0.0,\"#0d0887\"],[0.1111111111111111,\"#46039f\"],[0.2222222222222222,\"#7201a8\"],[0.3333333333333333,\"#9c179e\"],[0.4444444444444444,\"#bd3786\"],[0.5555555555555556,\"#d8576b\"],[0.6666666666666666,\"#ed7953\"],[0.7777777777777778,\"#fb9f3a\"],[0.8888888888888888,\"#fdca26\"],[1.0,\"#f0f921\"]]},\"colorway\":[\"#636efa\",\"#EF553B\",\"#00cc96\",\"#ab63fa\",\"#FFA15A\",\"#19d3f3\",\"#FF6692\",\"#B6E880\",\"#FF97FF\",\"#FECB52\"],\"font\":{\"color\":\"#2a3f5f\"},\"geo\":{\"bgcolor\":\"white\",\"lakecolor\":\"white\",\"landcolor\":\"#E5ECF6\",\"showlakes\":true,\"showland\":true,\"subunitcolor\":\"white\"},\"hoverlabel\":{\"align\":\"left\"},\"hovermode\":\"closest\",\"mapbox\":{\"style\":\"light\"},\"paper_bgcolor\":\"white\",\"plot_bgcolor\":\"#E5ECF6\",\"polar\":{\"angularaxis\":{\"gridcolor\":\"white\",\"linecolor\":\"white\",\"ticks\":\"\"},\"bgcolor\":\"#E5ECF6\",\"radialaxis\":{\"gridcolor\":\"white\",\"linecolor\":\"white\",\"ticks\":\"\"}},\"scene\":{\"xaxis\":{\"backgroundcolor\":\"#E5ECF6\",\"gridcolor\":\"white\",\"gridwidth\":2,\"linecolor\":\"white\",\"showbackground\":true,\"ticks\":\"\",\"zerolinecolor\":\"white\"},\"yaxis\":{\"backgroundcolor\":\"#E5ECF6\",\"gridcolor\":\"white\",\"gridwidth\":2,\"linecolor\":\"white\",\"showbackground\":true,\"ticks\":\"\",\"zerolinecolor\":\"white\"},\"zaxis\":{\"backgroundcolor\":\"#E5ECF6\",\"gridcolor\":\"white\",\"gridwidth\":2,\"linecolor\":\"white\",\"showbackground\":true,\"ticks\":\"\",\"zerolinecolor\":\"white\"}},\"shapedefaults\":{\"line\":{\"color\":\"#2a3f5f\"}},\"ternary\":{\"aaxis\":{\"gridcolor\":\"white\",\"linecolor\":\"white\",\"ticks\":\"\"},\"baxis\":{\"gridcolor\":\"white\",\"linecolor\":\"white\",\"ticks\":\"\"},\"bgcolor\":\"#E5ECF6\",\"caxis\":{\"gridcolor\":\"white\",\"linecolor\":\"white\",\"ticks\":\"\"}},\"title\":{\"x\":0.05},\"xaxis\":{\"automargin\":true,\"gridcolor\":\"white\",\"linecolor\":\"white\",\"ticks\":\"\",\"title\":{\"standoff\":15},\"zerolinecolor\":\"white\",\"zerolinewidth\":2},\"yaxis\":{\"automargin\":true,\"gridcolor\":\"white\",\"linecolor\":\"white\",\"ticks\":\"\",\"title\":{\"standoff\":15},\"zerolinecolor\":\"white\",\"zerolinewidth\":2}}},\"legend\":{\"tracegroupgap\":0,\"itemclick\":false},\"title\":{\"text\":\"Movies earnings in US and CA based on the year release of the movie\"}},                        {\"responsive\": true}                    ).then(function(){\n",
       "                            \n",
       "var gd = document.getElementById('9f47fb81-a9fb-4744-9e63-e3efea5f1ee3');\n",
       "var x = new MutationObserver(function (mutations, observer) {{\n",
       "        var display = window.getComputedStyle(gd).display;\n",
       "        if (!display || display === 'none') {{\n",
       "            console.log([gd, 'removed!']);\n",
       "            Plotly.purge(gd);\n",
       "            observer.disconnect();\n",
       "        }}\n",
       "}});\n",
       "\n",
       "// Listen for the removal of the full notebook cells\n",
       "var notebookContainer = gd.closest('#notebook-container');\n",
       "if (notebookContainer) {{\n",
       "    x.observe(notebookContainer, {childList: true});\n",
       "}}\n",
       "\n",
       "// Listen for the clearing of the current output cell\n",
       "var outputEl = gd.closest('.output');\n",
       "if (outputEl) {{\n",
       "    x.observe(outputEl, {childList: true});\n",
       "}}\n",
       "\n",
       "                        })                };                });            </script>        </div>"
      ]
     },
     "metadata": {},
     "output_type": "display_data"
    }
   ],
   "source": [
    "fig = px.pie(dfb, values='earning_US&CA', names='year_released',color= 'name', title='Movie earnings in US and CA based on the year release of the movie', hole=0.2 )\n",
    "fig.update_traces(textinfo=\"text\", insidetextfont=dict(color=\"black\") )\n",
    "fig.update_layout(legend={\"itemclick\":False})\n",
    "\n",
    "fig.show()"
   ]
  },
  {
   "cell_type": "code",
   "execution_count": 400,
   "id": "b389a47d",
   "metadata": {},
   "outputs": [
    {
     "data": {
      "application/vnd.plotly.v1+json": {
       "config": {
        "plotlyServerURL": "https://plot.ly"
       },
       "data": [
        {
         "alignmentgroup": "True",
         "hovertemplate": "name=Film__1<br>Year release=%{x}<br> IMDB rating=%{y}<extra></extra>",
         "legendgroup": "Film__1",
         "marker": {
          "color": "#1F77B4",
          "opacity": 0.9,
          "pattern": {
           "shape": ""
          }
         },
         "name": "Film__1",
         "offsetgroup": "Film__1",
         "orientation": "v",
         "showlegend": true,
         "textposition": "auto",
         "type": "bar",
         "x": [
          2001
         ],
         "xaxis": "x",
         "y": [
          0.5
         ],
         "yaxis": "y"
        },
        {
         "alignmentgroup": "True",
         "hovertemplate": "name=Film__2<br>Year release=%{x}<br> IMDB rating=%{y}<extra></extra>",
         "legendgroup": "Film__2",
         "marker": {
          "color": "#FF7F0E",
          "opacity": 0.9,
          "pattern": {
           "shape": ""
          }
         },
         "name": "Film__2",
         "offsetgroup": "Film__2",
         "orientation": "v",
         "showlegend": true,
         "textposition": "auto",
         "type": "bar",
         "x": [
          2002
         ],
         "xaxis": "x",
         "y": [
          0.6666666666666666
         ],
         "yaxis": "y"
        },
        {
         "alignmentgroup": "True",
         "hovertemplate": "name=Film__3<br>Year release=%{x}<br> IMDB rating=%{y}<extra></extra>",
         "legendgroup": "Film__3",
         "marker": {
          "color": "#2CA02C",
          "opacity": 0.9,
          "pattern": {
           "shape": ""
          }
         },
         "name": "Film__3",
         "offsetgroup": "Film__3",
         "orientation": "v",
         "showlegend": true,
         "textposition": "auto",
         "type": "bar",
         "x": [
          2003
         ],
         "xaxis": "x",
         "y": [
          0.75
         ],
         "yaxis": "y"
        },
        {
         "alignmentgroup": "True",
         "hovertemplate": "name=Film__4<br>Year release=%{x}<br> IMDB rating=%{y}<extra></extra>",
         "legendgroup": "Film__4",
         "marker": {
          "color": "#D62728",
          "opacity": 0.9,
          "pattern": {
           "shape": ""
          }
         },
         "name": "Film__4",
         "offsetgroup": "Film__4",
         "orientation": "v",
         "showlegend": true,
         "textposition": "auto",
         "type": "bar",
         "x": [
          2004
         ],
         "xaxis": "x",
         "y": [
          0.8
         ],
         "yaxis": "y"
        },
        {
         "alignmentgroup": "True",
         "hovertemplate": "name=Film__5<br>Year release=%{x}<br> IMDB rating=%{y}<extra></extra>",
         "legendgroup": "Film__5",
         "marker": {
          "color": "#9467BD",
          "opacity": 0.9,
          "pattern": {
           "shape": ""
          }
         },
         "name": "Film__5",
         "offsetgroup": "Film__5",
         "orientation": "v",
         "showlegend": true,
         "textposition": "auto",
         "type": "bar",
         "x": [
          2005
         ],
         "xaxis": "x",
         "y": [
          0.8333333333333334
         ],
         "yaxis": "y"
        },
        {
         "alignmentgroup": "True",
         "hovertemplate": "name=Film__6<br>Year release=%{x}<br> IMDB rating=%{y}<extra></extra>",
         "legendgroup": "Film__6",
         "marker": {
          "color": "#8C564B",
          "opacity": 0.9,
          "pattern": {
           "shape": ""
          }
         },
         "name": "Film__6",
         "offsetgroup": "Film__6",
         "orientation": "v",
         "showlegend": true,
         "textposition": "auto",
         "type": "bar",
         "x": [
          2006
         ],
         "xaxis": "x",
         "y": [
          0.8571428571428571
         ],
         "yaxis": "y"
        },
        {
         "alignmentgroup": "True",
         "hovertemplate": "name=Film__7<br>Year release=%{x}<br> IMDB rating=%{y}<extra></extra>",
         "legendgroup": "Film__7",
         "marker": {
          "color": "#E377C2",
          "opacity": 0.9,
          "pattern": {
           "shape": ""
          }
         },
         "name": "Film__7",
         "offsetgroup": "Film__7",
         "orientation": "v",
         "showlegend": true,
         "textposition": "auto",
         "type": "bar",
         "x": [
          2007
         ],
         "xaxis": "x",
         "y": [
          0.875
         ],
         "yaxis": "y"
        },
        {
         "alignmentgroup": "True",
         "hovertemplate": "name=Film__8<br>Year release=%{x}<br> IMDB rating=%{y}<extra></extra>",
         "legendgroup": "Film__8",
         "marker": {
          "color": "#7F7F7F",
          "opacity": 0.9,
          "pattern": {
           "shape": ""
          }
         },
         "name": "Film__8",
         "offsetgroup": "Film__8",
         "orientation": "v",
         "showlegend": true,
         "textposition": "auto",
         "type": "bar",
         "x": [
          2008
         ],
         "xaxis": "x",
         "y": [
          0.8888888888888888
         ],
         "yaxis": "y"
        },
        {
         "alignmentgroup": "True",
         "hovertemplate": "name=Film__9<br>Year release=%{x}<br> IMDB rating=%{y}<extra></extra>",
         "legendgroup": "Film__9",
         "marker": {
          "color": "#BCBD22",
          "opacity": 0.9,
          "pattern": {
           "shape": ""
          }
         },
         "name": "Film__9",
         "offsetgroup": "Film__9",
         "orientation": "v",
         "showlegend": true,
         "textposition": "auto",
         "type": "bar",
         "x": [
          2009
         ],
         "xaxis": "x",
         "y": [
          0.9
         ],
         "yaxis": "y"
        },
        {
         "alignmentgroup": "True",
         "hovertemplate": "name=Film__10<br>Year release=%{x}<br> IMDB rating=%{y}<extra></extra>",
         "legendgroup": "Film__10",
         "marker": {
          "color": "#17BECF",
          "opacity": 0.9,
          "pattern": {
           "shape": ""
          }
         },
         "name": "Film__10",
         "offsetgroup": "Film__10",
         "orientation": "v",
         "showlegend": true,
         "textposition": "auto",
         "type": "bar",
         "x": [
          2010
         ],
         "xaxis": "x",
         "y": [
          0.9090909090909091
         ],
         "yaxis": "y"
        },
        {
         "alignmentgroup": "True",
         "hovertemplate": "name=Film__11<br>Year release=%{x}<br> IMDB rating=%{y}<extra></extra>",
         "legendgroup": "Film__11",
         "marker": {
          "color": "#1F77B4",
          "opacity": 0.9,
          "pattern": {
           "shape": ""
          }
         },
         "name": "Film__11",
         "offsetgroup": "Film__11",
         "orientation": "v",
         "showlegend": true,
         "textposition": "auto",
         "type": "bar",
         "x": [
          2011
         ],
         "xaxis": "x",
         "y": [
          0.9166666666666666
         ],
         "yaxis": "y"
        },
        {
         "alignmentgroup": "True",
         "hovertemplate": "name=Film__12<br>Year release=%{x}<br> IMDB rating=%{y}<extra></extra>",
         "legendgroup": "Film__12",
         "marker": {
          "color": "#FF7F0E",
          "opacity": 0.9,
          "pattern": {
           "shape": ""
          }
         },
         "name": "Film__12",
         "offsetgroup": "Film__12",
         "orientation": "v",
         "showlegend": true,
         "textposition": "auto",
         "type": "bar",
         "x": [
          2012
         ],
         "xaxis": "x",
         "y": [
          0.9230769230769231
         ],
         "yaxis": "y"
        },
        {
         "alignmentgroup": "True",
         "hovertemplate": "name=Film__13<br>Year release=%{x}<br> IMDB rating=%{y}<extra></extra>",
         "legendgroup": "Film__13",
         "marker": {
          "color": "#2CA02C",
          "opacity": 0.9,
          "pattern": {
           "shape": ""
          }
         },
         "name": "Film__13",
         "offsetgroup": "Film__13",
         "orientation": "v",
         "showlegend": true,
         "textposition": "auto",
         "type": "bar",
         "x": [
          2013
         ],
         "xaxis": "x",
         "y": [
          0.9285714285714286
         ],
         "yaxis": "y"
        },
        {
         "alignmentgroup": "True",
         "hovertemplate": "name=Film__14<br>Year release=%{x}<br> IMDB rating=%{y}<extra></extra>",
         "legendgroup": "Film__14",
         "marker": {
          "color": "#D62728",
          "opacity": 0.9,
          "pattern": {
           "shape": ""
          }
         },
         "name": "Film__14",
         "offsetgroup": "Film__14",
         "orientation": "v",
         "showlegend": true,
         "textposition": "auto",
         "type": "bar",
         "x": [
          2014
         ],
         "xaxis": "x",
         "y": [
          0.9333333333333333
         ],
         "yaxis": "y"
        },
        {
         "alignmentgroup": "True",
         "hovertemplate": "name=Film__15<br>Year release=%{x}<br> IMDB rating=%{y}<extra></extra>",
         "legendgroup": "Film__15",
         "marker": {
          "color": "#9467BD",
          "opacity": 0.9,
          "pattern": {
           "shape": ""
          }
         },
         "name": "Film__15",
         "offsetgroup": "Film__15",
         "orientation": "v",
         "showlegend": true,
         "textposition": "auto",
         "type": "bar",
         "x": [
          2015
         ],
         "xaxis": "x",
         "y": [
          0.9375
         ],
         "yaxis": "y"
        },
        {
         "alignmentgroup": "True",
         "hovertemplate": "name=Film__16<br>Year release=%{x}<br> IMDB rating=%{y}<extra></extra>",
         "legendgroup": "Film__16",
         "marker": {
          "color": "#8C564B",
          "opacity": 0.9,
          "pattern": {
           "shape": ""
          }
         },
         "name": "Film__16",
         "offsetgroup": "Film__16",
         "orientation": "v",
         "showlegend": true,
         "textposition": "auto",
         "type": "bar",
         "x": [
          2016
         ],
         "xaxis": "x",
         "y": [
          0.9411764705882353
         ],
         "yaxis": "y"
        },
        {
         "alignmentgroup": "True",
         "hovertemplate": "name=Film__17<br>Year release=%{x}<br> IMDB rating=%{y}<extra></extra>",
         "legendgroup": "Film__17",
         "marker": {
          "color": "#E377C2",
          "opacity": 0.9,
          "pattern": {
           "shape": ""
          }
         },
         "name": "Film__17",
         "offsetgroup": "Film__17",
         "orientation": "v",
         "showlegend": true,
         "textposition": "auto",
         "type": "bar",
         "x": [
          2017
         ],
         "xaxis": "x",
         "y": [
          0.9444444444444444
         ],
         "yaxis": "y"
        },
        {
         "alignmentgroup": "True",
         "hovertemplate": "name=Film__18<br>Year release=%{x}<br> IMDB rating=%{y}<extra></extra>",
         "legendgroup": "Film__18",
         "marker": {
          "color": "#7F7F7F",
          "opacity": 0.9,
          "pattern": {
           "shape": ""
          }
         },
         "name": "Film__18",
         "offsetgroup": "Film__18",
         "orientation": "v",
         "showlegend": true,
         "textposition": "auto",
         "type": "bar",
         "x": [
          2018
         ],
         "xaxis": "x",
         "y": [
          0.9473684210526315
         ],
         "yaxis": "y"
        },
        {
         "alignmentgroup": "True",
         "hovertemplate": "name=Film__19<br>Year release=%{x}<br> IMDB rating=%{y}<extra></extra>",
         "legendgroup": "Film__19",
         "marker": {
          "color": "#BCBD22",
          "opacity": 0.9,
          "pattern": {
           "shape": ""
          }
         },
         "name": "Film__19",
         "offsetgroup": "Film__19",
         "orientation": "v",
         "showlegend": true,
         "textposition": "auto",
         "type": "bar",
         "x": [
          2019
         ],
         "xaxis": "x",
         "y": [
          0.95
         ],
         "yaxis": "y"
        },
        {
         "alignmentgroup": "True",
         "hovertemplate": "name=Film__20<br>Year release=%{x}<br> IMDB rating=%{y}<extra></extra>",
         "legendgroup": "Film__20",
         "marker": {
          "color": "#17BECF",
          "opacity": 0.9,
          "pattern": {
           "shape": ""
          }
         },
         "name": "Film__20",
         "offsetgroup": "Film__20",
         "orientation": "v",
         "showlegend": true,
         "textposition": "auto",
         "type": "bar",
         "x": [
          2020
         ],
         "xaxis": "x",
         "y": [
          0.9523809523809523
         ],
         "yaxis": "y"
        },
        {
         "alignmentgroup": "True",
         "hovertemplate": "name=Film__21<br>Year release=%{x}<br> IMDB rating=%{y}<extra></extra>",
         "legendgroup": "Film__21",
         "marker": {
          "color": "#1F77B4",
          "opacity": 0.9,
          "pattern": {
           "shape": ""
          }
         },
         "name": "Film__21",
         "offsetgroup": "Film__21",
         "orientation": "v",
         "showlegend": true,
         "textposition": "auto",
         "type": "bar",
         "x": [
          2021
         ],
         "xaxis": "x",
         "y": [
          0.9545454545454546
         ],
         "yaxis": "y"
        },
        {
         "alignmentgroup": "True",
         "hovertemplate": "name=Film__22<br>Year release=%{x}<br> IMDB rating=%{y}<extra></extra>",
         "legendgroup": "Film__22",
         "marker": {
          "color": "#FF7F0E",
          "opacity": 0.9,
          "pattern": {
           "shape": ""
          }
         },
         "name": "Film__22",
         "offsetgroup": "Film__22",
         "orientation": "v",
         "showlegend": true,
         "textposition": "auto",
         "type": "bar",
         "x": [
          2022
         ],
         "xaxis": "x",
         "y": [
          0.9565217391304348
         ],
         "yaxis": "y"
        }
       ],
       "layout": {
        "barmode": "relative",
        "height": 720,
        "legend": {
         "title": {
          "text": "name"
         },
         "tracegroupgap": 0
        },
        "template": {
         "data": {
          "pie": [
           {
            "automargin": true,
            "type": "pie"
           }
          ]
         },
         "layout": {
          "xaxis": {
           "showgrid": true,
           "title": {
            "standoff": 15
           }
          },
          "yaxis": {
           "showgrid": true,
           "title": {
            "standoff": 15
           }
          }
         }
        },
        "title": {
         "text": "IMDB rating of the movies based on the year release"
        },
        "width": 1400,
        "xaxis": {
         "anchor": "y",
         "domain": [
          0,
          1
         ],
         "title": {
          "text": "Year release"
         }
        },
        "yaxis": {
         "anchor": "x",
         "domain": [
          0,
          1
         ],
         "title": {
          "text": " IMDB rating"
         }
        }
       }
      },
      "text/html": [
       "<div>                            <div id=\"eb997cee-3978-4cc1-aa19-bc09a6a8a9d7\" class=\"plotly-graph-div\" style=\"height:720px; width:1400px;\"></div>            <script type=\"text/javascript\">                require([\"plotly\"], function(Plotly) {                    window.PLOTLYENV=window.PLOTLYENV || {};                                    if (document.getElementById(\"eb997cee-3978-4cc1-aa19-bc09a6a8a9d7\")) {                    Plotly.newPlot(                        \"eb997cee-3978-4cc1-aa19-bc09a6a8a9d7\",                        [{\"alignmentgroup\":\"True\",\"hovertemplate\":\"name=Film__1<br>Year release=%{x}<br> IMDB rating=%{y}<extra></extra>\",\"legendgroup\":\"Film__1\",\"marker\":{\"color\":\"#1F77B4\",\"opacity\":0.9,\"pattern\":{\"shape\":\"\"}},\"name\":\"Film__1\",\"offsetgroup\":\"Film__1\",\"orientation\":\"v\",\"showlegend\":true,\"textposition\":\"auto\",\"x\":[2001],\"xaxis\":\"x\",\"y\":[0.5],\"yaxis\":\"y\",\"type\":\"bar\"},{\"alignmentgroup\":\"True\",\"hovertemplate\":\"name=Film__2<br>Year release=%{x}<br> IMDB rating=%{y}<extra></extra>\",\"legendgroup\":\"Film__2\",\"marker\":{\"color\":\"#FF7F0E\",\"opacity\":0.9,\"pattern\":{\"shape\":\"\"}},\"name\":\"Film__2\",\"offsetgroup\":\"Film__2\",\"orientation\":\"v\",\"showlegend\":true,\"textposition\":\"auto\",\"x\":[2002],\"xaxis\":\"x\",\"y\":[0.6666666666666666],\"yaxis\":\"y\",\"type\":\"bar\"},{\"alignmentgroup\":\"True\",\"hovertemplate\":\"name=Film__3<br>Year release=%{x}<br> IMDB rating=%{y}<extra></extra>\",\"legendgroup\":\"Film__3\",\"marker\":{\"color\":\"#2CA02C\",\"opacity\":0.9,\"pattern\":{\"shape\":\"\"}},\"name\":\"Film__3\",\"offsetgroup\":\"Film__3\",\"orientation\":\"v\",\"showlegend\":true,\"textposition\":\"auto\",\"x\":[2003],\"xaxis\":\"x\",\"y\":[0.75],\"yaxis\":\"y\",\"type\":\"bar\"},{\"alignmentgroup\":\"True\",\"hovertemplate\":\"name=Film__4<br>Year release=%{x}<br> IMDB rating=%{y}<extra></extra>\",\"legendgroup\":\"Film__4\",\"marker\":{\"color\":\"#D62728\",\"opacity\":0.9,\"pattern\":{\"shape\":\"\"}},\"name\":\"Film__4\",\"offsetgroup\":\"Film__4\",\"orientation\":\"v\",\"showlegend\":true,\"textposition\":\"auto\",\"x\":[2004],\"xaxis\":\"x\",\"y\":[0.8],\"yaxis\":\"y\",\"type\":\"bar\"},{\"alignmentgroup\":\"True\",\"hovertemplate\":\"name=Film__5<br>Year release=%{x}<br> IMDB rating=%{y}<extra></extra>\",\"legendgroup\":\"Film__5\",\"marker\":{\"color\":\"#9467BD\",\"opacity\":0.9,\"pattern\":{\"shape\":\"\"}},\"name\":\"Film__5\",\"offsetgroup\":\"Film__5\",\"orientation\":\"v\",\"showlegend\":true,\"textposition\":\"auto\",\"x\":[2005],\"xaxis\":\"x\",\"y\":[0.8333333333333334],\"yaxis\":\"y\",\"type\":\"bar\"},{\"alignmentgroup\":\"True\",\"hovertemplate\":\"name=Film__6<br>Year release=%{x}<br> IMDB rating=%{y}<extra></extra>\",\"legendgroup\":\"Film__6\",\"marker\":{\"color\":\"#8C564B\",\"opacity\":0.9,\"pattern\":{\"shape\":\"\"}},\"name\":\"Film__6\",\"offsetgroup\":\"Film__6\",\"orientation\":\"v\",\"showlegend\":true,\"textposition\":\"auto\",\"x\":[2006],\"xaxis\":\"x\",\"y\":[0.8571428571428571],\"yaxis\":\"y\",\"type\":\"bar\"},{\"alignmentgroup\":\"True\",\"hovertemplate\":\"name=Film__7<br>Year release=%{x}<br> IMDB rating=%{y}<extra></extra>\",\"legendgroup\":\"Film__7\",\"marker\":{\"color\":\"#E377C2\",\"opacity\":0.9,\"pattern\":{\"shape\":\"\"}},\"name\":\"Film__7\",\"offsetgroup\":\"Film__7\",\"orientation\":\"v\",\"showlegend\":true,\"textposition\":\"auto\",\"x\":[2007],\"xaxis\":\"x\",\"y\":[0.875],\"yaxis\":\"y\",\"type\":\"bar\"},{\"alignmentgroup\":\"True\",\"hovertemplate\":\"name=Film__8<br>Year release=%{x}<br> IMDB rating=%{y}<extra></extra>\",\"legendgroup\":\"Film__8\",\"marker\":{\"color\":\"#7F7F7F\",\"opacity\":0.9,\"pattern\":{\"shape\":\"\"}},\"name\":\"Film__8\",\"offsetgroup\":\"Film__8\",\"orientation\":\"v\",\"showlegend\":true,\"textposition\":\"auto\",\"x\":[2008],\"xaxis\":\"x\",\"y\":[0.8888888888888888],\"yaxis\":\"y\",\"type\":\"bar\"},{\"alignmentgroup\":\"True\",\"hovertemplate\":\"name=Film__9<br>Year release=%{x}<br> IMDB rating=%{y}<extra></extra>\",\"legendgroup\":\"Film__9\",\"marker\":{\"color\":\"#BCBD22\",\"opacity\":0.9,\"pattern\":{\"shape\":\"\"}},\"name\":\"Film__9\",\"offsetgroup\":\"Film__9\",\"orientation\":\"v\",\"showlegend\":true,\"textposition\":\"auto\",\"x\":[2009],\"xaxis\":\"x\",\"y\":[0.9],\"yaxis\":\"y\",\"type\":\"bar\"},{\"alignmentgroup\":\"True\",\"hovertemplate\":\"name=Film__10<br>Year release=%{x}<br> IMDB rating=%{y}<extra></extra>\",\"legendgroup\":\"Film__10\",\"marker\":{\"color\":\"#17BECF\",\"opacity\":0.9,\"pattern\":{\"shape\":\"\"}},\"name\":\"Film__10\",\"offsetgroup\":\"Film__10\",\"orientation\":\"v\",\"showlegend\":true,\"textposition\":\"auto\",\"x\":[2010],\"xaxis\":\"x\",\"y\":[0.9090909090909091],\"yaxis\":\"y\",\"type\":\"bar\"},{\"alignmentgroup\":\"True\",\"hovertemplate\":\"name=Film__11<br>Year release=%{x}<br> IMDB rating=%{y}<extra></extra>\",\"legendgroup\":\"Film__11\",\"marker\":{\"color\":\"#1F77B4\",\"opacity\":0.9,\"pattern\":{\"shape\":\"\"}},\"name\":\"Film__11\",\"offsetgroup\":\"Film__11\",\"orientation\":\"v\",\"showlegend\":true,\"textposition\":\"auto\",\"x\":[2011],\"xaxis\":\"x\",\"y\":[0.9166666666666666],\"yaxis\":\"y\",\"type\":\"bar\"},{\"alignmentgroup\":\"True\",\"hovertemplate\":\"name=Film__12<br>Year release=%{x}<br> IMDB rating=%{y}<extra></extra>\",\"legendgroup\":\"Film__12\",\"marker\":{\"color\":\"#FF7F0E\",\"opacity\":0.9,\"pattern\":{\"shape\":\"\"}},\"name\":\"Film__12\",\"offsetgroup\":\"Film__12\",\"orientation\":\"v\",\"showlegend\":true,\"textposition\":\"auto\",\"x\":[2012],\"xaxis\":\"x\",\"y\":[0.9230769230769231],\"yaxis\":\"y\",\"type\":\"bar\"},{\"alignmentgroup\":\"True\",\"hovertemplate\":\"name=Film__13<br>Year release=%{x}<br> IMDB rating=%{y}<extra></extra>\",\"legendgroup\":\"Film__13\",\"marker\":{\"color\":\"#2CA02C\",\"opacity\":0.9,\"pattern\":{\"shape\":\"\"}},\"name\":\"Film__13\",\"offsetgroup\":\"Film__13\",\"orientation\":\"v\",\"showlegend\":true,\"textposition\":\"auto\",\"x\":[2013],\"xaxis\":\"x\",\"y\":[0.9285714285714286],\"yaxis\":\"y\",\"type\":\"bar\"},{\"alignmentgroup\":\"True\",\"hovertemplate\":\"name=Film__14<br>Year release=%{x}<br> IMDB rating=%{y}<extra></extra>\",\"legendgroup\":\"Film__14\",\"marker\":{\"color\":\"#D62728\",\"opacity\":0.9,\"pattern\":{\"shape\":\"\"}},\"name\":\"Film__14\",\"offsetgroup\":\"Film__14\",\"orientation\":\"v\",\"showlegend\":true,\"textposition\":\"auto\",\"x\":[2014],\"xaxis\":\"x\",\"y\":[0.9333333333333333],\"yaxis\":\"y\",\"type\":\"bar\"},{\"alignmentgroup\":\"True\",\"hovertemplate\":\"name=Film__15<br>Year release=%{x}<br> IMDB rating=%{y}<extra></extra>\",\"legendgroup\":\"Film__15\",\"marker\":{\"color\":\"#9467BD\",\"opacity\":0.9,\"pattern\":{\"shape\":\"\"}},\"name\":\"Film__15\",\"offsetgroup\":\"Film__15\",\"orientation\":\"v\",\"showlegend\":true,\"textposition\":\"auto\",\"x\":[2015],\"xaxis\":\"x\",\"y\":[0.9375],\"yaxis\":\"y\",\"type\":\"bar\"},{\"alignmentgroup\":\"True\",\"hovertemplate\":\"name=Film__16<br>Year release=%{x}<br> IMDB rating=%{y}<extra></extra>\",\"legendgroup\":\"Film__16\",\"marker\":{\"color\":\"#8C564B\",\"opacity\":0.9,\"pattern\":{\"shape\":\"\"}},\"name\":\"Film__16\",\"offsetgroup\":\"Film__16\",\"orientation\":\"v\",\"showlegend\":true,\"textposition\":\"auto\",\"x\":[2016],\"xaxis\":\"x\",\"y\":[0.9411764705882353],\"yaxis\":\"y\",\"type\":\"bar\"},{\"alignmentgroup\":\"True\",\"hovertemplate\":\"name=Film__17<br>Year release=%{x}<br> IMDB rating=%{y}<extra></extra>\",\"legendgroup\":\"Film__17\",\"marker\":{\"color\":\"#E377C2\",\"opacity\":0.9,\"pattern\":{\"shape\":\"\"}},\"name\":\"Film__17\",\"offsetgroup\":\"Film__17\",\"orientation\":\"v\",\"showlegend\":true,\"textposition\":\"auto\",\"x\":[2017],\"xaxis\":\"x\",\"y\":[0.9444444444444444],\"yaxis\":\"y\",\"type\":\"bar\"},{\"alignmentgroup\":\"True\",\"hovertemplate\":\"name=Film__18<br>Year release=%{x}<br> IMDB rating=%{y}<extra></extra>\",\"legendgroup\":\"Film__18\",\"marker\":{\"color\":\"#7F7F7F\",\"opacity\":0.9,\"pattern\":{\"shape\":\"\"}},\"name\":\"Film__18\",\"offsetgroup\":\"Film__18\",\"orientation\":\"v\",\"showlegend\":true,\"textposition\":\"auto\",\"x\":[2018],\"xaxis\":\"x\",\"y\":[0.9473684210526315],\"yaxis\":\"y\",\"type\":\"bar\"},{\"alignmentgroup\":\"True\",\"hovertemplate\":\"name=Film__19<br>Year release=%{x}<br> IMDB rating=%{y}<extra></extra>\",\"legendgroup\":\"Film__19\",\"marker\":{\"color\":\"#BCBD22\",\"opacity\":0.9,\"pattern\":{\"shape\":\"\"}},\"name\":\"Film__19\",\"offsetgroup\":\"Film__19\",\"orientation\":\"v\",\"showlegend\":true,\"textposition\":\"auto\",\"x\":[2019],\"xaxis\":\"x\",\"y\":[0.95],\"yaxis\":\"y\",\"type\":\"bar\"},{\"alignmentgroup\":\"True\",\"hovertemplate\":\"name=Film__20<br>Year release=%{x}<br> IMDB rating=%{y}<extra></extra>\",\"legendgroup\":\"Film__20\",\"marker\":{\"color\":\"#17BECF\",\"opacity\":0.9,\"pattern\":{\"shape\":\"\"}},\"name\":\"Film__20\",\"offsetgroup\":\"Film__20\",\"orientation\":\"v\",\"showlegend\":true,\"textposition\":\"auto\",\"x\":[2020],\"xaxis\":\"x\",\"y\":[0.9523809523809523],\"yaxis\":\"y\",\"type\":\"bar\"},{\"alignmentgroup\":\"True\",\"hovertemplate\":\"name=Film__21<br>Year release=%{x}<br> IMDB rating=%{y}<extra></extra>\",\"legendgroup\":\"Film__21\",\"marker\":{\"color\":\"#1F77B4\",\"opacity\":0.9,\"pattern\":{\"shape\":\"\"}},\"name\":\"Film__21\",\"offsetgroup\":\"Film__21\",\"orientation\":\"v\",\"showlegend\":true,\"textposition\":\"auto\",\"x\":[2021],\"xaxis\":\"x\",\"y\":[0.9545454545454546],\"yaxis\":\"y\",\"type\":\"bar\"},{\"alignmentgroup\":\"True\",\"hovertemplate\":\"name=Film__22<br>Year release=%{x}<br> IMDB rating=%{y}<extra></extra>\",\"legendgroup\":\"Film__22\",\"marker\":{\"color\":\"#FF7F0E\",\"opacity\":0.9,\"pattern\":{\"shape\":\"\"}},\"name\":\"Film__22\",\"offsetgroup\":\"Film__22\",\"orientation\":\"v\",\"showlegend\":true,\"textposition\":\"auto\",\"x\":[2022],\"xaxis\":\"x\",\"y\":[0.9565217391304348],\"yaxis\":\"y\",\"type\":\"bar\"}],                        {\"template\":{\"data\":{\"pie\":[{\"automargin\":true,\"type\":\"pie\"}]},\"layout\":{\"xaxis\":{\"showgrid\":true,\"title\":{\"standoff\":15}},\"yaxis\":{\"showgrid\":true,\"title\":{\"standoff\":15}}}},\"xaxis\":{\"anchor\":\"y\",\"domain\":[0.0,1.0],\"title\":{\"text\":\"Year release\"}},\"yaxis\":{\"anchor\":\"x\",\"domain\":[0.0,1.0],\"title\":{\"text\":\" IMDB rating\"}},\"legend\":{\"title\":{\"text\":\"name\"},\"tracegroupgap\":0},\"title\":{\"text\":\"IMDB rating of the movies based on the year release\"},\"barmode\":\"relative\",\"height\":720,\"width\":1400},                        {\"responsive\": true}                    ).then(function(){\n",
       "                            \n",
       "var gd = document.getElementById('eb997cee-3978-4cc1-aa19-bc09a6a8a9d7');\n",
       "var x = new MutationObserver(function (mutations, observer) {{\n",
       "        var display = window.getComputedStyle(gd).display;\n",
       "        if (!display || display === 'none') {{\n",
       "            console.log([gd, 'removed!']);\n",
       "            Plotly.purge(gd);\n",
       "            observer.disconnect();\n",
       "        }}\n",
       "}});\n",
       "\n",
       "// Listen for the removal of the full notebook cells\n",
       "var notebookContainer = gd.closest('#notebook-container');\n",
       "if (notebookContainer) {{\n",
       "    x.observe(notebookContainer, {childList: true});\n",
       "}}\n",
       "\n",
       "// Listen for the clearing of the current output cell\n",
       "var outputEl = gd.closest('.output');\n",
       "if (outputEl) {{\n",
       "    x.observe(outputEl, {childList: true});\n",
       "}}\n",
       "\n",
       "                        })                };                });            </script>        </div>"
      ]
     },
     "metadata": {},
     "output_type": "display_data"
    }
   ],
   "source": [
    "#barchart\n",
    "barchart = px.bar(\n",
    "    data_frame=dfb,\n",
    "    x=\"year_released\",\n",
    "    y=\"imdb_rating\",\n",
    "    color=\"name\",              \n",
    "    opacity=0.9,                 \n",
    "    orientation=\"v\",              \n",
    "    barmode='relative',\n",
    "     \n",
    "\n",
    "    \n",
    "    labels={\"year_released\":\"Year release\",\"imdb_rating\":\" IMDB rating\"},           # map the labels of the figure\n",
    "    title='IMDB rating of the movies based on the year release', # figure title\n",
    "    width=1400,                   # figure width in pixels\n",
    "    height=720,                   # figure height in pixels\n",
    "    template='gridon')\n",
    "    \n",
    " \n",
    "\n",
    " \n",
    "    \n",
    "pio.show(barchart)\n",
    "    "
   ]
  },
  {
   "cell_type": "code",
   "execution_count": 402,
   "id": "116174c7",
   "metadata": {},
   "outputs": [
    {
     "data": {
      "application/vnd.plotly.v1+json": {
       "config": {
        "plotlyServerURL": "https://plot.ly"
       },
       "data": [
        {
         "alignmentgroup": "True",
         "hovertemplate": "name=Film__1<br>Year release=%{x}<br> external reviews=%{y}<extra></extra>",
         "legendgroup": "Film__1",
         "marker": {
          "color": "#1F77B4",
          "opacity": 0.9,
          "pattern": {
           "shape": ""
          }
         },
         "name": "Film__1",
         "offsetgroup": "Film__1",
         "orientation": "v",
         "showlegend": true,
         "textposition": "auto",
         "type": "bar",
         "x": [
          2001
         ],
         "xaxis": "x",
         "y": [
          51
         ],
         "yaxis": "y"
        },
        {
         "alignmentgroup": "True",
         "hovertemplate": "name=Film__2<br>Year release=%{x}<br> external reviews=%{y}<extra></extra>",
         "legendgroup": "Film__2",
         "marker": {
          "color": "#FF7F0E",
          "opacity": 0.9,
          "pattern": {
           "shape": ""
          }
         },
         "name": "Film__2",
         "offsetgroup": "Film__2",
         "orientation": "v",
         "showlegend": true,
         "textposition": "auto",
         "type": "bar",
         "x": [
          2002
         ],
         "xaxis": "x",
         "y": [
          52
         ],
         "yaxis": "y"
        },
        {
         "alignmentgroup": "True",
         "hovertemplate": "name=Film__3<br>Year release=%{x}<br> external reviews=%{y}<extra></extra>",
         "legendgroup": "Film__3",
         "marker": {
          "color": "#2CA02C",
          "opacity": 0.9,
          "pattern": {
           "shape": ""
          }
         },
         "name": "Film__3",
         "offsetgroup": "Film__3",
         "orientation": "v",
         "showlegend": true,
         "textposition": "auto",
         "type": "bar",
         "x": [
          2003
         ],
         "xaxis": "x",
         "y": [
          53
         ],
         "yaxis": "y"
        },
        {
         "alignmentgroup": "True",
         "hovertemplate": "name=Film__4<br>Year release=%{x}<br> external reviews=%{y}<extra></extra>",
         "legendgroup": "Film__4",
         "marker": {
          "color": "#D62728",
          "opacity": 0.9,
          "pattern": {
           "shape": ""
          }
         },
         "name": "Film__4",
         "offsetgroup": "Film__4",
         "orientation": "v",
         "showlegend": true,
         "textposition": "auto",
         "type": "bar",
         "x": [
          2004
         ],
         "xaxis": "x",
         "y": [
          54
         ],
         "yaxis": "y"
        },
        {
         "alignmentgroup": "True",
         "hovertemplate": "name=Film__5<br>Year release=%{x}<br> external reviews=%{y}<extra></extra>",
         "legendgroup": "Film__5",
         "marker": {
          "color": "#9467BD",
          "opacity": 0.9,
          "pattern": {
           "shape": ""
          }
         },
         "name": "Film__5",
         "offsetgroup": "Film__5",
         "orientation": "v",
         "showlegend": true,
         "textposition": "auto",
         "type": "bar",
         "x": [
          2005
         ],
         "xaxis": "x",
         "y": [
          55
         ],
         "yaxis": "y"
        },
        {
         "alignmentgroup": "True",
         "hovertemplate": "name=Film__6<br>Year release=%{x}<br> external reviews=%{y}<extra></extra>",
         "legendgroup": "Film__6",
         "marker": {
          "color": "#8C564B",
          "opacity": 0.9,
          "pattern": {
           "shape": ""
          }
         },
         "name": "Film__6",
         "offsetgroup": "Film__6",
         "orientation": "v",
         "showlegend": true,
         "textposition": "auto",
         "type": "bar",
         "x": [
          2006
         ],
         "xaxis": "x",
         "y": [
          56
         ],
         "yaxis": "y"
        },
        {
         "alignmentgroup": "True",
         "hovertemplate": "name=Film__7<br>Year release=%{x}<br> external reviews=%{y}<extra></extra>",
         "legendgroup": "Film__7",
         "marker": {
          "color": "#E377C2",
          "opacity": 0.9,
          "pattern": {
           "shape": ""
          }
         },
         "name": "Film__7",
         "offsetgroup": "Film__7",
         "orientation": "v",
         "showlegend": true,
         "textposition": "auto",
         "type": "bar",
         "x": [
          2007
         ],
         "xaxis": "x",
         "y": [
          57
         ],
         "yaxis": "y"
        },
        {
         "alignmentgroup": "True",
         "hovertemplate": "name=Film__8<br>Year release=%{x}<br> external reviews=%{y}<extra></extra>",
         "legendgroup": "Film__8",
         "marker": {
          "color": "#7F7F7F",
          "opacity": 0.9,
          "pattern": {
           "shape": ""
          }
         },
         "name": "Film__8",
         "offsetgroup": "Film__8",
         "orientation": "v",
         "showlegend": true,
         "textposition": "auto",
         "type": "bar",
         "x": [
          2008
         ],
         "xaxis": "x",
         "y": [
          58
         ],
         "yaxis": "y"
        },
        {
         "alignmentgroup": "True",
         "hovertemplate": "name=Film__9<br>Year release=%{x}<br> external reviews=%{y}<extra></extra>",
         "legendgroup": "Film__9",
         "marker": {
          "color": "#BCBD22",
          "opacity": 0.9,
          "pattern": {
           "shape": ""
          }
         },
         "name": "Film__9",
         "offsetgroup": "Film__9",
         "orientation": "v",
         "showlegend": true,
         "textposition": "auto",
         "type": "bar",
         "x": [
          2009
         ],
         "xaxis": "x",
         "y": [
          59
         ],
         "yaxis": "y"
        },
        {
         "alignmentgroup": "True",
         "hovertemplate": "name=Film__10<br>Year release=%{x}<br> external reviews=%{y}<extra></extra>",
         "legendgroup": "Film__10",
         "marker": {
          "color": "#17BECF",
          "opacity": 0.9,
          "pattern": {
           "shape": ""
          }
         },
         "name": "Film__10",
         "offsetgroup": "Film__10",
         "orientation": "v",
         "showlegend": true,
         "textposition": "auto",
         "type": "bar",
         "x": [
          2010
         ],
         "xaxis": "x",
         "y": [
          60
         ],
         "yaxis": "y"
        },
        {
         "alignmentgroup": "True",
         "hovertemplate": "name=Film__11<br>Year release=%{x}<br> external reviews=%{y}<extra></extra>",
         "legendgroup": "Film__11",
         "marker": {
          "color": "#1F77B4",
          "opacity": 0.9,
          "pattern": {
           "shape": ""
          }
         },
         "name": "Film__11",
         "offsetgroup": "Film__11",
         "orientation": "v",
         "showlegend": true,
         "textposition": "auto",
         "type": "bar",
         "x": [
          2011
         ],
         "xaxis": "x",
         "y": [
          61
         ],
         "yaxis": "y"
        },
        {
         "alignmentgroup": "True",
         "hovertemplate": "name=Film__12<br>Year release=%{x}<br> external reviews=%{y}<extra></extra>",
         "legendgroup": "Film__12",
         "marker": {
          "color": "#FF7F0E",
          "opacity": 0.9,
          "pattern": {
           "shape": ""
          }
         },
         "name": "Film__12",
         "offsetgroup": "Film__12",
         "orientation": "v",
         "showlegend": true,
         "textposition": "auto",
         "type": "bar",
         "x": [
          2012
         ],
         "xaxis": "x",
         "y": [
          62
         ],
         "yaxis": "y"
        },
        {
         "alignmentgroup": "True",
         "hovertemplate": "name=Film__13<br>Year release=%{x}<br> external reviews=%{y}<extra></extra>",
         "legendgroup": "Film__13",
         "marker": {
          "color": "#2CA02C",
          "opacity": 0.9,
          "pattern": {
           "shape": ""
          }
         },
         "name": "Film__13",
         "offsetgroup": "Film__13",
         "orientation": "v",
         "showlegend": true,
         "textposition": "auto",
         "type": "bar",
         "x": [
          2013
         ],
         "xaxis": "x",
         "y": [
          63
         ],
         "yaxis": "y"
        },
        {
         "alignmentgroup": "True",
         "hovertemplate": "name=Film__14<br>Year release=%{x}<br> external reviews=%{y}<extra></extra>",
         "legendgroup": "Film__14",
         "marker": {
          "color": "#D62728",
          "opacity": 0.9,
          "pattern": {
           "shape": ""
          }
         },
         "name": "Film__14",
         "offsetgroup": "Film__14",
         "orientation": "v",
         "showlegend": true,
         "textposition": "auto",
         "type": "bar",
         "x": [
          2014
         ],
         "xaxis": "x",
         "y": [
          64
         ],
         "yaxis": "y"
        },
        {
         "alignmentgroup": "True",
         "hovertemplate": "name=Film__15<br>Year release=%{x}<br> external reviews=%{y}<extra></extra>",
         "legendgroup": "Film__15",
         "marker": {
          "color": "#9467BD",
          "opacity": 0.9,
          "pattern": {
           "shape": ""
          }
         },
         "name": "Film__15",
         "offsetgroup": "Film__15",
         "orientation": "v",
         "showlegend": true,
         "textposition": "auto",
         "type": "bar",
         "x": [
          2015
         ],
         "xaxis": "x",
         "y": [
          65
         ],
         "yaxis": "y"
        },
        {
         "alignmentgroup": "True",
         "hovertemplate": "name=Film__16<br>Year release=%{x}<br> external reviews=%{y}<extra></extra>",
         "legendgroup": "Film__16",
         "marker": {
          "color": "#8C564B",
          "opacity": 0.9,
          "pattern": {
           "shape": ""
          }
         },
         "name": "Film__16",
         "offsetgroup": "Film__16",
         "orientation": "v",
         "showlegend": true,
         "textposition": "auto",
         "type": "bar",
         "x": [
          2016
         ],
         "xaxis": "x",
         "y": [
          66
         ],
         "yaxis": "y"
        },
        {
         "alignmentgroup": "True",
         "hovertemplate": "name=Film__17<br>Year release=%{x}<br> external reviews=%{y}<extra></extra>",
         "legendgroup": "Film__17",
         "marker": {
          "color": "#E377C2",
          "opacity": 0.9,
          "pattern": {
           "shape": ""
          }
         },
         "name": "Film__17",
         "offsetgroup": "Film__17",
         "orientation": "v",
         "showlegend": true,
         "textposition": "auto",
         "type": "bar",
         "x": [
          2017
         ],
         "xaxis": "x",
         "y": [
          67
         ],
         "yaxis": "y"
        },
        {
         "alignmentgroup": "True",
         "hovertemplate": "name=Film__18<br>Year release=%{x}<br> external reviews=%{y}<extra></extra>",
         "legendgroup": "Film__18",
         "marker": {
          "color": "#7F7F7F",
          "opacity": 0.9,
          "pattern": {
           "shape": ""
          }
         },
         "name": "Film__18",
         "offsetgroup": "Film__18",
         "orientation": "v",
         "showlegend": true,
         "textposition": "auto",
         "type": "bar",
         "x": [
          2018
         ],
         "xaxis": "x",
         "y": [
          68
         ],
         "yaxis": "y"
        },
        {
         "alignmentgroup": "True",
         "hovertemplate": "name=Film__19<br>Year release=%{x}<br> external reviews=%{y}<extra></extra>",
         "legendgroup": "Film__19",
         "marker": {
          "color": "#BCBD22",
          "opacity": 0.9,
          "pattern": {
           "shape": ""
          }
         },
         "name": "Film__19",
         "offsetgroup": "Film__19",
         "orientation": "v",
         "showlegend": true,
         "textposition": "auto",
         "type": "bar",
         "x": [
          2019
         ],
         "xaxis": "x",
         "y": [
          69
         ],
         "yaxis": "y"
        },
        {
         "alignmentgroup": "True",
         "hovertemplate": "name=Film__20<br>Year release=%{x}<br> external reviews=%{y}<extra></extra>",
         "legendgroup": "Film__20",
         "marker": {
          "color": "#17BECF",
          "opacity": 0.9,
          "pattern": {
           "shape": ""
          }
         },
         "name": "Film__20",
         "offsetgroup": "Film__20",
         "orientation": "v",
         "showlegend": true,
         "textposition": "auto",
         "type": "bar",
         "x": [
          2020
         ],
         "xaxis": "x",
         "y": [
          70
         ],
         "yaxis": "y"
        },
        {
         "alignmentgroup": "True",
         "hovertemplate": "name=Film__21<br>Year release=%{x}<br> external reviews=%{y}<extra></extra>",
         "legendgroup": "Film__21",
         "marker": {
          "color": "#1F77B4",
          "opacity": 0.9,
          "pattern": {
           "shape": ""
          }
         },
         "name": "Film__21",
         "offsetgroup": "Film__21",
         "orientation": "v",
         "showlegend": true,
         "textposition": "auto",
         "type": "bar",
         "x": [
          2021
         ],
         "xaxis": "x",
         "y": [
          71
         ],
         "yaxis": "y"
        },
        {
         "alignmentgroup": "True",
         "hovertemplate": "name=Film__22<br>Year release=%{x}<br> external reviews=%{y}<extra></extra>",
         "legendgroup": "Film__22",
         "marker": {
          "color": "#FF7F0E",
          "opacity": 0.9,
          "pattern": {
           "shape": ""
          }
         },
         "name": "Film__22",
         "offsetgroup": "Film__22",
         "orientation": "v",
         "showlegend": true,
         "textposition": "auto",
         "type": "bar",
         "x": [
          2022
         ],
         "xaxis": "x",
         "y": [
          72
         ],
         "yaxis": "y"
        }
       ],
       "layout": {
        "barmode": "relative",
        "height": 720,
        "legend": {
         "title": {
          "text": "name"
         },
         "tracegroupgap": 0
        },
        "template": {
         "data": {
          "pie": [
           {
            "automargin": true,
            "type": "pie"
           }
          ]
         },
         "layout": {
          "xaxis": {
           "showgrid": true,
           "title": {
            "standoff": 15
           }
          },
          "yaxis": {
           "showgrid": true,
           "title": {
            "standoff": 15
           }
          }
         }
        },
        "title": {
         "text": "IMDB rating of the movies based on the year release"
        },
        "width": 1400,
        "xaxis": {
         "anchor": "y",
         "domain": [
          0,
          1
         ],
         "title": {
          "text": "Year release"
         }
        },
        "yaxis": {
         "anchor": "x",
         "domain": [
          0,
          1
         ],
         "title": {
          "text": " external reviews"
         }
        }
       }
      },
      "text/html": [
       "<div>                            <div id=\"1f0935ce-dc9a-4461-ba91-90bc0fe910ee\" class=\"plotly-graph-div\" style=\"height:720px; width:1400px;\"></div>            <script type=\"text/javascript\">                require([\"plotly\"], function(Plotly) {                    window.PLOTLYENV=window.PLOTLYENV || {};                                    if (document.getElementById(\"1f0935ce-dc9a-4461-ba91-90bc0fe910ee\")) {                    Plotly.newPlot(                        \"1f0935ce-dc9a-4461-ba91-90bc0fe910ee\",                        [{\"alignmentgroup\":\"True\",\"hovertemplate\":\"name=Film__1<br>Year release=%{x}<br> external reviews=%{y}<extra></extra>\",\"legendgroup\":\"Film__1\",\"marker\":{\"color\":\"#1F77B4\",\"opacity\":0.9,\"pattern\":{\"shape\":\"\"}},\"name\":\"Film__1\",\"offsetgroup\":\"Film__1\",\"orientation\":\"v\",\"showlegend\":true,\"textposition\":\"auto\",\"x\":[2001],\"xaxis\":\"x\",\"y\":[51],\"yaxis\":\"y\",\"type\":\"bar\"},{\"alignmentgroup\":\"True\",\"hovertemplate\":\"name=Film__2<br>Year release=%{x}<br> external reviews=%{y}<extra></extra>\",\"legendgroup\":\"Film__2\",\"marker\":{\"color\":\"#FF7F0E\",\"opacity\":0.9,\"pattern\":{\"shape\":\"\"}},\"name\":\"Film__2\",\"offsetgroup\":\"Film__2\",\"orientation\":\"v\",\"showlegend\":true,\"textposition\":\"auto\",\"x\":[2002],\"xaxis\":\"x\",\"y\":[52],\"yaxis\":\"y\",\"type\":\"bar\"},{\"alignmentgroup\":\"True\",\"hovertemplate\":\"name=Film__3<br>Year release=%{x}<br> external reviews=%{y}<extra></extra>\",\"legendgroup\":\"Film__3\",\"marker\":{\"color\":\"#2CA02C\",\"opacity\":0.9,\"pattern\":{\"shape\":\"\"}},\"name\":\"Film__3\",\"offsetgroup\":\"Film__3\",\"orientation\":\"v\",\"showlegend\":true,\"textposition\":\"auto\",\"x\":[2003],\"xaxis\":\"x\",\"y\":[53],\"yaxis\":\"y\",\"type\":\"bar\"},{\"alignmentgroup\":\"True\",\"hovertemplate\":\"name=Film__4<br>Year release=%{x}<br> external reviews=%{y}<extra></extra>\",\"legendgroup\":\"Film__4\",\"marker\":{\"color\":\"#D62728\",\"opacity\":0.9,\"pattern\":{\"shape\":\"\"}},\"name\":\"Film__4\",\"offsetgroup\":\"Film__4\",\"orientation\":\"v\",\"showlegend\":true,\"textposition\":\"auto\",\"x\":[2004],\"xaxis\":\"x\",\"y\":[54],\"yaxis\":\"y\",\"type\":\"bar\"},{\"alignmentgroup\":\"True\",\"hovertemplate\":\"name=Film__5<br>Year release=%{x}<br> external reviews=%{y}<extra></extra>\",\"legendgroup\":\"Film__5\",\"marker\":{\"color\":\"#9467BD\",\"opacity\":0.9,\"pattern\":{\"shape\":\"\"}},\"name\":\"Film__5\",\"offsetgroup\":\"Film__5\",\"orientation\":\"v\",\"showlegend\":true,\"textposition\":\"auto\",\"x\":[2005],\"xaxis\":\"x\",\"y\":[55],\"yaxis\":\"y\",\"type\":\"bar\"},{\"alignmentgroup\":\"True\",\"hovertemplate\":\"name=Film__6<br>Year release=%{x}<br> external reviews=%{y}<extra></extra>\",\"legendgroup\":\"Film__6\",\"marker\":{\"color\":\"#8C564B\",\"opacity\":0.9,\"pattern\":{\"shape\":\"\"}},\"name\":\"Film__6\",\"offsetgroup\":\"Film__6\",\"orientation\":\"v\",\"showlegend\":true,\"textposition\":\"auto\",\"x\":[2006],\"xaxis\":\"x\",\"y\":[56],\"yaxis\":\"y\",\"type\":\"bar\"},{\"alignmentgroup\":\"True\",\"hovertemplate\":\"name=Film__7<br>Year release=%{x}<br> external reviews=%{y}<extra></extra>\",\"legendgroup\":\"Film__7\",\"marker\":{\"color\":\"#E377C2\",\"opacity\":0.9,\"pattern\":{\"shape\":\"\"}},\"name\":\"Film__7\",\"offsetgroup\":\"Film__7\",\"orientation\":\"v\",\"showlegend\":true,\"textposition\":\"auto\",\"x\":[2007],\"xaxis\":\"x\",\"y\":[57],\"yaxis\":\"y\",\"type\":\"bar\"},{\"alignmentgroup\":\"True\",\"hovertemplate\":\"name=Film__8<br>Year release=%{x}<br> external reviews=%{y}<extra></extra>\",\"legendgroup\":\"Film__8\",\"marker\":{\"color\":\"#7F7F7F\",\"opacity\":0.9,\"pattern\":{\"shape\":\"\"}},\"name\":\"Film__8\",\"offsetgroup\":\"Film__8\",\"orientation\":\"v\",\"showlegend\":true,\"textposition\":\"auto\",\"x\":[2008],\"xaxis\":\"x\",\"y\":[58],\"yaxis\":\"y\",\"type\":\"bar\"},{\"alignmentgroup\":\"True\",\"hovertemplate\":\"name=Film__9<br>Year release=%{x}<br> external reviews=%{y}<extra></extra>\",\"legendgroup\":\"Film__9\",\"marker\":{\"color\":\"#BCBD22\",\"opacity\":0.9,\"pattern\":{\"shape\":\"\"}},\"name\":\"Film__9\",\"offsetgroup\":\"Film__9\",\"orientation\":\"v\",\"showlegend\":true,\"textposition\":\"auto\",\"x\":[2009],\"xaxis\":\"x\",\"y\":[59],\"yaxis\":\"y\",\"type\":\"bar\"},{\"alignmentgroup\":\"True\",\"hovertemplate\":\"name=Film__10<br>Year release=%{x}<br> external reviews=%{y}<extra></extra>\",\"legendgroup\":\"Film__10\",\"marker\":{\"color\":\"#17BECF\",\"opacity\":0.9,\"pattern\":{\"shape\":\"\"}},\"name\":\"Film__10\",\"offsetgroup\":\"Film__10\",\"orientation\":\"v\",\"showlegend\":true,\"textposition\":\"auto\",\"x\":[2010],\"xaxis\":\"x\",\"y\":[60],\"yaxis\":\"y\",\"type\":\"bar\"},{\"alignmentgroup\":\"True\",\"hovertemplate\":\"name=Film__11<br>Year release=%{x}<br> external reviews=%{y}<extra></extra>\",\"legendgroup\":\"Film__11\",\"marker\":{\"color\":\"#1F77B4\",\"opacity\":0.9,\"pattern\":{\"shape\":\"\"}},\"name\":\"Film__11\",\"offsetgroup\":\"Film__11\",\"orientation\":\"v\",\"showlegend\":true,\"textposition\":\"auto\",\"x\":[2011],\"xaxis\":\"x\",\"y\":[61],\"yaxis\":\"y\",\"type\":\"bar\"},{\"alignmentgroup\":\"True\",\"hovertemplate\":\"name=Film__12<br>Year release=%{x}<br> external reviews=%{y}<extra></extra>\",\"legendgroup\":\"Film__12\",\"marker\":{\"color\":\"#FF7F0E\",\"opacity\":0.9,\"pattern\":{\"shape\":\"\"}},\"name\":\"Film__12\",\"offsetgroup\":\"Film__12\",\"orientation\":\"v\",\"showlegend\":true,\"textposition\":\"auto\",\"x\":[2012],\"xaxis\":\"x\",\"y\":[62],\"yaxis\":\"y\",\"type\":\"bar\"},{\"alignmentgroup\":\"True\",\"hovertemplate\":\"name=Film__13<br>Year release=%{x}<br> external reviews=%{y}<extra></extra>\",\"legendgroup\":\"Film__13\",\"marker\":{\"color\":\"#2CA02C\",\"opacity\":0.9,\"pattern\":{\"shape\":\"\"}},\"name\":\"Film__13\",\"offsetgroup\":\"Film__13\",\"orientation\":\"v\",\"showlegend\":true,\"textposition\":\"auto\",\"x\":[2013],\"xaxis\":\"x\",\"y\":[63],\"yaxis\":\"y\",\"type\":\"bar\"},{\"alignmentgroup\":\"True\",\"hovertemplate\":\"name=Film__14<br>Year release=%{x}<br> external reviews=%{y}<extra></extra>\",\"legendgroup\":\"Film__14\",\"marker\":{\"color\":\"#D62728\",\"opacity\":0.9,\"pattern\":{\"shape\":\"\"}},\"name\":\"Film__14\",\"offsetgroup\":\"Film__14\",\"orientation\":\"v\",\"showlegend\":true,\"textposition\":\"auto\",\"x\":[2014],\"xaxis\":\"x\",\"y\":[64],\"yaxis\":\"y\",\"type\":\"bar\"},{\"alignmentgroup\":\"True\",\"hovertemplate\":\"name=Film__15<br>Year release=%{x}<br> external reviews=%{y}<extra></extra>\",\"legendgroup\":\"Film__15\",\"marker\":{\"color\":\"#9467BD\",\"opacity\":0.9,\"pattern\":{\"shape\":\"\"}},\"name\":\"Film__15\",\"offsetgroup\":\"Film__15\",\"orientation\":\"v\",\"showlegend\":true,\"textposition\":\"auto\",\"x\":[2015],\"xaxis\":\"x\",\"y\":[65],\"yaxis\":\"y\",\"type\":\"bar\"},{\"alignmentgroup\":\"True\",\"hovertemplate\":\"name=Film__16<br>Year release=%{x}<br> external reviews=%{y}<extra></extra>\",\"legendgroup\":\"Film__16\",\"marker\":{\"color\":\"#8C564B\",\"opacity\":0.9,\"pattern\":{\"shape\":\"\"}},\"name\":\"Film__16\",\"offsetgroup\":\"Film__16\",\"orientation\":\"v\",\"showlegend\":true,\"textposition\":\"auto\",\"x\":[2016],\"xaxis\":\"x\",\"y\":[66],\"yaxis\":\"y\",\"type\":\"bar\"},{\"alignmentgroup\":\"True\",\"hovertemplate\":\"name=Film__17<br>Year release=%{x}<br> external reviews=%{y}<extra></extra>\",\"legendgroup\":\"Film__17\",\"marker\":{\"color\":\"#E377C2\",\"opacity\":0.9,\"pattern\":{\"shape\":\"\"}},\"name\":\"Film__17\",\"offsetgroup\":\"Film__17\",\"orientation\":\"v\",\"showlegend\":true,\"textposition\":\"auto\",\"x\":[2017],\"xaxis\":\"x\",\"y\":[67],\"yaxis\":\"y\",\"type\":\"bar\"},{\"alignmentgroup\":\"True\",\"hovertemplate\":\"name=Film__18<br>Year release=%{x}<br> external reviews=%{y}<extra></extra>\",\"legendgroup\":\"Film__18\",\"marker\":{\"color\":\"#7F7F7F\",\"opacity\":0.9,\"pattern\":{\"shape\":\"\"}},\"name\":\"Film__18\",\"offsetgroup\":\"Film__18\",\"orientation\":\"v\",\"showlegend\":true,\"textposition\":\"auto\",\"x\":[2018],\"xaxis\":\"x\",\"y\":[68],\"yaxis\":\"y\",\"type\":\"bar\"},{\"alignmentgroup\":\"True\",\"hovertemplate\":\"name=Film__19<br>Year release=%{x}<br> external reviews=%{y}<extra></extra>\",\"legendgroup\":\"Film__19\",\"marker\":{\"color\":\"#BCBD22\",\"opacity\":0.9,\"pattern\":{\"shape\":\"\"}},\"name\":\"Film__19\",\"offsetgroup\":\"Film__19\",\"orientation\":\"v\",\"showlegend\":true,\"textposition\":\"auto\",\"x\":[2019],\"xaxis\":\"x\",\"y\":[69],\"yaxis\":\"y\",\"type\":\"bar\"},{\"alignmentgroup\":\"True\",\"hovertemplate\":\"name=Film__20<br>Year release=%{x}<br> external reviews=%{y}<extra></extra>\",\"legendgroup\":\"Film__20\",\"marker\":{\"color\":\"#17BECF\",\"opacity\":0.9,\"pattern\":{\"shape\":\"\"}},\"name\":\"Film__20\",\"offsetgroup\":\"Film__20\",\"orientation\":\"v\",\"showlegend\":true,\"textposition\":\"auto\",\"x\":[2020],\"xaxis\":\"x\",\"y\":[70],\"yaxis\":\"y\",\"type\":\"bar\"},{\"alignmentgroup\":\"True\",\"hovertemplate\":\"name=Film__21<br>Year release=%{x}<br> external reviews=%{y}<extra></extra>\",\"legendgroup\":\"Film__21\",\"marker\":{\"color\":\"#1F77B4\",\"opacity\":0.9,\"pattern\":{\"shape\":\"\"}},\"name\":\"Film__21\",\"offsetgroup\":\"Film__21\",\"orientation\":\"v\",\"showlegend\":true,\"textposition\":\"auto\",\"x\":[2021],\"xaxis\":\"x\",\"y\":[71],\"yaxis\":\"y\",\"type\":\"bar\"},{\"alignmentgroup\":\"True\",\"hovertemplate\":\"name=Film__22<br>Year release=%{x}<br> external reviews=%{y}<extra></extra>\",\"legendgroup\":\"Film__22\",\"marker\":{\"color\":\"#FF7F0E\",\"opacity\":0.9,\"pattern\":{\"shape\":\"\"}},\"name\":\"Film__22\",\"offsetgroup\":\"Film__22\",\"orientation\":\"v\",\"showlegend\":true,\"textposition\":\"auto\",\"x\":[2022],\"xaxis\":\"x\",\"y\":[72],\"yaxis\":\"y\",\"type\":\"bar\"}],                        {\"template\":{\"data\":{\"pie\":[{\"automargin\":true,\"type\":\"pie\"}]},\"layout\":{\"xaxis\":{\"showgrid\":true,\"title\":{\"standoff\":15}},\"yaxis\":{\"showgrid\":true,\"title\":{\"standoff\":15}}}},\"xaxis\":{\"anchor\":\"y\",\"domain\":[0.0,1.0],\"title\":{\"text\":\"Year release\"}},\"yaxis\":{\"anchor\":\"x\",\"domain\":[0.0,1.0],\"title\":{\"text\":\" external reviews\"}},\"legend\":{\"title\":{\"text\":\"name\"},\"tracegroupgap\":0},\"title\":{\"text\":\"IMDB rating of the movies based on the year release\"},\"barmode\":\"relative\",\"height\":720,\"width\":1400},                        {\"responsive\": true}                    ).then(function(){\n",
       "                            \n",
       "var gd = document.getElementById('1f0935ce-dc9a-4461-ba91-90bc0fe910ee');\n",
       "var x = new MutationObserver(function (mutations, observer) {{\n",
       "        var display = window.getComputedStyle(gd).display;\n",
       "        if (!display || display === 'none') {{\n",
       "            console.log([gd, 'removed!']);\n",
       "            Plotly.purge(gd);\n",
       "            observer.disconnect();\n",
       "        }}\n",
       "}});\n",
       "\n",
       "// Listen for the removal of the full notebook cells\n",
       "var notebookContainer = gd.closest('#notebook-container');\n",
       "if (notebookContainer) {{\n",
       "    x.observe(notebookContainer, {childList: true});\n",
       "}}\n",
       "\n",
       "// Listen for the clearing of the current output cell\n",
       "var outputEl = gd.closest('.output');\n",
       "if (outputEl) {{\n",
       "    x.observe(outputEl, {childList: true});\n",
       "}}\n",
       "\n",
       "                        })                };                });            </script>        </div>"
      ]
     },
     "metadata": {},
     "output_type": "display_data"
    }
   ],
   "source": [
    "barchart = px.bar(\n",
    "    data_frame=dfb,\n",
    "    x=\"year_released\",\n",
    "    y=\"external_reviews\",\n",
    "    color=\"name\",              \n",
    "    opacity=0.9,                 \n",
    "    orientation=\"v\",              \n",
    "    barmode='relative',\n",
    "     \n",
    "\n",
    "    \n",
    "    labels={\"year_released\":\"Year release\",\"external_reviews\":\" external reviews\"},           # map the labels of the figure\n",
    "    title='External reviews of the movies based on the year release', # figure title\n",
    "    width=1400,                   # figure width in pixels\n",
    "    height=720,                   # figure height in pixels\n",
    "    template='gridon')\n",
    "    \n",
    " \n",
    "\n",
    " \n",
    "    \n",
    "pio.show(barchart)"
   ]
  },
  {
   "cell_type": "code",
   "execution_count": 403,
   "id": "f3560fe7",
   "metadata": {},
   "outputs": [
    {
     "data": {
      "application/vnd.plotly.v1+json": {
       "config": {
        "plotlyServerURL": "https://plot.ly"
       },
       "data": [
        {
         "customdata": [
          [
           "Film__1"
          ],
          [
           "Film__2"
          ],
          [
           "Film__3"
          ],
          [
           "Film__4"
          ],
          [
           "Film__5"
          ],
          [
           "Film__6"
          ],
          [
           "Film__7"
          ],
          [
           "Film__8"
          ],
          [
           "Film__9"
          ],
          [
           "Film__10"
          ],
          [
           "Film__11"
          ],
          [
           "Film__12"
          ],
          [
           "Film__13"
          ],
          [
           "Film__14"
          ],
          [
           "Film__15"
          ],
          [
           "Film__16"
          ],
          [
           "Film__17"
          ],
          [
           "Film__18"
          ],
          [
           "Film__19"
          ],
          [
           "Film__20"
          ],
          [
           "Film__21"
          ],
          [
           "Film__22"
          ]
         ],
         "domain": {
          "x": [
           0,
           1
          ],
          "y": [
           0,
           1
          ]
         },
         "hole": 0.2,
         "hovertemplate": "year_released=%{label}<br>metacritic_punctuation=%{value}<br>name=%{customdata[0]}<extra></extra>",
         "insidetextfont": {
          "color": "black"
         },
         "labels": [
          2001,
          2002,
          2003,
          2004,
          2005,
          2006,
          2007,
          2008,
          2009,
          2010,
          2011,
          2012,
          2013,
          2014,
          2015,
          2016,
          2017,
          2018,
          2019,
          2020,
          2021,
          2022
         ],
         "legendgroup": "",
         "marker": {
          "colors": [
           "#636efa",
           "#EF553B",
           "#00cc96",
           "#ab63fa",
           "#FFA15A",
           "#19d3f3",
           "#FF6692",
           "#B6E880",
           "#FF97FF",
           "#FECB52",
           "#636efa",
           "#EF553B",
           "#00cc96",
           "#ab63fa",
           "#FFA15A",
           "#19d3f3",
           "#FF6692",
           "#B6E880",
           "#FF97FF",
           "#FECB52",
           "#636efa",
           "#EF553B"
          ]
         },
         "name": "",
         "showlegend": true,
         "textinfo": "text",
         "type": "pie",
         "values": [
          5.5,
          4,
          3.25,
          2.8,
          2.5,
          2.2857142857142856,
          2.125,
          2,
          1.9,
          1.8181818181818181,
          1.75,
          1.6923076923076923,
          1.6428571428571428,
          1.6,
          1.5625,
          1.5294117647058822,
          1.5,
          1.4736842105263157,
          1.45,
          1.4285714285714286,
          1.4090909090909092,
          1.391304347826087
         ]
        }
       ],
       "layout": {
        "legend": {
         "itemclick": false,
         "tracegroupgap": 0
        },
        "template": {
         "data": {
          "bar": [
           {
            "error_x": {
             "color": "#2a3f5f"
            },
            "error_y": {
             "color": "#2a3f5f"
            },
            "marker": {
             "line": {
              "color": "#E5ECF6",
              "width": 0.5
             },
             "pattern": {
              "fillmode": "overlay",
              "size": 10,
              "solidity": 0.2
             }
            },
            "type": "bar"
           }
          ],
          "barpolar": [
           {
            "marker": {
             "line": {
              "color": "#E5ECF6",
              "width": 0.5
             },
             "pattern": {
              "fillmode": "overlay",
              "size": 10,
              "solidity": 0.2
             }
            },
            "type": "barpolar"
           }
          ],
          "carpet": [
           {
            "aaxis": {
             "endlinecolor": "#2a3f5f",
             "gridcolor": "white",
             "linecolor": "white",
             "minorgridcolor": "white",
             "startlinecolor": "#2a3f5f"
            },
            "baxis": {
             "endlinecolor": "#2a3f5f",
             "gridcolor": "white",
             "linecolor": "white",
             "minorgridcolor": "white",
             "startlinecolor": "#2a3f5f"
            },
            "type": "carpet"
           }
          ],
          "choropleth": [
           {
            "colorbar": {
             "outlinewidth": 0,
             "ticks": ""
            },
            "type": "choropleth"
           }
          ],
          "contour": [
           {
            "colorbar": {
             "outlinewidth": 0,
             "ticks": ""
            },
            "colorscale": [
             [
              0,
              "#0d0887"
             ],
             [
              0.1111111111111111,
              "#46039f"
             ],
             [
              0.2222222222222222,
              "#7201a8"
             ],
             [
              0.3333333333333333,
              "#9c179e"
             ],
             [
              0.4444444444444444,
              "#bd3786"
             ],
             [
              0.5555555555555556,
              "#d8576b"
             ],
             [
              0.6666666666666666,
              "#ed7953"
             ],
             [
              0.7777777777777778,
              "#fb9f3a"
             ],
             [
              0.8888888888888888,
              "#fdca26"
             ],
             [
              1,
              "#f0f921"
             ]
            ],
            "type": "contour"
           }
          ],
          "contourcarpet": [
           {
            "colorbar": {
             "outlinewidth": 0,
             "ticks": ""
            },
            "type": "contourcarpet"
           }
          ],
          "heatmap": [
           {
            "colorbar": {
             "outlinewidth": 0,
             "ticks": ""
            },
            "colorscale": [
             [
              0,
              "#0d0887"
             ],
             [
              0.1111111111111111,
              "#46039f"
             ],
             [
              0.2222222222222222,
              "#7201a8"
             ],
             [
              0.3333333333333333,
              "#9c179e"
             ],
             [
              0.4444444444444444,
              "#bd3786"
             ],
             [
              0.5555555555555556,
              "#d8576b"
             ],
             [
              0.6666666666666666,
              "#ed7953"
             ],
             [
              0.7777777777777778,
              "#fb9f3a"
             ],
             [
              0.8888888888888888,
              "#fdca26"
             ],
             [
              1,
              "#f0f921"
             ]
            ],
            "type": "heatmap"
           }
          ],
          "heatmapgl": [
           {
            "colorbar": {
             "outlinewidth": 0,
             "ticks": ""
            },
            "colorscale": [
             [
              0,
              "#0d0887"
             ],
             [
              0.1111111111111111,
              "#46039f"
             ],
             [
              0.2222222222222222,
              "#7201a8"
             ],
             [
              0.3333333333333333,
              "#9c179e"
             ],
             [
              0.4444444444444444,
              "#bd3786"
             ],
             [
              0.5555555555555556,
              "#d8576b"
             ],
             [
              0.6666666666666666,
              "#ed7953"
             ],
             [
              0.7777777777777778,
              "#fb9f3a"
             ],
             [
              0.8888888888888888,
              "#fdca26"
             ],
             [
              1,
              "#f0f921"
             ]
            ],
            "type": "heatmapgl"
           }
          ],
          "histogram": [
           {
            "marker": {
             "pattern": {
              "fillmode": "overlay",
              "size": 10,
              "solidity": 0.2
             }
            },
            "type": "histogram"
           }
          ],
          "histogram2d": [
           {
            "colorbar": {
             "outlinewidth": 0,
             "ticks": ""
            },
            "colorscale": [
             [
              0,
              "#0d0887"
             ],
             [
              0.1111111111111111,
              "#46039f"
             ],
             [
              0.2222222222222222,
              "#7201a8"
             ],
             [
              0.3333333333333333,
              "#9c179e"
             ],
             [
              0.4444444444444444,
              "#bd3786"
             ],
             [
              0.5555555555555556,
              "#d8576b"
             ],
             [
              0.6666666666666666,
              "#ed7953"
             ],
             [
              0.7777777777777778,
              "#fb9f3a"
             ],
             [
              0.8888888888888888,
              "#fdca26"
             ],
             [
              1,
              "#f0f921"
             ]
            ],
            "type": "histogram2d"
           }
          ],
          "histogram2dcontour": [
           {
            "colorbar": {
             "outlinewidth": 0,
             "ticks": ""
            },
            "colorscale": [
             [
              0,
              "#0d0887"
             ],
             [
              0.1111111111111111,
              "#46039f"
             ],
             [
              0.2222222222222222,
              "#7201a8"
             ],
             [
              0.3333333333333333,
              "#9c179e"
             ],
             [
              0.4444444444444444,
              "#bd3786"
             ],
             [
              0.5555555555555556,
              "#d8576b"
             ],
             [
              0.6666666666666666,
              "#ed7953"
             ],
             [
              0.7777777777777778,
              "#fb9f3a"
             ],
             [
              0.8888888888888888,
              "#fdca26"
             ],
             [
              1,
              "#f0f921"
             ]
            ],
            "type": "histogram2dcontour"
           }
          ],
          "mesh3d": [
           {
            "colorbar": {
             "outlinewidth": 0,
             "ticks": ""
            },
            "type": "mesh3d"
           }
          ],
          "parcoords": [
           {
            "line": {
             "colorbar": {
              "outlinewidth": 0,
              "ticks": ""
             }
            },
            "type": "parcoords"
           }
          ],
          "pie": [
           {
            "automargin": true,
            "type": "pie"
           }
          ],
          "scatter": [
           {
            "marker": {
             "colorbar": {
              "outlinewidth": 0,
              "ticks": ""
             }
            },
            "type": "scatter"
           }
          ],
          "scatter3d": [
           {
            "line": {
             "colorbar": {
              "outlinewidth": 0,
              "ticks": ""
             }
            },
            "marker": {
             "colorbar": {
              "outlinewidth": 0,
              "ticks": ""
             }
            },
            "type": "scatter3d"
           }
          ],
          "scattercarpet": [
           {
            "marker": {
             "colorbar": {
              "outlinewidth": 0,
              "ticks": ""
             }
            },
            "type": "scattercarpet"
           }
          ],
          "scattergeo": [
           {
            "marker": {
             "colorbar": {
              "outlinewidth": 0,
              "ticks": ""
             }
            },
            "type": "scattergeo"
           }
          ],
          "scattergl": [
           {
            "marker": {
             "colorbar": {
              "outlinewidth": 0,
              "ticks": ""
             }
            },
            "type": "scattergl"
           }
          ],
          "scattermapbox": [
           {
            "marker": {
             "colorbar": {
              "outlinewidth": 0,
              "ticks": ""
             }
            },
            "type": "scattermapbox"
           }
          ],
          "scatterpolar": [
           {
            "marker": {
             "colorbar": {
              "outlinewidth": 0,
              "ticks": ""
             }
            },
            "type": "scatterpolar"
           }
          ],
          "scatterpolargl": [
           {
            "marker": {
             "colorbar": {
              "outlinewidth": 0,
              "ticks": ""
             }
            },
            "type": "scatterpolargl"
           }
          ],
          "scatterternary": [
           {
            "marker": {
             "colorbar": {
              "outlinewidth": 0,
              "ticks": ""
             }
            },
            "type": "scatterternary"
           }
          ],
          "surface": [
           {
            "colorbar": {
             "outlinewidth": 0,
             "ticks": ""
            },
            "colorscale": [
             [
              0,
              "#0d0887"
             ],
             [
              0.1111111111111111,
              "#46039f"
             ],
             [
              0.2222222222222222,
              "#7201a8"
             ],
             [
              0.3333333333333333,
              "#9c179e"
             ],
             [
              0.4444444444444444,
              "#bd3786"
             ],
             [
              0.5555555555555556,
              "#d8576b"
             ],
             [
              0.6666666666666666,
              "#ed7953"
             ],
             [
              0.7777777777777778,
              "#fb9f3a"
             ],
             [
              0.8888888888888888,
              "#fdca26"
             ],
             [
              1,
              "#f0f921"
             ]
            ],
            "type": "surface"
           }
          ],
          "table": [
           {
            "cells": {
             "fill": {
              "color": "#EBF0F8"
             },
             "line": {
              "color": "white"
             }
            },
            "header": {
             "fill": {
              "color": "#C8D4E3"
             },
             "line": {
              "color": "white"
             }
            },
            "type": "table"
           }
          ]
         },
         "layout": {
          "annotationdefaults": {
           "arrowcolor": "#2a3f5f",
           "arrowhead": 0,
           "arrowwidth": 1
          },
          "autotypenumbers": "strict",
          "coloraxis": {
           "colorbar": {
            "outlinewidth": 0,
            "ticks": ""
           }
          },
          "colorscale": {
           "diverging": [
            [
             0,
             "#8e0152"
            ],
            [
             0.1,
             "#c51b7d"
            ],
            [
             0.2,
             "#de77ae"
            ],
            [
             0.3,
             "#f1b6da"
            ],
            [
             0.4,
             "#fde0ef"
            ],
            [
             0.5,
             "#f7f7f7"
            ],
            [
             0.6,
             "#e6f5d0"
            ],
            [
             0.7,
             "#b8e186"
            ],
            [
             0.8,
             "#7fbc41"
            ],
            [
             0.9,
             "#4d9221"
            ],
            [
             1,
             "#276419"
            ]
           ],
           "sequential": [
            [
             0,
             "#0d0887"
            ],
            [
             0.1111111111111111,
             "#46039f"
            ],
            [
             0.2222222222222222,
             "#7201a8"
            ],
            [
             0.3333333333333333,
             "#9c179e"
            ],
            [
             0.4444444444444444,
             "#bd3786"
            ],
            [
             0.5555555555555556,
             "#d8576b"
            ],
            [
             0.6666666666666666,
             "#ed7953"
            ],
            [
             0.7777777777777778,
             "#fb9f3a"
            ],
            [
             0.8888888888888888,
             "#fdca26"
            ],
            [
             1,
             "#f0f921"
            ]
           ],
           "sequentialminus": [
            [
             0,
             "#0d0887"
            ],
            [
             0.1111111111111111,
             "#46039f"
            ],
            [
             0.2222222222222222,
             "#7201a8"
            ],
            [
             0.3333333333333333,
             "#9c179e"
            ],
            [
             0.4444444444444444,
             "#bd3786"
            ],
            [
             0.5555555555555556,
             "#d8576b"
            ],
            [
             0.6666666666666666,
             "#ed7953"
            ],
            [
             0.7777777777777778,
             "#fb9f3a"
            ],
            [
             0.8888888888888888,
             "#fdca26"
            ],
            [
             1,
             "#f0f921"
            ]
           ]
          },
          "colorway": [
           "#636efa",
           "#EF553B",
           "#00cc96",
           "#ab63fa",
           "#FFA15A",
           "#19d3f3",
           "#FF6692",
           "#B6E880",
           "#FF97FF",
           "#FECB52"
          ],
          "font": {
           "color": "#2a3f5f"
          },
          "geo": {
           "bgcolor": "white",
           "lakecolor": "white",
           "landcolor": "#E5ECF6",
           "showlakes": true,
           "showland": true,
           "subunitcolor": "white"
          },
          "hoverlabel": {
           "align": "left"
          },
          "hovermode": "closest",
          "mapbox": {
           "style": "light"
          },
          "paper_bgcolor": "white",
          "plot_bgcolor": "#E5ECF6",
          "polar": {
           "angularaxis": {
            "gridcolor": "white",
            "linecolor": "white",
            "ticks": ""
           },
           "bgcolor": "#E5ECF6",
           "radialaxis": {
            "gridcolor": "white",
            "linecolor": "white",
            "ticks": ""
           }
          },
          "scene": {
           "xaxis": {
            "backgroundcolor": "#E5ECF6",
            "gridcolor": "white",
            "gridwidth": 2,
            "linecolor": "white",
            "showbackground": true,
            "ticks": "",
            "zerolinecolor": "white"
           },
           "yaxis": {
            "backgroundcolor": "#E5ECF6",
            "gridcolor": "white",
            "gridwidth": 2,
            "linecolor": "white",
            "showbackground": true,
            "ticks": "",
            "zerolinecolor": "white"
           },
           "zaxis": {
            "backgroundcolor": "#E5ECF6",
            "gridcolor": "white",
            "gridwidth": 2,
            "linecolor": "white",
            "showbackground": true,
            "ticks": "",
            "zerolinecolor": "white"
           }
          },
          "shapedefaults": {
           "line": {
            "color": "#2a3f5f"
           }
          },
          "ternary": {
           "aaxis": {
            "gridcolor": "white",
            "linecolor": "white",
            "ticks": ""
           },
           "baxis": {
            "gridcolor": "white",
            "linecolor": "white",
            "ticks": ""
           },
           "bgcolor": "#E5ECF6",
           "caxis": {
            "gridcolor": "white",
            "linecolor": "white",
            "ticks": ""
           }
          },
          "title": {
           "x": 0.05
          },
          "xaxis": {
           "automargin": true,
           "gridcolor": "white",
           "linecolor": "white",
           "ticks": "",
           "title": {
            "standoff": 15
           },
           "zerolinecolor": "white",
           "zerolinewidth": 2
          },
          "yaxis": {
           "automargin": true,
           "gridcolor": "white",
           "linecolor": "white",
           "ticks": "",
           "title": {
            "standoff": 15
           },
           "zerolinecolor": "white",
           "zerolinewidth": 2
          }
         }
        },
        "title": {
         "text": "Metacritic punctuation based on the year release of the movie"
        }
       }
      },
      "text/html": [
       "<div>                            <div id=\"8441be4e-8367-4cff-b5bf-e9e8c242005a\" class=\"plotly-graph-div\" style=\"height:525px; width:100%;\"></div>            <script type=\"text/javascript\">                require([\"plotly\"], function(Plotly) {                    window.PLOTLYENV=window.PLOTLYENV || {};                                    if (document.getElementById(\"8441be4e-8367-4cff-b5bf-e9e8c242005a\")) {                    Plotly.newPlot(                        \"8441be4e-8367-4cff-b5bf-e9e8c242005a\",                        [{\"customdata\":[[\"Film__1\"],[\"Film__2\"],[\"Film__3\"],[\"Film__4\"],[\"Film__5\"],[\"Film__6\"],[\"Film__7\"],[\"Film__8\"],[\"Film__9\"],[\"Film__10\"],[\"Film__11\"],[\"Film__12\"],[\"Film__13\"],[\"Film__14\"],[\"Film__15\"],[\"Film__16\"],[\"Film__17\"],[\"Film__18\"],[\"Film__19\"],[\"Film__20\"],[\"Film__21\"],[\"Film__22\"]],\"domain\":{\"x\":[0.0,1.0],\"y\":[0.0,1.0]},\"hole\":0.2,\"hovertemplate\":\"year_released=%{label}<br>metacritic_punctuation=%{value}<br>name=%{customdata[0]}<extra></extra>\",\"labels\":[2001,2002,2003,2004,2005,2006,2007,2008,2009,2010,2011,2012,2013,2014,2015,2016,2017,2018,2019,2020,2021,2022],\"legendgroup\":\"\",\"marker\":{\"colors\":[\"#636efa\",\"#EF553B\",\"#00cc96\",\"#ab63fa\",\"#FFA15A\",\"#19d3f3\",\"#FF6692\",\"#B6E880\",\"#FF97FF\",\"#FECB52\",\"#636efa\",\"#EF553B\",\"#00cc96\",\"#ab63fa\",\"#FFA15A\",\"#19d3f3\",\"#FF6692\",\"#B6E880\",\"#FF97FF\",\"#FECB52\",\"#636efa\",\"#EF553B\"]},\"name\":\"\",\"showlegend\":true,\"values\":[5.5,4.0,3.25,2.8,2.5,2.2857142857142856,2.125,2.0,1.9,1.8181818181818181,1.75,1.6923076923076923,1.6428571428571428,1.6,1.5625,1.5294117647058822,1.5,1.4736842105263157,1.45,1.4285714285714286,1.4090909090909092,1.391304347826087],\"type\":\"pie\",\"insidetextfont\":{\"color\":\"black\"},\"textinfo\":\"text\"}],                        {\"template\":{\"data\":{\"bar\":[{\"error_x\":{\"color\":\"#2a3f5f\"},\"error_y\":{\"color\":\"#2a3f5f\"},\"marker\":{\"line\":{\"color\":\"#E5ECF6\",\"width\":0.5},\"pattern\":{\"fillmode\":\"overlay\",\"size\":10,\"solidity\":0.2}},\"type\":\"bar\"}],\"barpolar\":[{\"marker\":{\"line\":{\"color\":\"#E5ECF6\",\"width\":0.5},\"pattern\":{\"fillmode\":\"overlay\",\"size\":10,\"solidity\":0.2}},\"type\":\"barpolar\"}],\"carpet\":[{\"aaxis\":{\"endlinecolor\":\"#2a3f5f\",\"gridcolor\":\"white\",\"linecolor\":\"white\",\"minorgridcolor\":\"white\",\"startlinecolor\":\"#2a3f5f\"},\"baxis\":{\"endlinecolor\":\"#2a3f5f\",\"gridcolor\":\"white\",\"linecolor\":\"white\",\"minorgridcolor\":\"white\",\"startlinecolor\":\"#2a3f5f\"},\"type\":\"carpet\"}],\"choropleth\":[{\"colorbar\":{\"outlinewidth\":0,\"ticks\":\"\"},\"type\":\"choropleth\"}],\"contour\":[{\"colorbar\":{\"outlinewidth\":0,\"ticks\":\"\"},\"colorscale\":[[0.0,\"#0d0887\"],[0.1111111111111111,\"#46039f\"],[0.2222222222222222,\"#7201a8\"],[0.3333333333333333,\"#9c179e\"],[0.4444444444444444,\"#bd3786\"],[0.5555555555555556,\"#d8576b\"],[0.6666666666666666,\"#ed7953\"],[0.7777777777777778,\"#fb9f3a\"],[0.8888888888888888,\"#fdca26\"],[1.0,\"#f0f921\"]],\"type\":\"contour\"}],\"contourcarpet\":[{\"colorbar\":{\"outlinewidth\":0,\"ticks\":\"\"},\"type\":\"contourcarpet\"}],\"heatmap\":[{\"colorbar\":{\"outlinewidth\":0,\"ticks\":\"\"},\"colorscale\":[[0.0,\"#0d0887\"],[0.1111111111111111,\"#46039f\"],[0.2222222222222222,\"#7201a8\"],[0.3333333333333333,\"#9c179e\"],[0.4444444444444444,\"#bd3786\"],[0.5555555555555556,\"#d8576b\"],[0.6666666666666666,\"#ed7953\"],[0.7777777777777778,\"#fb9f3a\"],[0.8888888888888888,\"#fdca26\"],[1.0,\"#f0f921\"]],\"type\":\"heatmap\"}],\"heatmapgl\":[{\"colorbar\":{\"outlinewidth\":0,\"ticks\":\"\"},\"colorscale\":[[0.0,\"#0d0887\"],[0.1111111111111111,\"#46039f\"],[0.2222222222222222,\"#7201a8\"],[0.3333333333333333,\"#9c179e\"],[0.4444444444444444,\"#bd3786\"],[0.5555555555555556,\"#d8576b\"],[0.6666666666666666,\"#ed7953\"],[0.7777777777777778,\"#fb9f3a\"],[0.8888888888888888,\"#fdca26\"],[1.0,\"#f0f921\"]],\"type\":\"heatmapgl\"}],\"histogram\":[{\"marker\":{\"pattern\":{\"fillmode\":\"overlay\",\"size\":10,\"solidity\":0.2}},\"type\":\"histogram\"}],\"histogram2d\":[{\"colorbar\":{\"outlinewidth\":0,\"ticks\":\"\"},\"colorscale\":[[0.0,\"#0d0887\"],[0.1111111111111111,\"#46039f\"],[0.2222222222222222,\"#7201a8\"],[0.3333333333333333,\"#9c179e\"],[0.4444444444444444,\"#bd3786\"],[0.5555555555555556,\"#d8576b\"],[0.6666666666666666,\"#ed7953\"],[0.7777777777777778,\"#fb9f3a\"],[0.8888888888888888,\"#fdca26\"],[1.0,\"#f0f921\"]],\"type\":\"histogram2d\"}],\"histogram2dcontour\":[{\"colorbar\":{\"outlinewidth\":0,\"ticks\":\"\"},\"colorscale\":[[0.0,\"#0d0887\"],[0.1111111111111111,\"#46039f\"],[0.2222222222222222,\"#7201a8\"],[0.3333333333333333,\"#9c179e\"],[0.4444444444444444,\"#bd3786\"],[0.5555555555555556,\"#d8576b\"],[0.6666666666666666,\"#ed7953\"],[0.7777777777777778,\"#fb9f3a\"],[0.8888888888888888,\"#fdca26\"],[1.0,\"#f0f921\"]],\"type\":\"histogram2dcontour\"}],\"mesh3d\":[{\"colorbar\":{\"outlinewidth\":0,\"ticks\":\"\"},\"type\":\"mesh3d\"}],\"parcoords\":[{\"line\":{\"colorbar\":{\"outlinewidth\":0,\"ticks\":\"\"}},\"type\":\"parcoords\"}],\"pie\":[{\"automargin\":true,\"type\":\"pie\"}],\"scatter\":[{\"marker\":{\"colorbar\":{\"outlinewidth\":0,\"ticks\":\"\"}},\"type\":\"scatter\"}],\"scatter3d\":[{\"line\":{\"colorbar\":{\"outlinewidth\":0,\"ticks\":\"\"}},\"marker\":{\"colorbar\":{\"outlinewidth\":0,\"ticks\":\"\"}},\"type\":\"scatter3d\"}],\"scattercarpet\":[{\"marker\":{\"colorbar\":{\"outlinewidth\":0,\"ticks\":\"\"}},\"type\":\"scattercarpet\"}],\"scattergeo\":[{\"marker\":{\"colorbar\":{\"outlinewidth\":0,\"ticks\":\"\"}},\"type\":\"scattergeo\"}],\"scattergl\":[{\"marker\":{\"colorbar\":{\"outlinewidth\":0,\"ticks\":\"\"}},\"type\":\"scattergl\"}],\"scattermapbox\":[{\"marker\":{\"colorbar\":{\"outlinewidth\":0,\"ticks\":\"\"}},\"type\":\"scattermapbox\"}],\"scatterpolar\":[{\"marker\":{\"colorbar\":{\"outlinewidth\":0,\"ticks\":\"\"}},\"type\":\"scatterpolar\"}],\"scatterpolargl\":[{\"marker\":{\"colorbar\":{\"outlinewidth\":0,\"ticks\":\"\"}},\"type\":\"scatterpolargl\"}],\"scatterternary\":[{\"marker\":{\"colorbar\":{\"outlinewidth\":0,\"ticks\":\"\"}},\"type\":\"scatterternary\"}],\"surface\":[{\"colorbar\":{\"outlinewidth\":0,\"ticks\":\"\"},\"colorscale\":[[0.0,\"#0d0887\"],[0.1111111111111111,\"#46039f\"],[0.2222222222222222,\"#7201a8\"],[0.3333333333333333,\"#9c179e\"],[0.4444444444444444,\"#bd3786\"],[0.5555555555555556,\"#d8576b\"],[0.6666666666666666,\"#ed7953\"],[0.7777777777777778,\"#fb9f3a\"],[0.8888888888888888,\"#fdca26\"],[1.0,\"#f0f921\"]],\"type\":\"surface\"}],\"table\":[{\"cells\":{\"fill\":{\"color\":\"#EBF0F8\"},\"line\":{\"color\":\"white\"}},\"header\":{\"fill\":{\"color\":\"#C8D4E3\"},\"line\":{\"color\":\"white\"}},\"type\":\"table\"}]},\"layout\":{\"annotationdefaults\":{\"arrowcolor\":\"#2a3f5f\",\"arrowhead\":0,\"arrowwidth\":1},\"autotypenumbers\":\"strict\",\"coloraxis\":{\"colorbar\":{\"outlinewidth\":0,\"ticks\":\"\"}},\"colorscale\":{\"diverging\":[[0,\"#8e0152\"],[0.1,\"#c51b7d\"],[0.2,\"#de77ae\"],[0.3,\"#f1b6da\"],[0.4,\"#fde0ef\"],[0.5,\"#f7f7f7\"],[0.6,\"#e6f5d0\"],[0.7,\"#b8e186\"],[0.8,\"#7fbc41\"],[0.9,\"#4d9221\"],[1,\"#276419\"]],\"sequential\":[[0.0,\"#0d0887\"],[0.1111111111111111,\"#46039f\"],[0.2222222222222222,\"#7201a8\"],[0.3333333333333333,\"#9c179e\"],[0.4444444444444444,\"#bd3786\"],[0.5555555555555556,\"#d8576b\"],[0.6666666666666666,\"#ed7953\"],[0.7777777777777778,\"#fb9f3a\"],[0.8888888888888888,\"#fdca26\"],[1.0,\"#f0f921\"]],\"sequentialminus\":[[0.0,\"#0d0887\"],[0.1111111111111111,\"#46039f\"],[0.2222222222222222,\"#7201a8\"],[0.3333333333333333,\"#9c179e\"],[0.4444444444444444,\"#bd3786\"],[0.5555555555555556,\"#d8576b\"],[0.6666666666666666,\"#ed7953\"],[0.7777777777777778,\"#fb9f3a\"],[0.8888888888888888,\"#fdca26\"],[1.0,\"#f0f921\"]]},\"colorway\":[\"#636efa\",\"#EF553B\",\"#00cc96\",\"#ab63fa\",\"#FFA15A\",\"#19d3f3\",\"#FF6692\",\"#B6E880\",\"#FF97FF\",\"#FECB52\"],\"font\":{\"color\":\"#2a3f5f\"},\"geo\":{\"bgcolor\":\"white\",\"lakecolor\":\"white\",\"landcolor\":\"#E5ECF6\",\"showlakes\":true,\"showland\":true,\"subunitcolor\":\"white\"},\"hoverlabel\":{\"align\":\"left\"},\"hovermode\":\"closest\",\"mapbox\":{\"style\":\"light\"},\"paper_bgcolor\":\"white\",\"plot_bgcolor\":\"#E5ECF6\",\"polar\":{\"angularaxis\":{\"gridcolor\":\"white\",\"linecolor\":\"white\",\"ticks\":\"\"},\"bgcolor\":\"#E5ECF6\",\"radialaxis\":{\"gridcolor\":\"white\",\"linecolor\":\"white\",\"ticks\":\"\"}},\"scene\":{\"xaxis\":{\"backgroundcolor\":\"#E5ECF6\",\"gridcolor\":\"white\",\"gridwidth\":2,\"linecolor\":\"white\",\"showbackground\":true,\"ticks\":\"\",\"zerolinecolor\":\"white\"},\"yaxis\":{\"backgroundcolor\":\"#E5ECF6\",\"gridcolor\":\"white\",\"gridwidth\":2,\"linecolor\":\"white\",\"showbackground\":true,\"ticks\":\"\",\"zerolinecolor\":\"white\"},\"zaxis\":{\"backgroundcolor\":\"#E5ECF6\",\"gridcolor\":\"white\",\"gridwidth\":2,\"linecolor\":\"white\",\"showbackground\":true,\"ticks\":\"\",\"zerolinecolor\":\"white\"}},\"shapedefaults\":{\"line\":{\"color\":\"#2a3f5f\"}},\"ternary\":{\"aaxis\":{\"gridcolor\":\"white\",\"linecolor\":\"white\",\"ticks\":\"\"},\"baxis\":{\"gridcolor\":\"white\",\"linecolor\":\"white\",\"ticks\":\"\"},\"bgcolor\":\"#E5ECF6\",\"caxis\":{\"gridcolor\":\"white\",\"linecolor\":\"white\",\"ticks\":\"\"}},\"title\":{\"x\":0.05},\"xaxis\":{\"automargin\":true,\"gridcolor\":\"white\",\"linecolor\":\"white\",\"ticks\":\"\",\"title\":{\"standoff\":15},\"zerolinecolor\":\"white\",\"zerolinewidth\":2},\"yaxis\":{\"automargin\":true,\"gridcolor\":\"white\",\"linecolor\":\"white\",\"ticks\":\"\",\"title\":{\"standoff\":15},\"zerolinecolor\":\"white\",\"zerolinewidth\":2}}},\"legend\":{\"tracegroupgap\":0,\"itemclick\":false},\"title\":{\"text\":\"Metacritic punctuation based on the year release of the movie\"}},                        {\"responsive\": true}                    ).then(function(){\n",
       "                            \n",
       "var gd = document.getElementById('8441be4e-8367-4cff-b5bf-e9e8c242005a');\n",
       "var x = new MutationObserver(function (mutations, observer) {{\n",
       "        var display = window.getComputedStyle(gd).display;\n",
       "        if (!display || display === 'none') {{\n",
       "            console.log([gd, 'removed!']);\n",
       "            Plotly.purge(gd);\n",
       "            observer.disconnect();\n",
       "        }}\n",
       "}});\n",
       "\n",
       "// Listen for the removal of the full notebook cells\n",
       "var notebookContainer = gd.closest('#notebook-container');\n",
       "if (notebookContainer) {{\n",
       "    x.observe(notebookContainer, {childList: true});\n",
       "}}\n",
       "\n",
       "// Listen for the clearing of the current output cell\n",
       "var outputEl = gd.closest('.output');\n",
       "if (outputEl) {{\n",
       "    x.observe(outputEl, {childList: true});\n",
       "}}\n",
       "\n",
       "                        })                };                });            </script>        </div>"
      ]
     },
     "metadata": {},
     "output_type": "display_data"
    }
   ],
   "source": [
    "fig = px.pie(dfb, values='metacritic_punctuation', names='year_released',color= 'name', title='Metacritic punctuation based on the year release of the movie', hole=0.2 )\n",
    "fig.update_traces(textinfo=\"text\", insidetextfont=dict(color=\"black\") )\n",
    "fig.update_layout(legend={\"itemclick\":False})\n",
    "\n",
    "fig.show()"
   ]
  }
 ],
 "metadata": {
  "kernelspec": {
   "display_name": "Python 3 (ipykernel)",
   "language": "python",
   "name": "python3"
  },
  "language_info": {
   "codemirror_mode": {
    "name": "ipython",
    "version": 3
   },
   "file_extension": ".py",
   "mimetype": "text/x-python",
   "name": "python",
   "nbconvert_exporter": "python",
   "pygments_lexer": "ipython3",
   "version": "3.9.12"
  },
  "vscode": {
   "interpreter": {
    "hash": "31f2aee4e71d21fbe5cf8b01ff0e069b9275f58929596ceb00d14d90e3e16cd6"
   }
  }
 },
 "nbformat": 4,
 "nbformat_minor": 5
}
